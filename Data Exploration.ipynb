{
 "cells": [
  {
   "cell_type": "markdown",
   "metadata": {},
   "source": [
    "### CT Statewide House Sales Transactions\n",
    "This notebook is exploring the data from https://data.ct.gov/Housing-and-Development/Real-Estate-Sales-2001-2016/5mzw-sjtu?category=Housing-and-Development , which lists CT statewide sales transactions on individual properties from 2001-2016.\n",
    "* Note: this link includs a PDF that explains each of the NonUseCodes.\n",
    "\n",
    "My GitHub repository: https://github.com/jamiekasulis/ct_real_estate_sales, where you can view\n",
    "* The raw data file\n",
    "* The notebook I used to clean that file\n",
    "* The clean data files that I analyze here"
   ]
  },
  {
   "cell_type": "markdown",
   "metadata": {},
   "source": [
    "### Potential Inquiries\n",
    "* See where properties with multiple transactions gained and lost value --> (How many houses, how much value, by town, over different periods of time)\n",
    "* Foreclosures-- where and when have there been a lot?\n",
    "* Building of new developments? (Might be shown by selling many houses in a short period of time on a new road)\n",
    "* Signs of house flipping, i.e. a purchase and a sale for significantly more within a short period\n",
    "* Has recovery been different for different segments of the market (different price-range houses)?\n",
    "* Are there observable effects of the crumbling fundations in the northeastern part of CT?\n",
    "\n",
    "### Calculations\n",
    "* Adjust sales prices for inflation/season -- there is a Python package for seasonal adjustment\n",
    "* Take a close look at the assessment column\n",
    "* Each town's assessment rate, or look at a hosue's sale ratio relative to its town only\n",
    "* Distribution of house prices in given towns, or on given streets\n",
    "* Town-by-town medians, ranges\n",
    "\n",
    "### Themes\n",
    "* Recovery"
   ]
  },
  {
   "cell_type": "code",
   "execution_count": 1,
   "metadata": {},
   "outputs": [],
   "source": [
    "import pandas as pd\n",
    "import matplotlib\n",
    "%matplotlib inline"
   ]
  },
  {
   "cell_type": "markdown",
   "metadata": {},
   "source": [
    "#### Update MAX_YEAR when new data comes out."
   ]
  },
  {
   "cell_type": "code",
   "execution_count": 2,
   "metadata": {},
   "outputs": [],
   "source": [
    "MIN_YEAR = 2001\n",
    "MAX_YEAR = 2016 # update this when new data comes out"
   ]
  },
  {
   "cell_type": "code",
   "execution_count": 3,
   "metadata": {},
   "outputs": [],
   "source": [
    "def combine_data_into_master_df():\n",
    "    \"\"\"\n",
    "    Returns a DataFrame which combines all of the clean CSVs for each year.\n",
    "    \"\"\"\n",
    "    # Combine the year-by-year clean csvs, which are located at 'data/clean_data_20xx_listings.csv'\n",
    "    df = pd.read_csv('data/clean_data_' + str(MIN_YEAR) + '_listings.csv')\n",
    "    for year in range(MIN_YEAR+1, MAX_YEAR+1):\n",
    "        df = df.append(pd.read_csv('data/clean_data_' + str(year) + '_listings.csv'))\n",
    "\n",
    "    # Now remove the index column\n",
    "    #df = df.drop('Unnamed: 0', 1)\n",
    "    return df"
   ]
  },
  {
   "cell_type": "code",
   "execution_count": 4,
   "metadata": {},
   "outputs": [
    {
     "data": {
      "text/html": [
       "<div>\n",
       "<style scoped>\n",
       "    .dataframe tbody tr th:only-of-type {\n",
       "        vertical-align: middle;\n",
       "    }\n",
       "\n",
       "    .dataframe tbody tr th {\n",
       "        vertical-align: top;\n",
       "    }\n",
       "\n",
       "    .dataframe thead th {\n",
       "        text-align: right;\n",
       "    }\n",
       "</style>\n",
       "<table border=\"1\" class=\"dataframe\">\n",
       "  <thead>\n",
       "    <tr style=\"text-align: right;\">\n",
       "      <th></th>\n",
       "      <th>ID</th>\n",
       "      <th>SerialNumber</th>\n",
       "      <th>ListYear</th>\n",
       "      <th>DateRecorded</th>\n",
       "      <th>Town</th>\n",
       "      <th>Address</th>\n",
       "      <th>AssessedValue</th>\n",
       "      <th>SaleAmount</th>\n",
       "      <th>SalesRatio</th>\n",
       "      <th>PropertyType</th>\n",
       "      <th>ResidentialType</th>\n",
       "      <th>NonUseCode</th>\n",
       "      <th>Remarks</th>\n",
       "    </tr>\n",
       "  </thead>\n",
       "  <tbody>\n",
       "    <tr>\n",
       "      <th>0</th>\n",
       "      <td>684</td>\n",
       "      <td>10173</td>\n",
       "      <td>2001</td>\n",
       "      <td>04/17/2002 12:00:00 AM</td>\n",
       "      <td>Ansonia</td>\n",
       "      <td>1-3 EAGLE STREET</td>\n",
       "      <td>63630</td>\n",
       "      <td>116000.0</td>\n",
       "      <td>54.853448</td>\n",
       "      <td>Residential</td>\n",
       "      <td>Two Family</td>\n",
       "      <td>0</td>\n",
       "      <td>NaN</td>\n",
       "    </tr>\n",
       "    <tr>\n",
       "      <th>1</th>\n",
       "      <td>694</td>\n",
       "      <td>10005</td>\n",
       "      <td>2001</td>\n",
       "      <td>10/04/2001 12:00:00 AM</td>\n",
       "      <td>Ansonia</td>\n",
       "      <td>1 CRESTWOOD ROAD</td>\n",
       "      <td>76370</td>\n",
       "      <td>160000.0</td>\n",
       "      <td>47.731250</td>\n",
       "      <td>Residential</td>\n",
       "      <td>Single Family</td>\n",
       "      <td>0</td>\n",
       "      <td>NaN</td>\n",
       "    </tr>\n",
       "    <tr>\n",
       "      <th>2</th>\n",
       "      <td>697</td>\n",
       "      <td>10253</td>\n",
       "      <td>2001</td>\n",
       "      <td>06/18/2002 12:00:00 AM</td>\n",
       "      <td>Ansonia</td>\n",
       "      <td>1 DAVIES CT</td>\n",
       "      <td>97720</td>\n",
       "      <td>180000.0</td>\n",
       "      <td>54.288889</td>\n",
       "      <td>Residential</td>\n",
       "      <td>Single Family</td>\n",
       "      <td>0</td>\n",
       "      <td>NaN</td>\n",
       "    </tr>\n",
       "    <tr>\n",
       "      <th>3</th>\n",
       "      <td>698</td>\n",
       "      <td>10094</td>\n",
       "      <td>2001</td>\n",
       "      <td>01/17/2002 12:00:00 AM</td>\n",
       "      <td>Ansonia</td>\n",
       "      <td>1 DOREL TER</td>\n",
       "      <td>110600</td>\n",
       "      <td>259900.0</td>\n",
       "      <td>42.554829</td>\n",
       "      <td>Residential</td>\n",
       "      <td>Single Family</td>\n",
       "      <td>0</td>\n",
       "      <td>NaN</td>\n",
       "    </tr>\n",
       "    <tr>\n",
       "      <th>4</th>\n",
       "      <td>710</td>\n",
       "      <td>10100</td>\n",
       "      <td>2001</td>\n",
       "      <td>01/30/2002 12:00:00 AM</td>\n",
       "      <td>Ansonia</td>\n",
       "      <td>1 JAMES STREET</td>\n",
       "      <td>63210</td>\n",
       "      <td>132000.0</td>\n",
       "      <td>47.886364</td>\n",
       "      <td>Residential</td>\n",
       "      <td>Single Family</td>\n",
       "      <td>0</td>\n",
       "      <td>NaN</td>\n",
       "    </tr>\n",
       "  </tbody>\n",
       "</table>\n",
       "</div>"
      ],
      "text/plain": [
       "    ID  SerialNumber  ListYear            DateRecorded     Town  \\\n",
       "0  684         10173      2001  04/17/2002 12:00:00 AM  Ansonia   \n",
       "1  694         10005      2001  10/04/2001 12:00:00 AM  Ansonia   \n",
       "2  697         10253      2001  06/18/2002 12:00:00 AM  Ansonia   \n",
       "3  698         10094      2001  01/17/2002 12:00:00 AM  Ansonia   \n",
       "4  710         10100      2001  01/30/2002 12:00:00 AM  Ansonia   \n",
       "\n",
       "            Address  AssessedValue  SaleAmount  SalesRatio PropertyType  \\\n",
       "0  1-3 EAGLE STREET          63630    116000.0   54.853448  Residential   \n",
       "1  1 CRESTWOOD ROAD          76370    160000.0   47.731250  Residential   \n",
       "2       1 DAVIES CT          97720    180000.0   54.288889  Residential   \n",
       "3       1 DOREL TER         110600    259900.0   42.554829  Residential   \n",
       "4    1 JAMES STREET          63210    132000.0   47.886364  Residential   \n",
       "\n",
       "  ResidentialType  NonUseCode Remarks  \n",
       "0      Two Family           0     NaN  \n",
       "1   Single Family           0     NaN  \n",
       "2   Single Family           0     NaN  \n",
       "3   Single Family           0     NaN  \n",
       "4   Single Family           0     NaN  "
      ]
     },
     "execution_count": 4,
     "metadata": {},
     "output_type": "execute_result"
    }
   ],
   "source": [
    "df = combine_data_into_master_df()\n",
    "df.head()"
   ]
  },
  {
   "cell_type": "code",
   "execution_count": null,
   "metadata": {},
   "outputs": [],
   "source": [
    "df.tail()"
   ]
  },
  {
   "cell_type": "code",
   "execution_count": null,
   "metadata": {},
   "outputs": [],
   "source": [
    "# Make sure the IDs match the right rows from the original raw file\n",
    "df.sort_values('ID') # Looks good"
   ]
  },
  {
   "cell_type": "markdown",
   "metadata": {},
   "source": [
    "### Notes on the data frames\n",
    "* Use DataFrame 'df' if you want to look at ALL of the data\n",
    "* Use 'use_df' if you want to just look at the rows that don't have NonUseCodes. You should use use_df if you are calculating any statistics.\n",
    "* Use 'res_df' if you want to look at RESIDENTIAL properties (but not condos or apartments) that don't have NonUseCodes. Best way to observe the real estate market in general."
   ]
  },
  {
   "cell_type": "code",
   "execution_count": 5,
   "metadata": {},
   "outputs": [],
   "source": [
    "def get_residential(df):\n",
    "    \"\"\"\n",
    "    Returns just the residential properties.\n",
    "    \"\"\"\n",
    "    return df[df['PropertyType'] == 'Residential']\n",
    "\n",
    "def get_commercial(df):\n",
    "    \"\"\"\n",
    "    Returns just the commercial properties.\n",
    "    \"\"\"\n",
    "    return df[df['PropertyType'] == 'Commercial']"
   ]
  },
  {
   "cell_type": "code",
   "execution_count": 6,
   "metadata": {},
   "outputs": [],
   "source": [
    "use_df = df[df['NonUseCode'] < 1]\n",
    "res_df = get_residential(use_df)"
   ]
  },
  {
   "cell_type": "code",
   "execution_count": 7,
   "metadata": {},
   "outputs": [
    {
     "data": {
      "text/html": [
       "<div>\n",
       "<style scoped>\n",
       "    .dataframe tbody tr th:only-of-type {\n",
       "        vertical-align: middle;\n",
       "    }\n",
       "\n",
       "    .dataframe tbody tr th {\n",
       "        vertical-align: top;\n",
       "    }\n",
       "\n",
       "    .dataframe thead th {\n",
       "        text-align: right;\n",
       "    }\n",
       "</style>\n",
       "<table border=\"1\" class=\"dataframe\">\n",
       "  <thead>\n",
       "    <tr style=\"text-align: right;\">\n",
       "      <th></th>\n",
       "      <th>ID</th>\n",
       "      <th>SerialNumber</th>\n",
       "      <th>ListYear</th>\n",
       "      <th>DateRecorded</th>\n",
       "      <th>Town</th>\n",
       "      <th>Address</th>\n",
       "      <th>AssessedValue</th>\n",
       "      <th>SaleAmount</th>\n",
       "      <th>SalesRatio</th>\n",
       "      <th>PropertyType</th>\n",
       "      <th>ResidentialType</th>\n",
       "      <th>NonUseCode</th>\n",
       "      <th>Remarks</th>\n",
       "    </tr>\n",
       "  </thead>\n",
       "  <tbody>\n",
       "  </tbody>\n",
       "</table>\n",
       "</div>"
      ],
      "text/plain": [
       "Empty DataFrame\n",
       "Columns: [ID, SerialNumber, ListYear, DateRecorded, Town, Address, AssessedValue, SaleAmount, SalesRatio, PropertyType, ResidentialType, NonUseCode, Remarks]\n",
       "Index: []"
      ]
     },
     "execution_count": 7,
     "metadata": {},
     "output_type": "execute_result"
    }
   ],
   "source": [
    "# Check\n",
    "use_df[use_df['NonUseCode'] != -1]\n",
    "res_df[res_df['PropertyType'] != 'Residential']"
   ]
  },
  {
   "cell_type": "markdown",
   "metadata": {},
   "source": [
    "### Foreclosures-- where and when have there been a lot?\n",
    "Note: In order for this analysis to be truthfully valuable, you should do some kind of adjustment. This might be very complicated. (Adjusting by population fails to weigh folks living in apartments, for example.)"
   ]
  },
  {
   "cell_type": "code",
   "execution_count": null,
   "metadata": {
    "scrolled": true
   },
   "outputs": [],
   "source": [
    "# How many foreclosures on properties 2001-2016?\n",
    "foreclosures = df[df['NonUseCode'] == 14]\n",
    "print(\"Number of properties that have been foreclosed on: %d\" %len(foreclosures['Address'].unique()))"
   ]
  },
  {
   "cell_type": "markdown",
   "metadata": {},
   "source": [
    "#### Make a function to return a DataFrame that ranks towns by most foreclosures."
   ]
  },
  {
   "cell_type": "code",
   "execution_count": null,
   "metadata": {},
   "outputs": [],
   "source": [
    "def count_foreclosures_by_town(df, town, years=(MIN_YEAR, MAX_YEAR), property_type = 'Residential'):\n",
    "    \"\"\"\n",
    "    Returns a subset of df of foreclosed properties from town.\n",
    "    Is a helper function for make_foreclosures_by_town_dict()\n",
    "    \"\"\"\n",
    "    # Make sure proper arguments passed\n",
    "    if property_type not in ['Residential', 'Commercial', 'All']:\n",
    "        raise Exception(\"Not a valid property_type.\")\n",
    "        return\n",
    "    if years[0] < MIN_YEAR or years[1] > MAX_YEAR:\n",
    "        raise Exception(\"Not a valid year range\")\n",
    "        return\n",
    "    \n",
    "    else:\n",
    "        # Convert year range to a list of all years in that range\n",
    "        years = list(range(years[0], years[1]+1))\n",
    "    \n",
    "    subset = df[(df['Town'] == town) & (df['ListYear'].isin(years)) & (df['NonUseCode'] == 14)]\n",
    "    return subset"
   ]
  },
  {
   "cell_type": "code",
   "execution_count": null,
   "metadata": {},
   "outputs": [],
   "source": [
    "def make_foreclosures_by_town_dict(df, years=(MIN_YEAR, MAX_YEAR), property_type = 'Residential'):\n",
    "    \"\"\"\n",
    "    Returns a dictionary with keys = town name and value = number of foreclosures.\n",
    "    This function feeds make_rankings_df_from_dict.\n",
    "    \"\"\"\n",
    "    foreclosure_ranks_by_town = {}\n",
    "    for town in df['Town'].unique():\n",
    "        if town not in foreclosure_ranks_by_town.keys():\n",
    "            foreclosure_ranks_by_town[town] = len(count_foreclosures_by_town(df, town, years, property_type))\n",
    "    return foreclosure_ranks_by_town"
   ]
  },
  {
   "cell_type": "code",
   "execution_count": null,
   "metadata": {},
   "outputs": [],
   "source": [
    "def make_rankings_df_from_dict(dictionary, value_name):\n",
    "    \"\"\"\n",
    "    Makes a dataframe out of a dictionary. First column name is 'Town' and second is value_name.\n",
    "    dictionary should be produced by an explicit call to make_foreclosures_by_town_dict.\n",
    "    \"\"\"\n",
    "    df = pd.DataFrame.from_dict(data=dictionary, orient='index') # make initial df\n",
    "    df['Town'] = df.index # pull index out into its own column\n",
    "    df.columns = [value_name, 'Town'] # Set column names\n",
    "    df = df[['Town', value_name]] # Reorder the columns\n",
    "    \n",
    "    df = df.sort_values(value_name, ascending=False, ) # Sort\n",
    "    df = df.reset_index(drop=True)\n",
    "    \n",
    "    return df"
   ]
  },
  {
   "cell_type": "code",
   "execution_count": null,
   "metadata": {},
   "outputs": [],
   "source": [
    "def rank_towns_by_foreclosure_count(df, years=(MIN_YEAR, MAX_YEAR), property_type = 'Residential'):\n",
    "    \"\"\"\n",
    "    Returns a dataframe of each town and the number of foreclosures they experienced in the range 'years'.\n",
    "    Descending order. Index+1 can serve as the rank.\n",
    "    The only function you should have to explicitly call to do this. All helper functions are called within.\n",
    "    \"\"\"\n",
    "    return make_rankings_df_from_dict(make_foreclosures_by_town_dict(df), 'Foreclosures')"
   ]
  },
  {
   "cell_type": "code",
   "execution_count": null,
   "metadata": {},
   "outputs": [],
   "source": [
    "# Dataframe of foreclosure rankings by town, all years (MIN_YEAR to MAX_YEAR)\n",
    "fc_rankings_town_all_years = rank_towns_by_foreclosure_count(df)"
   ]
  },
  {
   "cell_type": "code",
   "execution_count": null,
   "metadata": {},
   "outputs": [],
   "source": [
    "fc_rankings_town_all_years.head()"
   ]
  },
  {
   "cell_type": "markdown",
   "metadata": {},
   "source": [
    "### Calculate town-by-town statistics\n",
    "* Median assessed value\n",
    "* Median sale amount\n",
    "* Median sales ratio\n",
    "\n",
    "### Dataframes:\n",
    "* town_df for all residential properties without NonUseCodes in time range MINYEAR - MAXYEAR"
   ]
  },
  {
   "cell_type": "code",
   "execution_count": 8,
   "metadata": {},
   "outputs": [],
   "source": [
    "# Make a dataframe with each town. We will store summary statistics in this dataframe.\n",
    "town_df = pd.DataFrame(columns=['Town', 'MedianAssessedValue', 'MedianSaleAmount', 'MedianSalesRatio',\n",
    "                               'MinAssessedValue', 'MaxAssessedValue', 'MinSaleAmount', 'MaxSaleAmount',\n",
    "                               'MinSalesRatio', 'MaxSalesRatio'])\n",
    "town_df['Town'] = df['Town'].unique()"
   ]
  },
  {
   "cell_type": "code",
   "execution_count": 9,
   "metadata": {},
   "outputs": [
    {
     "data": {
      "text/html": [
       "<div>\n",
       "<style scoped>\n",
       "    .dataframe tbody tr th:only-of-type {\n",
       "        vertical-align: middle;\n",
       "    }\n",
       "\n",
       "    .dataframe tbody tr th {\n",
       "        vertical-align: top;\n",
       "    }\n",
       "\n",
       "    .dataframe thead th {\n",
       "        text-align: right;\n",
       "    }\n",
       "</style>\n",
       "<table border=\"1\" class=\"dataframe\">\n",
       "  <thead>\n",
       "    <tr style=\"text-align: right;\">\n",
       "      <th></th>\n",
       "      <th>Town</th>\n",
       "      <th>MedianAssessedValue</th>\n",
       "      <th>MedianSaleAmount</th>\n",
       "      <th>MedianSalesRatio</th>\n",
       "      <th>MinAssessedValue</th>\n",
       "      <th>MaxAssessedValue</th>\n",
       "      <th>MinSaleAmount</th>\n",
       "      <th>MaxSaleAmount</th>\n",
       "      <th>MinSalesRatio</th>\n",
       "      <th>MaxSalesRatio</th>\n",
       "    </tr>\n",
       "  </thead>\n",
       "  <tbody>\n",
       "    <tr>\n",
       "      <th>0</th>\n",
       "      <td>Ansonia</td>\n",
       "      <td>NaN</td>\n",
       "      <td>NaN</td>\n",
       "      <td>NaN</td>\n",
       "      <td>NaN</td>\n",
       "      <td>NaN</td>\n",
       "      <td>NaN</td>\n",
       "      <td>NaN</td>\n",
       "      <td>NaN</td>\n",
       "      <td>NaN</td>\n",
       "    </tr>\n",
       "    <tr>\n",
       "      <th>1</th>\n",
       "      <td>Ashford</td>\n",
       "      <td>NaN</td>\n",
       "      <td>NaN</td>\n",
       "      <td>NaN</td>\n",
       "      <td>NaN</td>\n",
       "      <td>NaN</td>\n",
       "      <td>NaN</td>\n",
       "      <td>NaN</td>\n",
       "      <td>NaN</td>\n",
       "      <td>NaN</td>\n",
       "    </tr>\n",
       "    <tr>\n",
       "      <th>2</th>\n",
       "      <td>Avon</td>\n",
       "      <td>NaN</td>\n",
       "      <td>NaN</td>\n",
       "      <td>NaN</td>\n",
       "      <td>NaN</td>\n",
       "      <td>NaN</td>\n",
       "      <td>NaN</td>\n",
       "      <td>NaN</td>\n",
       "      <td>NaN</td>\n",
       "      <td>NaN</td>\n",
       "    </tr>\n",
       "    <tr>\n",
       "      <th>3</th>\n",
       "      <td>Barkhamsted</td>\n",
       "      <td>NaN</td>\n",
       "      <td>NaN</td>\n",
       "      <td>NaN</td>\n",
       "      <td>NaN</td>\n",
       "      <td>NaN</td>\n",
       "      <td>NaN</td>\n",
       "      <td>NaN</td>\n",
       "      <td>NaN</td>\n",
       "      <td>NaN</td>\n",
       "    </tr>\n",
       "    <tr>\n",
       "      <th>4</th>\n",
       "      <td>Berlin</td>\n",
       "      <td>NaN</td>\n",
       "      <td>NaN</td>\n",
       "      <td>NaN</td>\n",
       "      <td>NaN</td>\n",
       "      <td>NaN</td>\n",
       "      <td>NaN</td>\n",
       "      <td>NaN</td>\n",
       "      <td>NaN</td>\n",
       "      <td>NaN</td>\n",
       "    </tr>\n",
       "    <tr>\n",
       "      <th>5</th>\n",
       "      <td>Bethany</td>\n",
       "      <td>NaN</td>\n",
       "      <td>NaN</td>\n",
       "      <td>NaN</td>\n",
       "      <td>NaN</td>\n",
       "      <td>NaN</td>\n",
       "      <td>NaN</td>\n",
       "      <td>NaN</td>\n",
       "      <td>NaN</td>\n",
       "      <td>NaN</td>\n",
       "    </tr>\n",
       "    <tr>\n",
       "      <th>6</th>\n",
       "      <td>Bethel</td>\n",
       "      <td>NaN</td>\n",
       "      <td>NaN</td>\n",
       "      <td>NaN</td>\n",
       "      <td>NaN</td>\n",
       "      <td>NaN</td>\n",
       "      <td>NaN</td>\n",
       "      <td>NaN</td>\n",
       "      <td>NaN</td>\n",
       "      <td>NaN</td>\n",
       "    </tr>\n",
       "    <tr>\n",
       "      <th>7</th>\n",
       "      <td>Bethlehem</td>\n",
       "      <td>NaN</td>\n",
       "      <td>NaN</td>\n",
       "      <td>NaN</td>\n",
       "      <td>NaN</td>\n",
       "      <td>NaN</td>\n",
       "      <td>NaN</td>\n",
       "      <td>NaN</td>\n",
       "      <td>NaN</td>\n",
       "      <td>NaN</td>\n",
       "    </tr>\n",
       "    <tr>\n",
       "      <th>8</th>\n",
       "      <td>Bloomfield</td>\n",
       "      <td>NaN</td>\n",
       "      <td>NaN</td>\n",
       "      <td>NaN</td>\n",
       "      <td>NaN</td>\n",
       "      <td>NaN</td>\n",
       "      <td>NaN</td>\n",
       "      <td>NaN</td>\n",
       "      <td>NaN</td>\n",
       "      <td>NaN</td>\n",
       "    </tr>\n",
       "    <tr>\n",
       "      <th>9</th>\n",
       "      <td>Bolton</td>\n",
       "      <td>NaN</td>\n",
       "      <td>NaN</td>\n",
       "      <td>NaN</td>\n",
       "      <td>NaN</td>\n",
       "      <td>NaN</td>\n",
       "      <td>NaN</td>\n",
       "      <td>NaN</td>\n",
       "      <td>NaN</td>\n",
       "      <td>NaN</td>\n",
       "    </tr>\n",
       "  </tbody>\n",
       "</table>\n",
       "</div>"
      ],
      "text/plain": [
       "          Town MedianAssessedValue MedianSaleAmount MedianSalesRatio  \\\n",
       "0      Ansonia                 NaN              NaN              NaN   \n",
       "1      Ashford                 NaN              NaN              NaN   \n",
       "2         Avon                 NaN              NaN              NaN   \n",
       "3  Barkhamsted                 NaN              NaN              NaN   \n",
       "4       Berlin                 NaN              NaN              NaN   \n",
       "5      Bethany                 NaN              NaN              NaN   \n",
       "6       Bethel                 NaN              NaN              NaN   \n",
       "7    Bethlehem                 NaN              NaN              NaN   \n",
       "8   Bloomfield                 NaN              NaN              NaN   \n",
       "9       Bolton                 NaN              NaN              NaN   \n",
       "\n",
       "  MinAssessedValue MaxAssessedValue MinSaleAmount MaxSaleAmount MinSalesRatio  \\\n",
       "0              NaN              NaN           NaN           NaN           NaN   \n",
       "1              NaN              NaN           NaN           NaN           NaN   \n",
       "2              NaN              NaN           NaN           NaN           NaN   \n",
       "3              NaN              NaN           NaN           NaN           NaN   \n",
       "4              NaN              NaN           NaN           NaN           NaN   \n",
       "5              NaN              NaN           NaN           NaN           NaN   \n",
       "6              NaN              NaN           NaN           NaN           NaN   \n",
       "7              NaN              NaN           NaN           NaN           NaN   \n",
       "8              NaN              NaN           NaN           NaN           NaN   \n",
       "9              NaN              NaN           NaN           NaN           NaN   \n",
       "\n",
       "  MaxSalesRatio  \n",
       "0           NaN  \n",
       "1           NaN  \n",
       "2           NaN  \n",
       "3           NaN  \n",
       "4           NaN  \n",
       "5           NaN  \n",
       "6           NaN  \n",
       "7           NaN  \n",
       "8           NaN  \n",
       "9           NaN  "
      ]
     },
     "execution_count": 9,
     "metadata": {},
     "output_type": "execute_result"
    }
   ],
   "source": [
    "town_df.head(10)"
   ]
  },
  {
   "cell_type": "code",
   "execution_count": 10,
   "metadata": {},
   "outputs": [],
   "source": [
    "def calculate_median_for_town(source_df, town, column, residential=True):\n",
    "    \"\"\"\n",
    "    Calculates the median value of 'column' for a given town from df.\n",
    "    NOTE: This is the median assessed value for SOLD properties. Will be\n",
    "    different from the median assessed value for ALL properties.\n",
    "    \n",
    "    source_df should omit properties with a NonUseCode.\n",
    "    \"\"\"\n",
    "    just_this_town = source_df[source_df['Town'] == town]\n",
    "    \n",
    "    if residential==True:\n",
    "        just_this_town = get_residential(just_this_town)\n",
    "    \n",
    "    return just_this_town[column].median()"
   ]
  },
  {
   "cell_type": "code",
   "execution_count": 11,
   "metadata": {},
   "outputs": [],
   "source": [
    "def calculate_medians_for_all_towns(town_df_arg, source_df, column, residential=True):\n",
    "    \"\"\"\n",
    "    Calculates the median value of 'column' for ALL unique towns in df.\n",
    "    Returns this information as a DataFrame\n",
    "    \"\"\"\n",
    "    median_column_name = 'Median' + column\n",
    "    new_town_df = town_df_arg.copy()\n",
    "    for index in new_town_df.index:\n",
    "        town = new_town_df.loc[index, 'Town']\n",
    "        new_town_df.loc[index, median_column_name] = calculate_median_for_town(source_df, town, column, residential)\n",
    "    \n",
    "    return new_town_df"
   ]
  },
  {
   "cell_type": "code",
   "execution_count": 12,
   "metadata": {},
   "outputs": [],
   "source": [
    "town_df = calculate_medians_for_all_towns(town_df, res_df, 'AssessedValue')"
   ]
  },
  {
   "cell_type": "code",
   "execution_count": null,
   "metadata": {},
   "outputs": [],
   "source": [
    "town_df.head(10)"
   ]
  },
  {
   "cell_type": "code",
   "execution_count": 13,
   "metadata": {},
   "outputs": [],
   "source": [
    "town_df = calculate_medians_for_all_towns(town_df, res_df, 'SaleAmount')\n",
    "town_df = calculate_medians_for_all_towns(town_df, res_df, 'SalesRatio')"
   ]
  },
  {
   "cell_type": "code",
   "execution_count": null,
   "metadata": {},
   "outputs": [],
   "source": [
    "town_df.head(10)"
   ]
  },
  {
   "cell_type": "code",
   "execution_count": null,
   "metadata": {},
   "outputs": [],
   "source": [
    "# Let's check to make sure the numbers match.\n",
    "berlin_sales = res_df[(res_df['Town'] == 'Berlin') & (res_df['PropertyType'] == 'Residential')]\n",
    "print(berlin_sales['AssessedValue'].median())\n",
    "print(berlin_sales['SaleAmount'].median())\n",
    "print(berlin_sales['SalesRatio'].median())"
   ]
  },
  {
   "cell_type": "code",
   "execution_count": null,
   "metadata": {},
   "outputs": [],
   "source": [
    "avon_sales = res_df[(res_df['Town'] == 'Avon') & (res_df['PropertyType'] == 'Residential')]\n",
    "print(avon_sales['AssessedValue'].median())\n",
    "print(avon_sales['SaleAmount'].median())\n",
    "print(avon_sales['SalesRatio'].median())"
   ]
  },
  {
   "cell_type": "markdown",
   "metadata": {},
   "source": [
    "### Calculate SalesRatio\n",
    "If my calculation of it is the same, then they use their SaleAmount to calculate it. Otherwise, they are using a market estimation.\n",
    "\n",
    "*Data page defines SalesRatio as 'Ratio of the sale price to the assessed value.' I want to know if 'sales price' refers to SalesAmount or not.*"
   ]
  },
  {
   "cell_type": "code",
   "execution_count": null,
   "metadata": {},
   "outputs": [],
   "source": [
    "res_df[['Address', 'AssessedValue', 'SaleAmount', 'SalesRatio']].head(5)"
   ]
  },
  {
   "cell_type": "markdown",
   "metadata": {},
   "source": [
    "I'll calculate SalesRatio myself and compare them side-by-side."
   ]
  },
  {
   "cell_type": "code",
   "execution_count": null,
   "metadata": {},
   "outputs": [],
   "source": [
    "res_df_testing = res_df.copy()\n",
    "res_df_testing['MySalesRatio'] = res_df_testing['AssessedValue'] / res_df_testing['SaleAmount']\n",
    "res_df_testing[['SalesRatio', 'MySalesRatio']].head()"
   ]
  },
  {
   "cell_type": "markdown",
   "metadata": {},
   "source": [
    "For some reason, the first row has a SalesRatio of 0 when it doesn't seem like it should be. Could be an error when the data was entered."
   ]
  },
  {
   "cell_type": "markdown",
   "metadata": {},
   "source": [
    "### Calculate minimum and maximum sale amounts for each town"
   ]
  },
  {
   "cell_type": "code",
   "execution_count": 14,
   "metadata": {},
   "outputs": [],
   "source": [
    "def get_town_min(source_df, town_df, town, column):\n",
    "    \"\"\"\n",
    "    Finds the row with the minimum value of column for a given town in source_df.\n",
    "    Saves this to town_df (as a separate copy).\n",
    "    \n",
    "    source_df should be residential properties w/o NonUseCodes if you are using res_df.\n",
    "    \"\"\"\n",
    "    just_this_town = source_df[source_df['Town'] == town] # get the data for just this town\n",
    "    \n",
    "    min_val = just_this_town[column] # a list of values to find the minimum from\n",
    "    min_val = min_val.min() # Grab the minimum column value\n",
    "    min_row = just_this_town[just_this_town[column] == min_val] # Grab the row\n",
    "    return min_row"
   ]
  },
  {
   "cell_type": "code",
   "execution_count": null,
   "metadata": {},
   "outputs": [],
   "source": [
    "get_town_min(res_df, town_df, 'Berlin', 'SaleAmount')"
   ]
  },
  {
   "cell_type": "code",
   "execution_count": 15,
   "metadata": {},
   "outputs": [],
   "source": [
    "def get_town_max(source_df, town_df, town, column):\n",
    "    \"\"\"\n",
    "    Finds the row with the maximum value of column for a given town in source_df.\n",
    "    Saves this to town_df (as a separate copy).\n",
    "    \n",
    "    source_df should be residential properties w/o NonUseCodes if you are using res_df.\n",
    "    \"\"\"\n",
    "    just_this_town = source_df[source_df['Town'] == town] # get the data for just this town\n",
    "    \n",
    "    town_df = just_this_town[column] # a list of values to find the minimum from\n",
    "    max_val = town_df.max() # Grab the minimum column value\n",
    "    max_row = just_this_town[just_this_town[column] == max_val] # Grab the row\n",
    "    return max_row"
   ]
  },
  {
   "cell_type": "code",
   "execution_count": null,
   "metadata": {},
   "outputs": [],
   "source": [
    "get_town_max(res_df, town_df, 'Berlin', 'SaleAmount')"
   ]
  },
  {
   "cell_type": "code",
   "execution_count": 16,
   "metadata": {},
   "outputs": [],
   "source": [
    "def calculate_town_mins_and_maxes(source_df, town_df, column):\n",
    "    \"\"\"\n",
    "    Will use the data from source_df to calculate mins and maxes for column for every town.\n",
    "    \"\"\"\n",
    "    new_town_df = town_df.copy()\n",
    "    \n",
    "    # Calculate min and max for each town\n",
    "    for index in town_df.index:\n",
    "        max_val = get_town_max(source_df, town_df, town_df.loc[index, 'Town'], column)[column].iloc[0]\n",
    "        min_val = get_town_min(source_df, town_df, town_df.loc[index, 'Town'], column)[column].iloc[0]\n",
    "    \n",
    "        # Add to new_town_df\n",
    "        min_column_name = 'Min' + column\n",
    "        max_column_name = 'Max' + column\n",
    "        new_town_df.loc[index, min_column_name] = min_val\n",
    "        new_town_df.loc[index, max_column_name] = max_val\n",
    "    \n",
    "    return new_town_df"
   ]
  },
  {
   "cell_type": "code",
   "execution_count": 17,
   "metadata": {},
   "outputs": [
    {
     "data": {
      "text/html": [
       "<div>\n",
       "<style scoped>\n",
       "    .dataframe tbody tr th:only-of-type {\n",
       "        vertical-align: middle;\n",
       "    }\n",
       "\n",
       "    .dataframe tbody tr th {\n",
       "        vertical-align: top;\n",
       "    }\n",
       "\n",
       "    .dataframe thead th {\n",
       "        text-align: right;\n",
       "    }\n",
       "</style>\n",
       "<table border=\"1\" class=\"dataframe\">\n",
       "  <thead>\n",
       "    <tr style=\"text-align: right;\">\n",
       "      <th></th>\n",
       "      <th>Town</th>\n",
       "      <th>MedianAssessedValue</th>\n",
       "      <th>MedianSaleAmount</th>\n",
       "      <th>MedianSalesRatio</th>\n",
       "      <th>MinAssessedValue</th>\n",
       "      <th>MaxAssessedValue</th>\n",
       "      <th>MinSaleAmount</th>\n",
       "      <th>MaxSaleAmount</th>\n",
       "      <th>MinSalesRatio</th>\n",
       "      <th>MaxSalesRatio</th>\n",
       "    </tr>\n",
       "  </thead>\n",
       "  <tbody>\n",
       "    <tr>\n",
       "      <th>0</th>\n",
       "      <td>Ansonia</td>\n",
       "      <td>112600</td>\n",
       "      <td>207000</td>\n",
       "      <td>1.4554</td>\n",
       "      <td>23600</td>\n",
       "      <td>312600</td>\n",
       "      <td>20100</td>\n",
       "      <td>710000</td>\n",
       "      <td>0.271374</td>\n",
       "      <td>129.145</td>\n",
       "    </tr>\n",
       "    <tr>\n",
       "      <th>1</th>\n",
       "      <td>Ashford</td>\n",
       "      <td>121700</td>\n",
       "      <td>199900</td>\n",
       "      <td>0.904245</td>\n",
       "      <td>27640</td>\n",
       "      <td>1094690</td>\n",
       "      <td>40000</td>\n",
       "      <td>4.025e+06</td>\n",
       "      <td>0.256527</td>\n",
       "      <td>124.14</td>\n",
       "    </tr>\n",
       "    <tr>\n",
       "      <th>2</th>\n",
       "      <td>Avon</td>\n",
       "      <td>266180</td>\n",
       "      <td>417500</td>\n",
       "      <td>0.791192</td>\n",
       "      <td>3500</td>\n",
       "      <td>2896370</td>\n",
       "      <td>7500</td>\n",
       "      <td>5e+06</td>\n",
       "      <td>0.180948</td>\n",
       "      <td>112.09</td>\n",
       "    </tr>\n",
       "    <tr>\n",
       "      <th>3</th>\n",
       "      <td>Barkhamsted</td>\n",
       "      <td>139195</td>\n",
       "      <td>238250</td>\n",
       "      <td>0.896428</td>\n",
       "      <td>22160</td>\n",
       "      <td>440750</td>\n",
       "      <td>15000</td>\n",
       "      <td>700000</td>\n",
       "      <td>0.408118</td>\n",
       "      <td>155.267</td>\n",
       "    </tr>\n",
       "    <tr>\n",
       "      <th>4</th>\n",
       "      <td>Berlin</td>\n",
       "      <td>155900</td>\n",
       "      <td>253500</td>\n",
       "      <td>0.759083</td>\n",
       "      <td>0</td>\n",
       "      <td>1571000</td>\n",
       "      <td>4000</td>\n",
       "      <td>1.35608e+06</td>\n",
       "      <td>0</td>\n",
       "      <td>100.88</td>\n",
       "    </tr>\n",
       "  </tbody>\n",
       "</table>\n",
       "</div>"
      ],
      "text/plain": [
       "          Town MedianAssessedValue MedianSaleAmount MedianSalesRatio  \\\n",
       "0      Ansonia              112600           207000           1.4554   \n",
       "1      Ashford              121700           199900         0.904245   \n",
       "2         Avon              266180           417500         0.791192   \n",
       "3  Barkhamsted              139195           238250         0.896428   \n",
       "4       Berlin              155900           253500         0.759083   \n",
       "\n",
       "  MinAssessedValue MaxAssessedValue MinSaleAmount MaxSaleAmount MinSalesRatio  \\\n",
       "0            23600           312600         20100        710000      0.271374   \n",
       "1            27640          1094690         40000     4.025e+06      0.256527   \n",
       "2             3500          2896370          7500         5e+06      0.180948   \n",
       "3            22160           440750         15000        700000      0.408118   \n",
       "4                0          1571000          4000   1.35608e+06             0   \n",
       "\n",
       "  MaxSalesRatio  \n",
       "0       129.145  \n",
       "1        124.14  \n",
       "2        112.09  \n",
       "3       155.267  \n",
       "4        100.88  "
      ]
     },
     "execution_count": 17,
     "metadata": {},
     "output_type": "execute_result"
    }
   ],
   "source": [
    "town_df = calculate_town_mins_and_maxes(res_df, town_df, 'SaleAmount')\n",
    "town_df = calculate_town_mins_and_maxes(res_df, town_df, 'SalesRatio')\n",
    "town_df = calculate_town_mins_and_maxes(res_df, town_df, 'AssessedValue')\n",
    "town_df.head(5)"
   ]
  },
  {
   "cell_type": "code",
   "execution_count": 18,
   "metadata": {},
   "outputs": [
    {
     "name": "stdout",
     "output_type": "stream",
     "text": [
      "Stored 'town_df' (DataFrame)\n"
     ]
    }
   ],
   "source": [
    "%store town_df"
   ]
  },
  {
   "cell_type": "code",
   "execution_count": null,
   "metadata": {},
   "outputs": [],
   "source": [
    "get_town_max(res_df, town_df, 'Ansonia', 'SalesRatio')"
   ]
  },
  {
   "cell_type": "code",
   "execution_count": null,
   "metadata": {},
   "outputs": [],
   "source": [
    "get_town_min(res_df, town_df, 'Ansonia', 'SalesRatio')"
   ]
  },
  {
   "cell_type": "code",
   "execution_count": null,
   "metadata": {},
   "outputs": [],
   "source": [
    "get_town_max(res_df, town_df, 'Ansonia', 'AssessedValue')"
   ]
  },
  {
   "cell_type": "code",
   "execution_count": null,
   "metadata": {},
   "outputs": [],
   "source": [
    "get_town_min(res_df, town_df, 'Ansonia', 'AssessedValue')"
   ]
  },
  {
   "cell_type": "code",
   "execution_count": null,
   "metadata": {},
   "outputs": [],
   "source": [
    "ansonia = res_df[res_df['Town'] == 'Ansonia']\n",
    "ansonia.sort_values('SalesRatio', ascending=True)\n",
    "ansonia.sort_values('SalesRatio', ascending=False)\n",
    "ansonia.sort_values('AssessedValue', ascending=True)\n",
    "ansonia.sort_values('AssessedValue', ascending=False)\n",
    "# Looks good."
   ]
  },
  {
   "cell_type": "code",
   "execution_count": null,
   "metadata": {},
   "outputs": [],
   "source": [
    "town_df.head(10)"
   ]
  },
  {
   "cell_type": "code",
   "execution_count": null,
   "metadata": {},
   "outputs": [],
   "source": [
    "town_df.sort_values('MedianSaleAmount', ascending=False)"
   ]
  },
  {
   "cell_type": "markdown",
   "metadata": {},
   "source": [
    "### These medians, mins, and maxes use data from all of the years.\n",
    "Should I also be able to select just a particular year...?"
   ]
  },
  {
   "cell_type": "markdown",
   "metadata": {},
   "source": [
    "### Time series\n",
    "I want to be able to...\n",
    "* Make the time series for a town's SaleAmount, MIN_YEAR to MAX_YEAR"
   ]
  },
  {
   "cell_type": "code",
   "execution_count": null,
   "metadata": {},
   "outputs": [],
   "source": [
    "def get_years_median(column, year, town='Connecticut', source_df=res_df):\n",
    "    \"\"\"\n",
    "    Returns the median value of column for town from year, using data from source_df, as a list.\n",
    "    \"\"\"\n",
    "    \n",
    "    if town != 'Connecticut':\n",
    "        # Get the rows for this town in the given year\n",
    "        just_this_town = source_df[source_df['Town'] == town]\n",
    "    else:\n",
    "        # Look at all the data from the state\n",
    "        just_this_town = source_df\n",
    "\n",
    "    # Grab just the year you want\n",
    "    town_by_year = just_this_town[just_this_town['ListYear'] == year]\n",
    "\n",
    "    # Calculate and return the median\n",
    "    median = town_by_year[column].median()\n",
    "    if median == 'nan':\n",
    "        return -1\n",
    "    else:\n",
    "        return median"
   ]
  },
  {
   "cell_type": "code",
   "execution_count": null,
   "metadata": {},
   "outputs": [],
   "source": [
    "get_years_median('SaleAmount', 2006, 'Berlin')"
   ]
  },
  {
   "cell_type": "code",
   "execution_count": null,
   "metadata": {},
   "outputs": [],
   "source": [
    "def median_timeseries(column, town='Connecticut', startyear=MIN_YEAR, endyear=MAX_YEAR, source_df=res_df):\n",
    "    \"\"\"\n",
    "    Returns a time series for a particular town and column, from start year to endyear.\n",
    "    Values are the median of column.\n",
    "    Grabs the data from source_df.\n",
    "    \"\"\"\n",
    "    # Make the DataFrame's attributes\n",
    "    index = list(range(startyear, endyear+1))\n",
    "    columns = [town]\n",
    "    \n",
    "    # Generate a list of medians using helper function\n",
    "    list_of_medians = []\n",
    "    for year in index:\n",
    "        list_of_medians.append(get_years_median(column, year, town))\n",
    "        \n",
    "    return pd.DataFrame(data=list_of_medians, index=index, columns=columns)"
   ]
  },
  {
   "cell_type": "code",
   "execution_count": null,
   "metadata": {},
   "outputs": [],
   "source": [
    "median_timeseries( 'SaleAmount', 'Berlin')"
   ]
  },
  {
   "cell_type": "code",
   "execution_count": null,
   "metadata": {},
   "outputs": [],
   "source": [
    "median_timeseries('SaleAmount', 'Ansonia')"
   ]
  },
  {
   "cell_type": "code",
   "execution_count": null,
   "metadata": {},
   "outputs": [],
   "source": [
    "res_df[res_df['ListYear'] == 2001]\n",
    "df[df['ListYear'] == 2001]"
   ]
  },
  {
   "cell_type": "code",
   "execution_count": null,
   "metadata": {},
   "outputs": [],
   "source": [
    "median_timeseries('SaleAmount', 'Ansonia')"
   ]
  },
  {
   "cell_type": "code",
   "execution_count": null,
   "metadata": {},
   "outputs": [],
   "source": [
    "median_timeseries('SaleAmount', 'Hartford')"
   ]
  },
  {
   "cell_type": "code",
   "execution_count": null,
   "metadata": {},
   "outputs": [],
   "source": [
    "median_timeseries('SaleAmount', 'Hartford').plot()"
   ]
  },
  {
   "cell_type": "code",
   "execution_count": null,
   "metadata": {},
   "outputs": [],
   "source": [
    "median_timeseries('SaleAmount', 'Meriden').plot()"
   ]
  },
  {
   "cell_type": "code",
   "execution_count": null,
   "metadata": {},
   "outputs": [],
   "source": [
    "median_timeseries('SaleAmount', 'Milford').plot()"
   ]
  },
  {
   "cell_type": "code",
   "execution_count": null,
   "metadata": {},
   "outputs": [],
   "source": [
    "median_timeseries('SaleAmount') # Connecticut"
   ]
  },
  {
   "cell_type": "code",
   "execution_count": null,
   "metadata": {},
   "outputs": [],
   "source": [
    "median_timeseries('SaleAmount').plot()"
   ]
  },
  {
   "cell_type": "markdown",
   "metadata": {},
   "source": [
    "<font color='red'>2014 is clearly a significant year.</font>"
   ]
  },
  {
   "cell_type": "markdown",
   "metadata": {},
   "source": [
    "### Best way to break up towns to look at their SaleAmount trends?\n",
    "* Metropolitan areas?\n",
    "* Nonmetropolitan areas?\n",
    "* __Price levels__"
   ]
  },
  {
   "cell_type": "code",
   "execution_count": null,
   "metadata": {},
   "outputs": [],
   "source": [
    "print('median\\t%d' %res_df['SaleAmount'].median())\n",
    "res_df['SaleAmount'].describe()"
   ]
  },
  {
   "cell_type": "code",
   "execution_count": null,
   "metadata": {},
   "outputs": [],
   "source": [
    "res_df_level_1 = res_df[res_df['SaleAmount'].isin(range(200000, 300000))]\n",
    "res_df_level_2 = res_df[res_df['SaleAmount'].isin(range(3000000, 4000000))]"
   ]
  },
  {
   "cell_type": "code",
   "execution_count": null,
   "metadata": {},
   "outputs": [],
   "source": [
    "res_df_level_1"
   ]
  },
  {
   "cell_type": "code",
   "execution_count": null,
   "metadata": {},
   "outputs": [],
   "source": [
    "median_timeseries(column='SaleAmount', source_df=res_df_level_1).plot(title='Median Sale Amount of Homes, $200k-300k')"
   ]
  },
  {
   "cell_type": "code",
   "execution_count": null,
   "metadata": {},
   "outputs": [],
   "source": [
    "median_timeseries(column='SaleAmount', source_df=res_df_level_2).plot(title='Median Sale Amount of Homes, $2mil-3mil')"
   ]
  },
  {
   "cell_type": "markdown",
   "metadata": {},
   "source": [
    "Wait... what insight does this provide..."
   ]
  },
  {
   "cell_type": "markdown",
   "metadata": {},
   "source": [
    "### Looking at median SaleAmount by town and year"
   ]
  },
  {
   "cell_type": "code",
   "execution_count": null,
   "metadata": {},
   "outputs": [],
   "source": [
    "# Calculate number of homes sold in these price ranges. These are just extremes to get started.\n",
    "print(\"200k-300k\\t\\t2mil - 3mil\")\n",
    "for year in range(MIN_YEAR, MAX_YEAR+1):\n",
    "    print(\"%d\\t\\t%d\\t\\t%d\" \n",
    "          %(len(res_df_level_1[res_df_level_1['ListYear'] == year]),\n",
    "           len(res_df_level_2[res_df_level_2['ListYear'] == year]),\n",
    "           year)\n",
    "         )"
   ]
  },
  {
   "cell_type": "code",
   "execution_count": null,
   "metadata": {},
   "outputs": [],
   "source": [
    "ct_number_sold = []\n",
    "years = list(range(MIN_YEAR, MAX_YEAR+1))\n",
    "for year in range(MIN_YEAR, MAX_YEAR+1):\n",
    "    print(len(res_df[res_df['ListYear'] == year]))\n",
    "    \n",
    "\n"
   ]
  },
  {
   "cell_type": "code",
   "execution_count": null,
   "metadata": {},
   "outputs": [],
   "source": [
    "ct_number_sold_df = pd.DataFrame(data=ct_number_sold, index=years, columns=['Number of Residentials Sold']), "
   ]
  },
  {
   "cell_type": "code",
   "execution_count": null,
   "metadata": {},
   "outputs": [],
   "source": [
    "ct_number_sold_df"
   ]
  },
  {
   "cell_type": "code",
   "execution_count": null,
   "metadata": {},
   "outputs": [],
   "source": [
    "greenwich_median_sale_amount_ts = median_timeseries('SaleAmount', 'Greenwich')\n",
    "greenwich_median_sale_amount_ts.transpose()"
   ]
  },
  {
   "cell_type": "code",
   "execution_count": null,
   "metadata": {},
   "outputs": [],
   "source": [
    "def median_timeseries_all_towns(column, startyear=MIN_YEAR, endyear=MAX_YEAR, source_df=res_df):\n",
    "    \"\"\"\n",
    "    Returns a time series of all towns in CT, as well as the CT average.\n",
    "    Each column is a year with values being the median of 'column' for that town in that year.\n",
    "    \"\"\"\n",
    "    # Make the DataFrame's attributes\n",
    "    columns = list(range(startyear, endyear+1))\n",
    "    time_series = pd.DataFrame(columns=columns, data = median_timeseries(column).transpose())\n",
    "    \n",
    "    for town in source_df['Town'].unique():\n",
    "        time_series = pd.concat([time_series, median_timeseries(column, town).transpose()])\n",
    "            \n",
    "    return time_series"
   ]
  },
  {
   "cell_type": "code",
   "execution_count": null,
   "metadata": {},
   "outputs": [],
   "source": [
    "saleamount_ts_all = median_timeseries_all_towns('SaleAmount')"
   ]
  },
  {
   "cell_type": "code",
   "execution_count": null,
   "metadata": {},
   "outputs": [],
   "source": [
    "saleamount_ts_all[saleamount_ts_all.index == 'Connecticut'].transpose().plot()\n",
    "# Median home price decreases 2008-2010, meaning the concentration of homes sold is among more inexpensive homes\n",
    "# (in the 260,000-280,000 range.)"
   ]
  },
  {
   "cell_type": "code",
   "execution_count": null,
   "metadata": {},
   "outputs": [],
   "source": [
    "saleamount_ts_all[saleamount_ts_all.index == 'Hartford'].transpose().plot()\n",
    "# Cheaper homes are being sold in Hartford. Median sale amount from 2007-2013 has gone from 190,000 to 160,000."
   ]
  },
  {
   "cell_type": "markdown",
   "metadata": {},
   "source": [
    "### Looking at the number of homes sold in each town each year"
   ]
  },
  {
   "cell_type": "code",
   "execution_count": 45,
   "metadata": {},
   "outputs": [],
   "source": [
    "def get_years_sale_count(year, town='Connecticut', source_df=res_df):\n",
    "    \"\"\"\n",
    "    Returns the nummber of sales in one town from year, using data from source_df, as a list.\n",
    "    \"\"\"\n",
    "    \n",
    "    if town != 'Connecticut':\n",
    "        # Get the rows for this town in the given year\n",
    "        just_this_town = source_df[source_df['Town'] == town]\n",
    "    else:\n",
    "        # Look at all the data from the state\n",
    "        just_this_town = source_df\n",
    "\n",
    "    # Grab just the year you want\n",
    "    town_by_year = just_this_town[just_this_town['ListYear'] == year]\n",
    "\n",
    "    # Calculate and return the median\n",
    "    count = len(town_by_year)\n",
    "    if count == 'nan':\n",
    "        return -1\n",
    "    else:\n",
    "        return count"
   ]
  },
  {
   "cell_type": "code",
   "execution_count": null,
   "metadata": {},
   "outputs": [],
   "source": [
    "print(get_years_sale_count(2015))\n",
    "print(len(res_df[res_df['ListYear'] == 2015]))"
   ]
  },
  {
   "cell_type": "code",
   "execution_count": 46,
   "metadata": {},
   "outputs": [],
   "source": [
    "def sale_count_timeseries(town='Connecticut', startyear=MIN_YEAR, endyear=MAX_YEAR, source_df=res_df):\n",
    "    \"\"\"\n",
    "    Returns a time series for a particular town and column, from start year to endyear.\n",
    "    Values are the number of sales in that town in that year.\n",
    "    Grabs the data from source_df.\n",
    "    \"\"\"\n",
    "    # Make the DataFrame's attributes\n",
    "    index = list(range(startyear, endyear+1))\n",
    "    columns = [town]\n",
    "    \n",
    "    # Generate a list of medians using helper function\n",
    "    list_of_sale_counts = []\n",
    "    for year in index:\n",
    "        list_of_sale_counts.append(get_years_sale_count(year, town))\n",
    "        \n",
    "    return pd.DataFrame(data=list_of_sale_counts, index=index, columns=columns)"
   ]
  },
  {
   "cell_type": "code",
   "execution_count": 47,
   "metadata": {},
   "outputs": [
    {
     "data": {
      "text/html": [
       "<div>\n",
       "<style scoped>\n",
       "    .dataframe tbody tr th:only-of-type {\n",
       "        vertical-align: middle;\n",
       "    }\n",
       "\n",
       "    .dataframe tbody tr th {\n",
       "        vertical-align: top;\n",
       "    }\n",
       "\n",
       "    .dataframe thead th {\n",
       "        text-align: right;\n",
       "    }\n",
       "</style>\n",
       "<table border=\"1\" class=\"dataframe\">\n",
       "  <thead>\n",
       "    <tr style=\"text-align: right;\">\n",
       "      <th></th>\n",
       "      <th>Connecticut</th>\n",
       "    </tr>\n",
       "  </thead>\n",
       "  <tbody>\n",
       "    <tr>\n",
       "      <th>2001</th>\n",
       "      <td>31699</td>\n",
       "    </tr>\n",
       "    <tr>\n",
       "      <th>2002</th>\n",
       "      <td>58972</td>\n",
       "    </tr>\n",
       "    <tr>\n",
       "      <th>2003</th>\n",
       "      <td>35196</td>\n",
       "    </tr>\n",
       "    <tr>\n",
       "      <th>2004</th>\n",
       "      <td>46767</td>\n",
       "    </tr>\n",
       "    <tr>\n",
       "      <th>2005</th>\n",
       "      <td>34342</td>\n",
       "    </tr>\n",
       "    <tr>\n",
       "      <th>2006</th>\n",
       "      <td>26388</td>\n",
       "    </tr>\n",
       "    <tr>\n",
       "      <th>2007</th>\n",
       "      <td>17737</td>\n",
       "    </tr>\n",
       "    <tr>\n",
       "      <th>2008</th>\n",
       "      <td>15488</td>\n",
       "    </tr>\n",
       "    <tr>\n",
       "      <th>2009</th>\n",
       "      <td>20069</td>\n",
       "    </tr>\n",
       "    <tr>\n",
       "      <th>2010</th>\n",
       "      <td>13217</td>\n",
       "    </tr>\n",
       "    <tr>\n",
       "      <th>2011</th>\n",
       "      <td>14693</td>\n",
       "    </tr>\n",
       "    <tr>\n",
       "      <th>2012</th>\n",
       "      <td>17009</td>\n",
       "    </tr>\n",
       "    <tr>\n",
       "      <th>2013</th>\n",
       "      <td>18979</td>\n",
       "    </tr>\n",
       "    <tr>\n",
       "      <th>2014</th>\n",
       "      <td>45461</td>\n",
       "    </tr>\n",
       "    <tr>\n",
       "      <th>2015</th>\n",
       "      <td>28907</td>\n",
       "    </tr>\n",
       "    <tr>\n",
       "      <th>2016</th>\n",
       "      <td>31196</td>\n",
       "    </tr>\n",
       "  </tbody>\n",
       "</table>\n",
       "</div>"
      ],
      "text/plain": [
       "      Connecticut\n",
       "2001        31699\n",
       "2002        58972\n",
       "2003        35196\n",
       "2004        46767\n",
       "2005        34342\n",
       "2006        26388\n",
       "2007        17737\n",
       "2008        15488\n",
       "2009        20069\n",
       "2010        13217\n",
       "2011        14693\n",
       "2012        17009\n",
       "2013        18979\n",
       "2014        45461\n",
       "2015        28907\n",
       "2016        31196"
      ]
     },
     "execution_count": 47,
     "metadata": {},
     "output_type": "execute_result"
    }
   ],
   "source": [
    "sale_count_timeseries()"
   ]
  },
  {
   "cell_type": "code",
   "execution_count": null,
   "metadata": {},
   "outputs": [],
   "source": [
    "# So clearly the number of houses sold dropped during the Great Recession and picked back up in 2014, but from before, we\n",
    "# also know that the pick-up that happened in 2014 was due to sales in more average value homes.\n",
    "sale_count_timeseries().plot()"
   ]
  },
  {
   "cell_type": "code",
   "execution_count": 48,
   "metadata": {},
   "outputs": [],
   "source": [
    "def sale_count_timeseries_all_towns(startyear=MIN_YEAR, endyear=MAX_YEAR, source_df=res_df):\n",
    "    \"\"\"\n",
    "    Returns a time series of all towns in CT, as well as the CT average.\n",
    "    Each column is a year with values being the number of homes sold in that town in that year.\n",
    "    \"\"\"\n",
    "    # Make the DataFrame's attributes\n",
    "    columns = list(range(startyear, endyear+1))\n",
    "    time_series = pd.DataFrame(columns=columns, data = sale_count_timeseries('Connecticut', startyear, endyear).transpose())\n",
    "    \n",
    "    for town in source_df['Town'].unique():\n",
    "        time_series = pd.concat([time_series, sale_count_timeseries(town, startyear, endyear).transpose()])\n",
    "            \n",
    "    return time_series"
   ]
  },
  {
   "cell_type": "code",
   "execution_count": null,
   "metadata": {},
   "outputs": [],
   "source": [
    "sale_count_ts_all_towns = sale_count_timeseries_all_towns()\n",
    "%store sale_count_ts_all_towns"
   ]
  },
  {
   "cell_type": "code",
   "execution_count": null,
   "metadata": {},
   "outputs": [],
   "source": [
    "sale_count_ts_all_towns.sort_values(2016, ascending=False).head()"
   ]
  },
  {
   "cell_type": "code",
   "execution_count": null,
   "metadata": {},
   "outputs": [],
   "source": [
    "# Check that everything adds up properly\n",
    "for column in sale_count_ts_all_towns.columns:\n",
    "    towns_only = sale_count_ts_all_towns[column][1:]\n",
    "    print(towns_only.sum() == sale_count_ts_all_towns.loc['Connecticut', column])"
   ]
  },
  {
   "cell_type": "markdown",
   "metadata": {},
   "source": [
    "### Graph the number of homes sold over time with the median SaleAmount over time\n",
    "Will this give me insights into what kinds of homes are being sold during these periods of rise and fall?"
   ]
  },
  {
   "cell_type": "code",
   "execution_count": null,
   "metadata": {},
   "outputs": [],
   "source": [
    "stamford = median_timeseries('SaleAmount', 'Stamford').transpose()\\\n",
    "        .append(sale_count_timeseries('Stamford').transpose())"
   ]
  },
  {
   "cell_type": "code",
   "execution_count": null,
   "metadata": {},
   "outputs": [],
   "source": [
    "stamford.index = ['MedianSaleAmount', 'NumberSold']"
   ]
  },
  {
   "cell_type": "code",
   "execution_count": null,
   "metadata": {},
   "outputs": [],
   "source": [
    "stamford"
   ]
  },
  {
   "cell_type": "code",
   "execution_count": null,
   "metadata": {},
   "outputs": [],
   "source": [
    "# Increase number sold by a factor of x so the line on the plot doesn't look flat (to even out their scales)\n",
    "def scale_df_row(df, row_index, factor):\n",
    "    \"\"\"\n",
    "    Returns df where the row at row_index is scaled by factor.\n",
    "    To be used to scale data up or down so that they can be plotted on top of other data.\n",
    "    \"\"\"\n",
    "    new_df = df.copy()\n",
    "    new_df.iloc[row_index] = new_df.iloc[row_index].apply(lambda x: x*factor)\n",
    "    return new_df"
   ]
  },
  {
   "cell_type": "code",
   "execution_count": null,
   "metadata": {},
   "outputs": [],
   "source": [
    "scale_df_row(stamford, 1, 700).transpose().plot(title=\"NOTE: NumberSold has been scaled up to be visible beside MedianSaleAmount.\")"
   ]
  },
  {
   "cell_type": "code",
   "execution_count": null,
   "metadata": {},
   "outputs": [],
   "source": [
    "# Let's formalize all of this into a function..."
   ]
  },
  {
   "cell_type": "code",
   "execution_count": null,
   "metadata": {},
   "outputs": [],
   "source": [
    "def combine_sales_and_median_sale_amount(town='Connecticut', startyear=MIN_YEAR, endyear=MAX_YEAR, source_df = res_df):\n",
    "    \"\"\"\n",
    "    Returns a dataframe where the first row is the MedianSaleAmount timeseries of town,\n",
    "    and the second row is the number of homes sold in that town.\n",
    "    This function feeds ___.\n",
    "    \"\"\"\n",
    "    combined_df = median_timeseries('SaleAmount', town).transpose().append(sale_count_timeseries(town).transpose())\n",
    "    combined_df.index = ['MedianSaleAmount', 'NumberSold']\n",
    "    return combined_df"
   ]
  },
  {
   "cell_type": "code",
   "execution_count": null,
   "metadata": {},
   "outputs": [],
   "source": [
    "combine_sales_and_median_sale_amount('Stamford')"
   ]
  },
  {
   "cell_type": "code",
   "execution_count": null,
   "metadata": {},
   "outputs": [],
   "source": [
    "def combined_sales_and_median_sale_amount_timeseries(town='Connecticut', scale_factor=500, startyear=MIN_YEAR,\n",
    "                                                     endyear=MAX_YEAR, source_df=res_df):\n",
    "    \"\"\"\n",
    "    Returns a timeseries ready to be plotted that graphs the number of sales AND the median sale amount in\n",
    "    a town, every year from startyear to endyear.\n",
    "    \n",
    "    The argument 'scale_factor' is a number to scale the number of sales row by, in order for this line to not appear flat\n",
    "    beside median sale amount when graphed.\n",
    "    \"\"\"\n",
    "    timeseries = combine_sales_and_median_sale_amount(town, startyear, endyear, source_df)\n",
    "    timeseries = scale_df_row(timeseries, 1, scale_factor)\n",
    "    return timeseries.transpose()"
   ]
  },
  {
   "cell_type": "code",
   "execution_count": null,
   "metadata": {},
   "outputs": [],
   "source": [
    "combined_sales_and_median_sale_amount_timeseries('Stamford', 700).plot()"
   ]
  },
  {
   "cell_type": "code",
   "execution_count": null,
   "metadata": {},
   "outputs": [],
   "source": [
    "combined_sales_and_median_sale_amount_timeseries('Connecticut', 5).plot()"
   ]
  },
  {
   "cell_type": "markdown",
   "metadata": {},
   "source": [
    "I don't know if this provides much insight, though."
   ]
  },
  {
   "cell_type": "code",
   "execution_count": null,
   "metadata": {},
   "outputs": [],
   "source": [
    "sale_count_timeseries().plot() # Defaults to CT"
   ]
  },
  {
   "cell_type": "code",
   "execution_count": null,
   "metadata": {},
   "outputs": [],
   "source": [
    "sale_count_timeseries()"
   ]
  },
  {
   "cell_type": "code",
   "execution_count": null,
   "metadata": {},
   "outputs": [],
   "source": [
    "sale_count_ts_all_towns\n",
    "ct_towns_recovered_sales = sale_count_ts_all_towns.copy()\n",
    "ct_towns_recovered_sales['MeanPreRecessionSaleCount'] = (ct_towns_recovered_sales[2001] + ct_towns_recovered_sales[2002] \\\n",
    "    + ct_towns_recovered_sales[2003] + ct_towns_recovered_sales[2004] + ct_towns_recovered_sales[2005] \\\n",
    "    + ct_towns_recovered_sales[2006]) / 6"
   ]
  },
  {
   "cell_type": "code",
   "execution_count": null,
   "metadata": {},
   "outputs": [],
   "source": [
    "ct_towns_recovered_sales.sort_values('MeanPreRecessionSaleCount', ascending=False).head()"
   ]
  },
  {
   "cell_type": "code",
   "execution_count": null,
   "metadata": {},
   "outputs": [],
   "source": [
    "ct_towns_recovered_sales['2015PctOfPreRecessionMean'] = \\\n",
    "        ct_towns_recovered_sales[2015] / ct_towns_recovered_sales['MeanPreRecessionSaleCount']"
   ]
  },
  {
   "cell_type": "code",
   "execution_count": null,
   "metadata": {},
   "outputs": [],
   "source": [
    "ct_towns_recovered_sales['2016PctOfPreRecessionMean'] = \\\n",
    "        ct_towns_recovered_sales[2016] / ct_towns_recovered_sales['MeanPreRecessionSaleCount']"
   ]
  },
  {
   "cell_type": "code",
   "execution_count": null,
   "metadata": {},
   "outputs": [],
   "source": [
    "ct_towns_recovered_sales.head()"
   ]
  },
  {
   "cell_type": "code",
   "execution_count": null,
   "metadata": {},
   "outputs": [],
   "source": [
    "ct_towns_recovered_sales.sort_values('2016PctOfPreRecessionMean', ascending=False).head(10)"
   ]
  },
  {
   "cell_type": "code",
   "execution_count": null,
   "metadata": {},
   "outputs": [],
   "source": [
    "# Let's look at some towns that have \"recovered\" the number of yearly sales\n",
    "ct_recovered_sale_numbers = ct_towns_recovered_sales[ct_towns_recovered_sales['2016PctOfPreRecessionMean'] > 1]"
   ]
  },
  {
   "cell_type": "code",
   "execution_count": null,
   "metadata": {},
   "outputs": [],
   "source": [
    "ct_recovered_sale_numbers[0:2].transpose()[0:-3].plot()"
   ]
  },
  {
   "cell_type": "code",
   "execution_count": null,
   "metadata": {},
   "outputs": [],
   "source": [
    "# Now let's look at some places that have not \"recovered\" in this way\n",
    "ct_not_recovered_sale_numbers = ct_towns_recovered_sales[ct_towns_recovered_sales['2016PctOfPreRecessionMean'] < 1]"
   ]
  },
  {
   "cell_type": "code",
   "execution_count": null,
   "metadata": {},
   "outputs": [],
   "source": [
    "ct_not_recovered_sale_numbers[1:4].transpose()[0:-3].plot()"
   ]
  },
  {
   "cell_type": "code",
   "execution_count": null,
   "metadata": {},
   "outputs": [],
   "source": [
    "# Where have sales really grown?\n",
    "ct_recovered_sale_numbers.sort_values('2016PctOfPreRecessionMean', ascending=False)[0:3].transpose()[0:-3].plot()"
   ]
  },
  {
   "cell_type": "code",
   "execution_count": null,
   "metadata": {},
   "outputs": [],
   "source": [
    "# Where have sales really fallen?\n",
    "ct_not_recovered_sale_numbers.sort_values('2016PctOfPreRecessionMean', ascending=True)[0:3].transpose()[0:-3].plot()"
   ]
  },
  {
   "cell_type": "code",
   "execution_count": null,
   "metadata": {},
   "outputs": [],
   "source": [
    "ct_not_recovered_sale_numbers.sort_values('2016PctOfPreRecessionMean', ascending=True)[4:7].transpose()[0:-3].plot()"
   ]
  },
  {
   "cell_type": "markdown",
   "metadata": {},
   "source": [
    "#### What this illustrates\n",
    "* Many towns in CT have reached sale numbers in 2016 that are equal to or geater than what they were from 2002-2006, before the recession... And many are way behind those numbers.\n",
    "* __I want to see__ if there happens to be a correlation between a critical number of these towns and the median sale amount."
   ]
  },
  {
   "cell_type": "markdown",
   "metadata": {},
   "source": [
    "### Load in population and median income data for each town to help with town subsetting.\n",
    "* Town-by-town population estimates come from CT DPH: https://portal.ct.gov/DPH/Health-Information-Systems--Reporting/Population/Annual-Town-and-County-Population-for-Connecticut\n",
    "* Median income data from Census Bureau via CT Data Collaborative http://data.ctdata.org/dataset/median-household-income-by-town"
   ]
  },
  {
   "cell_type": "markdown",
   "metadata": {},
   "source": [
    "#### Gather and clean town population data"
   ]
  },
  {
   "cell_type": "code",
   "execution_count": 19,
   "metadata": {},
   "outputs": [],
   "source": [
    "raw_town_pop_data = pd.read_excel(\"https://portal.ct.gov/-/media/Departments-and-Agencies/DPH/Population/Town-Pop/pop_towns2016xlsx.xlsx?la=en\",\n",
    "                             skiprows=10)"
   ]
  },
  {
   "cell_type": "code",
   "execution_count": 20,
   "metadata": {},
   "outputs": [
    {
     "data": {
      "text/html": [
       "<div>\n",
       "<style scoped>\n",
       "    .dataframe tbody tr th:only-of-type {\n",
       "        vertical-align: middle;\n",
       "    }\n",
       "\n",
       "    .dataframe tbody tr th {\n",
       "        vertical-align: top;\n",
       "    }\n",
       "\n",
       "    .dataframe thead th {\n",
       "        text-align: right;\n",
       "    }\n",
       "</style>\n",
       "<table border=\"1\" class=\"dataframe\">\n",
       "  <thead>\n",
       "    <tr style=\"text-align: right;\">\n",
       "      <th></th>\n",
       "      <th>Town</th>\n",
       "      <th>Est. Pop.</th>\n",
       "      <th>Town.1</th>\n",
       "      <th>Est. Pop..1</th>\n",
       "      <th>Town.2</th>\n",
       "      <th>Est. Pop..2</th>\n",
       "      <th>Town.3</th>\n",
       "      <th>Est. Pop..3</th>\n",
       "    </tr>\n",
       "  </thead>\n",
       "  <tbody>\n",
       "    <tr>\n",
       "      <th>0</th>\n",
       "      <td>Andover</td>\n",
       "      <td>3252.0</td>\n",
       "      <td>East Hartford</td>\n",
       "      <td>50237.0</td>\n",
       "      <td>Monroe</td>\n",
       "      <td>19658.0</td>\n",
       "      <td>Sherman</td>\n",
       "      <td>3641.0</td>\n",
       "    </tr>\n",
       "    <tr>\n",
       "      <th>1</th>\n",
       "      <td>Ansonia</td>\n",
       "      <td>18732.0</td>\n",
       "      <td>East Haven</td>\n",
       "      <td>28807.0</td>\n",
       "      <td>Montville</td>\n",
       "      <td>19231.0</td>\n",
       "      <td>Simsbury</td>\n",
       "      <td>24407.0</td>\n",
       "    </tr>\n",
       "    <tr>\n",
       "      <th>2</th>\n",
       "      <td>Ashford</td>\n",
       "      <td>4236.0</td>\n",
       "      <td>East Lyme</td>\n",
       "      <td>18886.0</td>\n",
       "      <td>Morris</td>\n",
       "      <td>2279.0</td>\n",
       "      <td>Somers</td>\n",
       "      <td>11092.0</td>\n",
       "    </tr>\n",
       "    <tr>\n",
       "      <th>3</th>\n",
       "      <td>Avon</td>\n",
       "      <td>18364.0</td>\n",
       "      <td>Easton</td>\n",
       "      <td>7561.0</td>\n",
       "      <td>Naugatuck</td>\n",
       "      <td>31392.0</td>\n",
       "      <td>Southbury</td>\n",
       "      <td>19572.0</td>\n",
       "    </tr>\n",
       "    <tr>\n",
       "      <th>4</th>\n",
       "      <td>Barkhamsted</td>\n",
       "      <td>3664.0</td>\n",
       "      <td>East Windsor</td>\n",
       "      <td>11355.0</td>\n",
       "      <td>New Britain</td>\n",
       "      <td>72558.0</td>\n",
       "      <td>Southington</td>\n",
       "      <td>43685.0</td>\n",
       "    </tr>\n",
       "  </tbody>\n",
       "</table>\n",
       "</div>"
      ],
      "text/plain": [
       "          Town  Est. Pop.         Town.1  Est. Pop..1       Town.2  \\\n",
       "0      Andover     3252.0  East Hartford      50237.0       Monroe   \n",
       "1      Ansonia    18732.0     East Haven      28807.0    Montville   \n",
       "2      Ashford     4236.0      East Lyme      18886.0       Morris   \n",
       "3         Avon    18364.0         Easton       7561.0    Naugatuck   \n",
       "4  Barkhamsted     3664.0   East Windsor      11355.0  New Britain   \n",
       "\n",
       "   Est. Pop..2       Town.3  Est. Pop..3  \n",
       "0      19658.0      Sherman       3641.0  \n",
       "1      19231.0     Simsbury      24407.0  \n",
       "2       2279.0       Somers      11092.0  \n",
       "3      31392.0    Southbury      19572.0  \n",
       "4      72558.0  Southington      43685.0  "
      ]
     },
     "execution_count": 20,
     "metadata": {},
     "output_type": "execute_result"
    }
   ],
   "source": [
    "raw_town_pop_data.head()"
   ]
  },
  {
   "cell_type": "code",
   "execution_count": 21,
   "metadata": {},
   "outputs": [
    {
     "data": {
      "text/html": [
       "<div>\n",
       "<style scoped>\n",
       "    .dataframe tbody tr th:only-of-type {\n",
       "        vertical-align: middle;\n",
       "    }\n",
       "\n",
       "    .dataframe tbody tr th {\n",
       "        vertical-align: top;\n",
       "    }\n",
       "\n",
       "    .dataframe thead th {\n",
       "        text-align: right;\n",
       "    }\n",
       "</style>\n",
       "<table border=\"1\" class=\"dataframe\">\n",
       "  <thead>\n",
       "    <tr style=\"text-align: right;\">\n",
       "      <th></th>\n",
       "      <th>Town</th>\n",
       "      <th>Est. Pop.</th>\n",
       "      <th>Town.1</th>\n",
       "      <th>Est. Pop..1</th>\n",
       "      <th>Town.2</th>\n",
       "      <th>Est. Pop..2</th>\n",
       "      <th>Town.3</th>\n",
       "      <th>Est. Pop..3</th>\n",
       "    </tr>\n",
       "  </thead>\n",
       "  <tbody>\n",
       "    <tr>\n",
       "      <th>46</th>\n",
       "      <td>Source:</td>\n",
       "      <td>NaN</td>\n",
       "      <td>NaN</td>\n",
       "      <td>NaN</td>\n",
       "      <td>NaN</td>\n",
       "      <td>NaN</td>\n",
       "      <td>NaN</td>\n",
       "      <td>NaN</td>\n",
       "    </tr>\n",
       "    <tr>\n",
       "      <th>47</th>\n",
       "      <td>Annual Estimates of the Resident Population: A...</td>\n",
       "      <td>NaN</td>\n",
       "      <td>NaN</td>\n",
       "      <td>NaN</td>\n",
       "      <td>NaN</td>\n",
       "      <td>NaN</td>\n",
       "      <td>NaN</td>\n",
       "      <td>NaN</td>\n",
       "    </tr>\n",
       "    <tr>\n",
       "      <th>48</th>\n",
       "      <td>NaN</td>\n",
       "      <td>NaN</td>\n",
       "      <td>NaN</td>\n",
       "      <td>NaN</td>\n",
       "      <td>NaN</td>\n",
       "      <td>NaN</td>\n",
       "      <td>NaN</td>\n",
       "      <td>NaN</td>\n",
       "    </tr>\n",
       "    <tr>\n",
       "      <th>49</th>\n",
       "      <td>Citation:</td>\n",
       "      <td>NaN</td>\n",
       "      <td>NaN</td>\n",
       "      <td>NaN</td>\n",
       "      <td>NaN</td>\n",
       "      <td>NaN</td>\n",
       "      <td>NaN</td>\n",
       "      <td>NaN</td>\n",
       "    </tr>\n",
       "    <tr>\n",
       "      <th>50</th>\n",
       "      <td>Backus, K, Mueller, LM (2017) Town-level Popul...</td>\n",
       "      <td>NaN</td>\n",
       "      <td>NaN</td>\n",
       "      <td>NaN</td>\n",
       "      <td>NaN</td>\n",
       "      <td>NaN</td>\n",
       "      <td>NaN</td>\n",
       "      <td>NaN</td>\n",
       "    </tr>\n",
       "  </tbody>\n",
       "</table>\n",
       "</div>"
      ],
      "text/plain": [
       "                                                 Town  Est. Pop. Town.1  \\\n",
       "46                                            Source:        NaN    NaN   \n",
       "47  Annual Estimates of the Resident Population: A...        NaN    NaN   \n",
       "48                                                NaN        NaN    NaN   \n",
       "49                                          Citation:        NaN    NaN   \n",
       "50  Backus, K, Mueller, LM (2017) Town-level Popul...        NaN    NaN   \n",
       "\n",
       "    Est. Pop..1 Town.2  Est. Pop..2 Town.3  Est. Pop..3  \n",
       "46          NaN    NaN          NaN    NaN          NaN  \n",
       "47          NaN    NaN          NaN    NaN          NaN  \n",
       "48          NaN    NaN          NaN    NaN          NaN  \n",
       "49          NaN    NaN          NaN    NaN          NaN  \n",
       "50          NaN    NaN          NaN    NaN          NaN  "
      ]
     },
     "execution_count": 21,
     "metadata": {},
     "output_type": "execute_result"
    }
   ],
   "source": [
    "raw_town_pop_data.tail()"
   ]
  },
  {
   "cell_type": "code",
   "execution_count": 22,
   "metadata": {},
   "outputs": [
    {
     "data": {
      "text/plain": [
       "Index(['Town', 'Est. Pop.', 'Town.1', 'Est. Pop..1', 'Town.2', 'Est. Pop..2',\n",
       "       'Town.3', 'Est. Pop..3'],\n",
       "      dtype='object')"
      ]
     },
     "execution_count": 22,
     "metadata": {},
     "output_type": "execute_result"
    }
   ],
   "source": [
    "raw_town_pop_data.columns"
   ]
  },
  {
   "cell_type": "code",
   "execution_count": 23,
   "metadata": {},
   "outputs": [],
   "source": [
    "# Clean town population data by separating the pairs of columns and concatenate them into one datafame\n",
    "def clean_town_population_df(raw_df):\n",
    "    \"\"\"\n",
    "    Returns a clean version of the raw town population df.\n",
    "    \"\"\"\n",
    "    clean_df = raw_df.copy()\n",
    "    \n",
    "    # Split up column pairs\n",
    "    town_pop_section_1 = clean_df[['Town', 'Est. Pop.']]\n",
    "    town_pop_section_2 = clean_df[['Town.1', 'Est. Pop..1']]\n",
    "    town_pop_section_3 = clean_df[['Town.2', 'Est. Pop..2']]\n",
    "    town_pop_section_4 = clean_df[['Town.3', 'Est. Pop..3']]\n",
    "    \n",
    "    # Trim off the NaN rows at the end of each section\n",
    "    town_pop_section_1 = town_pop_section_1[0:-9]\n",
    "    town_pop_section_2 = town_pop_section_2[0:-9]\n",
    "    town_pop_section_3 = town_pop_section_3[0:-9]\n",
    "    town_pop_section_4 = town_pop_section_4[0:-8]\n",
    "    \n",
    "    # Fix column names in order to concatenate properly\n",
    "    columns = ['Town', 'Population']\n",
    "    town_pop_section_1.columns = columns\n",
    "    town_pop_section_2.columns = columns\n",
    "    town_pop_section_3.columns = columns\n",
    "    town_pop_section_4.columns = columns\n",
    "    \n",
    "    clean_df = pd.concat([town_pop_section_1, town_pop_section_2, town_pop_section_3, town_pop_section_4]).reset_index(drop=True)\n",
    "\n",
    "\n",
    "    for index in clean_df.index:\n",
    "        # remove commas\n",
    "        clean_df.loc[index, 'Population'] = str(clean_df.iloc[index]['Population']).replace(',','')\n",
    "    \n",
    "    clean_df['Population'] = clean_df['Population'].astype(float)\n",
    "    \n",
    "    return clean_df"
   ]
  },
  {
   "cell_type": "code",
   "execution_count": 24,
   "metadata": {},
   "outputs": [
    {
     "data": {
      "text/html": [
       "<div>\n",
       "<style scoped>\n",
       "    .dataframe tbody tr th:only-of-type {\n",
       "        vertical-align: middle;\n",
       "    }\n",
       "\n",
       "    .dataframe tbody tr th {\n",
       "        vertical-align: top;\n",
       "    }\n",
       "\n",
       "    .dataframe thead th {\n",
       "        text-align: right;\n",
       "    }\n",
       "</style>\n",
       "<table border=\"1\" class=\"dataframe\">\n",
       "  <thead>\n",
       "    <tr style=\"text-align: right;\">\n",
       "      <th></th>\n",
       "      <th>Town</th>\n",
       "      <th>Population</th>\n",
       "    </tr>\n",
       "  </thead>\n",
       "  <tbody>\n",
       "    <tr>\n",
       "      <th>102</th>\n",
       "      <td>Norwalk</td>\n",
       "      <td>88438.0</td>\n",
       "    </tr>\n",
       "  </tbody>\n",
       "</table>\n",
       "</div>"
      ],
      "text/plain": [
       "        Town  Population\n",
       "102  Norwalk     88438.0"
      ]
     },
     "execution_count": 24,
     "metadata": {},
     "output_type": "execute_result"
    }
   ],
   "source": [
    "town_pop_df = clean_town_population_df(raw_town_pop_data)\n",
    "town_pop_df.head(10)\n",
    "town_pop_df[town_pop_df['Town'] == 'Norwalk']"
   ]
  },
  {
   "cell_type": "markdown",
   "metadata": {},
   "source": [
    "#### Gather and clean town median income data"
   ]
  },
  {
   "cell_type": "code",
   "execution_count": 25,
   "metadata": {},
   "outputs": [],
   "source": [
    "raw_town_income_data = pd.read_csv(\"http://data.ctdata.org/dataset/68296d39-d0f7-4e2d-ba0e-98a3463ab58f/resource/1a962569-c6b3-4031-b7b1-f051e9c12379/download/median-household-income-town-2016.csv\")"
   ]
  },
  {
   "cell_type": "code",
   "execution_count": 26,
   "metadata": {
    "scrolled": true
   },
   "outputs": [
    {
     "data": {
      "text/html": [
       "<div>\n",
       "<style scoped>\n",
       "    .dataframe tbody tr th:only-of-type {\n",
       "        vertical-align: middle;\n",
       "    }\n",
       "\n",
       "    .dataframe tbody tr th {\n",
       "        vertical-align: top;\n",
       "    }\n",
       "\n",
       "    .dataframe thead th {\n",
       "        text-align: right;\n",
       "    }\n",
       "</style>\n",
       "<table border=\"1\" class=\"dataframe\">\n",
       "  <thead>\n",
       "    <tr style=\"text-align: right;\">\n",
       "      <th></th>\n",
       "      <th>Town</th>\n",
       "      <th>FIPS</th>\n",
       "      <th>Year</th>\n",
       "      <th>Race/Ethnicity</th>\n",
       "      <th>Measure Type</th>\n",
       "      <th>Variable</th>\n",
       "      <th>Value</th>\n",
       "    </tr>\n",
       "  </thead>\n",
       "  <tbody>\n",
       "    <tr>\n",
       "      <th>0</th>\n",
       "      <td>Andover</td>\n",
       "      <td>901301080</td>\n",
       "      <td>2005-2009</td>\n",
       "      <td>All</td>\n",
       "      <td>Number</td>\n",
       "      <td>Margins of Error</td>\n",
       "      <td>9003.00</td>\n",
       "    </tr>\n",
       "    <tr>\n",
       "      <th>1</th>\n",
       "      <td>Andover</td>\n",
       "      <td>901301080</td>\n",
       "      <td>2005-2009</td>\n",
       "      <td>All</td>\n",
       "      <td>Number</td>\n",
       "      <td>Median Household Income</td>\n",
       "      <td>84757.00</td>\n",
       "    </tr>\n",
       "    <tr>\n",
       "      <th>2</th>\n",
       "      <td>Andover</td>\n",
       "      <td>901301080</td>\n",
       "      <td>2005-2009</td>\n",
       "      <td>All</td>\n",
       "      <td>Ratio to State Median</td>\n",
       "      <td>Margins of Error</td>\n",
       "      <td>0.11</td>\n",
       "    </tr>\n",
       "    <tr>\n",
       "      <th>3</th>\n",
       "      <td>Andover</td>\n",
       "      <td>901301080</td>\n",
       "      <td>2005-2009</td>\n",
       "      <td>All</td>\n",
       "      <td>Ratio to State Median</td>\n",
       "      <td>Median Household Income</td>\n",
       "      <td>1.25</td>\n",
       "    </tr>\n",
       "    <tr>\n",
       "      <th>4</th>\n",
       "      <td>Andover</td>\n",
       "      <td>901301080</td>\n",
       "      <td>2005-2009</td>\n",
       "      <td>American Indian and Alaska Native Alone</td>\n",
       "      <td>Number</td>\n",
       "      <td>Margins of Error</td>\n",
       "      <td>-9999.00</td>\n",
       "    </tr>\n",
       "  </tbody>\n",
       "</table>\n",
       "</div>"
      ],
      "text/plain": [
       "      Town       FIPS       Year                           Race/Ethnicity  \\\n",
       "0  Andover  901301080  2005-2009                                      All   \n",
       "1  Andover  901301080  2005-2009                                      All   \n",
       "2  Andover  901301080  2005-2009                                      All   \n",
       "3  Andover  901301080  2005-2009                                      All   \n",
       "4  Andover  901301080  2005-2009  American Indian and Alaska Native Alone   \n",
       "\n",
       "            Measure Type                 Variable     Value  \n",
       "0                 Number         Margins of Error   9003.00  \n",
       "1                 Number  Median Household Income  84757.00  \n",
       "2  Ratio to State Median         Margins of Error      0.11  \n",
       "3  Ratio to State Median  Median Household Income      1.25  \n",
       "4                 Number         Margins of Error  -9999.00  "
      ]
     },
     "execution_count": 26,
     "metadata": {},
     "output_type": "execute_result"
    }
   ],
   "source": [
    "raw_town_income_data.head()"
   ]
  },
  {
   "cell_type": "code",
   "execution_count": 27,
   "metadata": {},
   "outputs": [
    {
     "data": {
      "text/plain": [
       "array(['2005-2009', '2006-2010', '2007-2011', '2008-2012', '2009-2013',\n",
       "       '2010-2014', '2011-2015', '2012-2016'], dtype=object)"
      ]
     },
     "execution_count": 27,
     "metadata": {},
     "output_type": "execute_result"
    }
   ],
   "source": [
    "raw_town_income_data['Year'].unique()"
   ]
  },
  {
   "cell_type": "code",
   "execution_count": 28,
   "metadata": {},
   "outputs": [],
   "source": [
    "def clean_town_income_df(raw_df):\n",
    "    \"\"\"\n",
    "    Returns a clean version of raw town income data.\n",
    "    Grabs info for each town where Race/Ethnicity = All, Measure Type = Number, Variable = Median Household Income,\n",
    "    and Year = 2012-2016.\n",
    "    \"\"\"\n",
    "    clean_df = raw_df.copy()\n",
    "    \n",
    "    # Grab only select info\n",
    "    clean_df = clean_df[(clean_df['Race/Ethnicity'] == 'All') & (clean_df['Year'] == '2012-2016')\n",
    "                       & (clean_df['Measure Type'] == 'Number') & (clean_df['Variable'] == 'Median Household Income')]\n",
    "    \n",
    "    # Put Connecticut at the top of the dataframe while maintaining alphabetical order otherwise\n",
    "    ct_row = clean_df[clean_df['Town'] == 'Connecticut'] # Grab CT row\n",
    "    clean_df = clean_df[clean_df['Town'] != 'Connecticut'] # Remove it from middle of df\n",
    "    clean_df = pd.concat([ct_row, clean_df]) # Add CT back to top\n",
    "    \n",
    "    # Drop unwanted columns\n",
    "    clean_df = clean_df[['Town', 'FIPS', 'Value']]\n",
    "    \n",
    "    # Rename columns\n",
    "    clean_df.columns = ['Town', 'FIPS', 'MedianHouseholdIncome']\n",
    "    \n",
    "    return clean_df.reset_index(drop=True)"
   ]
  },
  {
   "cell_type": "code",
   "execution_count": 29,
   "metadata": {},
   "outputs": [],
   "source": [
    "town_income_df = clean_town_income_df(raw_town_income_data)"
   ]
  },
  {
   "cell_type": "code",
   "execution_count": 30,
   "metadata": {},
   "outputs": [
    {
     "data": {
      "text/html": [
       "<div>\n",
       "<style scoped>\n",
       "    .dataframe tbody tr th:only-of-type {\n",
       "        vertical-align: middle;\n",
       "    }\n",
       "\n",
       "    .dataframe tbody tr th {\n",
       "        vertical-align: top;\n",
       "    }\n",
       "\n",
       "    .dataframe thead th {\n",
       "        text-align: right;\n",
       "    }\n",
       "</style>\n",
       "<table border=\"1\" class=\"dataframe\">\n",
       "  <thead>\n",
       "    <tr style=\"text-align: right;\">\n",
       "      <th></th>\n",
       "      <th>Town</th>\n",
       "      <th>FIPS</th>\n",
       "      <th>MedianHouseholdIncome</th>\n",
       "    </tr>\n",
       "  </thead>\n",
       "  <tbody>\n",
       "    <tr>\n",
       "      <th>0</th>\n",
       "      <td>Connecticut</td>\n",
       "      <td>9</td>\n",
       "      <td>71755.0</td>\n",
       "    </tr>\n",
       "    <tr>\n",
       "      <th>1</th>\n",
       "      <td>Andover</td>\n",
       "      <td>901301080</td>\n",
       "      <td>100724.0</td>\n",
       "    </tr>\n",
       "    <tr>\n",
       "      <th>2</th>\n",
       "      <td>Ansonia</td>\n",
       "      <td>900901220</td>\n",
       "      <td>43386.0</td>\n",
       "    </tr>\n",
       "    <tr>\n",
       "      <th>3</th>\n",
       "      <td>Ashford</td>\n",
       "      <td>901501430</td>\n",
       "      <td>78313.0</td>\n",
       "    </tr>\n",
       "    <tr>\n",
       "      <th>4</th>\n",
       "      <td>Avon</td>\n",
       "      <td>900302060</td>\n",
       "      <td>124608.0</td>\n",
       "    </tr>\n",
       "    <tr>\n",
       "      <th>5</th>\n",
       "      <td>Barkhamsted</td>\n",
       "      <td>900502760</td>\n",
       "      <td>104899.0</td>\n",
       "    </tr>\n",
       "    <tr>\n",
       "      <th>6</th>\n",
       "      <td>Beacon Falls</td>\n",
       "      <td>900903250</td>\n",
       "      <td>84570.0</td>\n",
       "    </tr>\n",
       "    <tr>\n",
       "      <th>7</th>\n",
       "      <td>Berlin</td>\n",
       "      <td>900304300</td>\n",
       "      <td>93750.0</td>\n",
       "    </tr>\n",
       "  </tbody>\n",
       "</table>\n",
       "</div>"
      ],
      "text/plain": [
       "           Town       FIPS  MedianHouseholdIncome\n",
       "0   Connecticut          9                71755.0\n",
       "1       Andover  901301080               100724.0\n",
       "2       Ansonia  900901220                43386.0\n",
       "3       Ashford  901501430                78313.0\n",
       "4          Avon  900302060               124608.0\n",
       "5   Barkhamsted  900502760               104899.0\n",
       "6  Beacon Falls  900903250                84570.0\n",
       "7        Berlin  900304300                93750.0"
      ]
     },
     "execution_count": 30,
     "metadata": {},
     "output_type": "execute_result"
    }
   ],
   "source": [
    "town_income_df.head(8)"
   ]
  },
  {
   "cell_type": "markdown",
   "metadata": {},
   "source": [
    "#### Join town median income and population data to town_df"
   ]
  },
  {
   "cell_type": "code",
   "execution_count": 31,
   "metadata": {},
   "outputs": [],
   "source": [
    "def add_population_and_income_data(df, town_pop, town_income):\n",
    "    \"\"\"\n",
    "    Assuming df has Town names, will join data from town_income_df and town_population_df by town.\n",
    "    Specifically, grabs 'Population' from town_pop and 'MedianHouseholdIncome', as well as 'FIPS', from town_income.\n",
    "    \"\"\"\n",
    "    new_df = df.copy()\n",
    "    new_df = df.merge(right = town_pop[['Town','Population']], on='Town')\n",
    "    new_df = new_df.merge(right = town_income[['Town','MedianHouseholdIncome','FIPS']], on = 'Town')\n",
    "    return new_df"
   ]
  },
  {
   "cell_type": "code",
   "execution_count": 32,
   "metadata": {},
   "outputs": [
    {
     "data": {
      "text/html": [
       "<div>\n",
       "<style scoped>\n",
       "    .dataframe tbody tr th:only-of-type {\n",
       "        vertical-align: middle;\n",
       "    }\n",
       "\n",
       "    .dataframe tbody tr th {\n",
       "        vertical-align: top;\n",
       "    }\n",
       "\n",
       "    .dataframe thead th {\n",
       "        text-align: right;\n",
       "    }\n",
       "</style>\n",
       "<table border=\"1\" class=\"dataframe\">\n",
       "  <thead>\n",
       "    <tr style=\"text-align: right;\">\n",
       "      <th></th>\n",
       "      <th>Town</th>\n",
       "      <th>MedianAssessedValue</th>\n",
       "      <th>MedianSaleAmount</th>\n",
       "      <th>MedianSalesRatio</th>\n",
       "      <th>MinAssessedValue</th>\n",
       "      <th>MaxAssessedValue</th>\n",
       "      <th>MinSaleAmount</th>\n",
       "      <th>MaxSaleAmount</th>\n",
       "      <th>MinSalesRatio</th>\n",
       "      <th>MaxSalesRatio</th>\n",
       "      <th>Population</th>\n",
       "      <th>MedianHouseholdIncome</th>\n",
       "      <th>FIPS</th>\n",
       "    </tr>\n",
       "  </thead>\n",
       "  <tbody>\n",
       "    <tr>\n",
       "      <th>0</th>\n",
       "      <td>Ansonia</td>\n",
       "      <td>112600</td>\n",
       "      <td>207000</td>\n",
       "      <td>1.4554</td>\n",
       "      <td>23600</td>\n",
       "      <td>312600</td>\n",
       "      <td>20100</td>\n",
       "      <td>710000</td>\n",
       "      <td>0.271374</td>\n",
       "      <td>129.145</td>\n",
       "      <td>18732.0</td>\n",
       "      <td>43386.0</td>\n",
       "      <td>900901220</td>\n",
       "    </tr>\n",
       "    <tr>\n",
       "      <th>1</th>\n",
       "      <td>Ashford</td>\n",
       "      <td>121700</td>\n",
       "      <td>199900</td>\n",
       "      <td>0.904245</td>\n",
       "      <td>27640</td>\n",
       "      <td>1094690</td>\n",
       "      <td>40000</td>\n",
       "      <td>4.025e+06</td>\n",
       "      <td>0.256527</td>\n",
       "      <td>124.14</td>\n",
       "      <td>4236.0</td>\n",
       "      <td>78313.0</td>\n",
       "      <td>901501430</td>\n",
       "    </tr>\n",
       "    <tr>\n",
       "      <th>2</th>\n",
       "      <td>Avon</td>\n",
       "      <td>266180</td>\n",
       "      <td>417500</td>\n",
       "      <td>0.791192</td>\n",
       "      <td>3500</td>\n",
       "      <td>2896370</td>\n",
       "      <td>7500</td>\n",
       "      <td>5e+06</td>\n",
       "      <td>0.180948</td>\n",
       "      <td>112.09</td>\n",
       "      <td>18364.0</td>\n",
       "      <td>124608.0</td>\n",
       "      <td>900302060</td>\n",
       "    </tr>\n",
       "    <tr>\n",
       "      <th>3</th>\n",
       "      <td>Barkhamsted</td>\n",
       "      <td>139195</td>\n",
       "      <td>238250</td>\n",
       "      <td>0.896428</td>\n",
       "      <td>22160</td>\n",
       "      <td>440750</td>\n",
       "      <td>15000</td>\n",
       "      <td>700000</td>\n",
       "      <td>0.408118</td>\n",
       "      <td>155.267</td>\n",
       "      <td>3664.0</td>\n",
       "      <td>104899.0</td>\n",
       "      <td>900502760</td>\n",
       "    </tr>\n",
       "    <tr>\n",
       "      <th>4</th>\n",
       "      <td>Berlin</td>\n",
       "      <td>155900</td>\n",
       "      <td>253500</td>\n",
       "      <td>0.759083</td>\n",
       "      <td>0</td>\n",
       "      <td>1571000</td>\n",
       "      <td>4000</td>\n",
       "      <td>1.35608e+06</td>\n",
       "      <td>0</td>\n",
       "      <td>100.88</td>\n",
       "      <td>20499.0</td>\n",
       "      <td>93750.0</td>\n",
       "      <td>900304300</td>\n",
       "    </tr>\n",
       "    <tr>\n",
       "      <th>5</th>\n",
       "      <td>Bethany</td>\n",
       "      <td>207570</td>\n",
       "      <td>341000</td>\n",
       "      <td>0.868738</td>\n",
       "      <td>17210</td>\n",
       "      <td>678960</td>\n",
       "      <td>12000</td>\n",
       "      <td>1.38e+06</td>\n",
       "      <td>0.304681</td>\n",
       "      <td>137.227</td>\n",
       "      <td>5488.0</td>\n",
       "      <td>106058.0</td>\n",
       "      <td>900904580</td>\n",
       "    </tr>\n",
       "    <tr>\n",
       "      <th>6</th>\n",
       "      <td>Bethel</td>\n",
       "      <td>196480</td>\n",
       "      <td>335000</td>\n",
       "      <td>0.877093</td>\n",
       "      <td>18200</td>\n",
       "      <td>799680</td>\n",
       "      <td>25000</td>\n",
       "      <td>1.4e+06</td>\n",
       "      <td>0.0398337</td>\n",
       "      <td>84.6953</td>\n",
       "      <td>19627.0</td>\n",
       "      <td>94292.0</td>\n",
       "      <td>900104720</td>\n",
       "    </tr>\n",
       "  </tbody>\n",
       "</table>\n",
       "</div>"
      ],
      "text/plain": [
       "          Town MedianAssessedValue MedianSaleAmount MedianSalesRatio  \\\n",
       "0      Ansonia              112600           207000           1.4554   \n",
       "1      Ashford              121700           199900         0.904245   \n",
       "2         Avon              266180           417500         0.791192   \n",
       "3  Barkhamsted              139195           238250         0.896428   \n",
       "4       Berlin              155900           253500         0.759083   \n",
       "5      Bethany              207570           341000         0.868738   \n",
       "6       Bethel              196480           335000         0.877093   \n",
       "\n",
       "  MinAssessedValue MaxAssessedValue MinSaleAmount MaxSaleAmount MinSalesRatio  \\\n",
       "0            23600           312600         20100        710000      0.271374   \n",
       "1            27640          1094690         40000     4.025e+06      0.256527   \n",
       "2             3500          2896370          7500         5e+06      0.180948   \n",
       "3            22160           440750         15000        700000      0.408118   \n",
       "4                0          1571000          4000   1.35608e+06             0   \n",
       "5            17210           678960         12000      1.38e+06      0.304681   \n",
       "6            18200           799680         25000       1.4e+06     0.0398337   \n",
       "\n",
       "  MaxSalesRatio  Population  MedianHouseholdIncome       FIPS  \n",
       "0       129.145     18732.0                43386.0  900901220  \n",
       "1        124.14      4236.0                78313.0  901501430  \n",
       "2        112.09     18364.0               124608.0  900302060  \n",
       "3       155.267      3664.0               104899.0  900502760  \n",
       "4        100.88     20499.0                93750.0  900304300  \n",
       "5       137.227      5488.0               106058.0  900904580  \n",
       "6       84.6953     19627.0                94292.0  900104720  "
      ]
     },
     "execution_count": 32,
     "metadata": {},
     "output_type": "execute_result"
    }
   ],
   "source": [
    "town_df_copy = add_population_and_income_data(town_df, town_pop_df, town_income_df)\n",
    "town_df_copy.head(7)"
   ]
  },
  {
   "cell_type": "code",
   "execution_count": 33,
   "metadata": {},
   "outputs": [
    {
     "data": {
      "text/html": [
       "<div>\n",
       "<style scoped>\n",
       "    .dataframe tbody tr th:only-of-type {\n",
       "        vertical-align: middle;\n",
       "    }\n",
       "\n",
       "    .dataframe tbody tr th {\n",
       "        vertical-align: top;\n",
       "    }\n",
       "\n",
       "    .dataframe thead th {\n",
       "        text-align: right;\n",
       "    }\n",
       "</style>\n",
       "<table border=\"1\" class=\"dataframe\">\n",
       "  <thead>\n",
       "    <tr style=\"text-align: right;\">\n",
       "      <th></th>\n",
       "      <th>Town</th>\n",
       "      <th>MedianAssessedValue</th>\n",
       "      <th>MedianSaleAmount</th>\n",
       "      <th>MedianSalesRatio</th>\n",
       "      <th>MinAssessedValue</th>\n",
       "      <th>MaxAssessedValue</th>\n",
       "      <th>MinSaleAmount</th>\n",
       "      <th>MaxSaleAmount</th>\n",
       "      <th>MinSalesRatio</th>\n",
       "      <th>MaxSalesRatio</th>\n",
       "      <th>Population</th>\n",
       "      <th>MedianHouseholdIncome</th>\n",
       "      <th>FIPS</th>\n",
       "    </tr>\n",
       "  </thead>\n",
       "  <tbody>\n",
       "    <tr>\n",
       "      <th>0</th>\n",
       "      <td>Ansonia</td>\n",
       "      <td>112600</td>\n",
       "      <td>207000</td>\n",
       "      <td>1.4554</td>\n",
       "      <td>23600</td>\n",
       "      <td>312600</td>\n",
       "      <td>20100</td>\n",
       "      <td>710000</td>\n",
       "      <td>0.271374</td>\n",
       "      <td>129.145</td>\n",
       "      <td>18732.0</td>\n",
       "      <td>43386.0</td>\n",
       "      <td>900901220</td>\n",
       "    </tr>\n",
       "    <tr>\n",
       "      <th>1</th>\n",
       "      <td>Ashford</td>\n",
       "      <td>121700</td>\n",
       "      <td>199900</td>\n",
       "      <td>0.904245</td>\n",
       "      <td>27640</td>\n",
       "      <td>1094690</td>\n",
       "      <td>40000</td>\n",
       "      <td>4.025e+06</td>\n",
       "      <td>0.256527</td>\n",
       "      <td>124.14</td>\n",
       "      <td>4236.0</td>\n",
       "      <td>78313.0</td>\n",
       "      <td>901501430</td>\n",
       "    </tr>\n",
       "    <tr>\n",
       "      <th>2</th>\n",
       "      <td>Avon</td>\n",
       "      <td>266180</td>\n",
       "      <td>417500</td>\n",
       "      <td>0.791192</td>\n",
       "      <td>3500</td>\n",
       "      <td>2896370</td>\n",
       "      <td>7500</td>\n",
       "      <td>5e+06</td>\n",
       "      <td>0.180948</td>\n",
       "      <td>112.09</td>\n",
       "      <td>18364.0</td>\n",
       "      <td>124608.0</td>\n",
       "      <td>900302060</td>\n",
       "    </tr>\n",
       "    <tr>\n",
       "      <th>3</th>\n",
       "      <td>Barkhamsted</td>\n",
       "      <td>139195</td>\n",
       "      <td>238250</td>\n",
       "      <td>0.896428</td>\n",
       "      <td>22160</td>\n",
       "      <td>440750</td>\n",
       "      <td>15000</td>\n",
       "      <td>700000</td>\n",
       "      <td>0.408118</td>\n",
       "      <td>155.267</td>\n",
       "      <td>3664.0</td>\n",
       "      <td>104899.0</td>\n",
       "      <td>900502760</td>\n",
       "    </tr>\n",
       "    <tr>\n",
       "      <th>4</th>\n",
       "      <td>Berlin</td>\n",
       "      <td>155900</td>\n",
       "      <td>253500</td>\n",
       "      <td>0.759083</td>\n",
       "      <td>0</td>\n",
       "      <td>1571000</td>\n",
       "      <td>4000</td>\n",
       "      <td>1.35608e+06</td>\n",
       "      <td>0</td>\n",
       "      <td>100.88</td>\n",
       "      <td>20499.0</td>\n",
       "      <td>93750.0</td>\n",
       "      <td>900304300</td>\n",
       "    </tr>\n",
       "  </tbody>\n",
       "</table>\n",
       "</div>"
      ],
      "text/plain": [
       "          Town MedianAssessedValue MedianSaleAmount MedianSalesRatio  \\\n",
       "0      Ansonia              112600           207000           1.4554   \n",
       "1      Ashford              121700           199900         0.904245   \n",
       "2         Avon              266180           417500         0.791192   \n",
       "3  Barkhamsted              139195           238250         0.896428   \n",
       "4       Berlin              155900           253500         0.759083   \n",
       "\n",
       "  MinAssessedValue MaxAssessedValue MinSaleAmount MaxSaleAmount MinSalesRatio  \\\n",
       "0            23600           312600         20100        710000      0.271374   \n",
       "1            27640          1094690         40000     4.025e+06      0.256527   \n",
       "2             3500          2896370          7500         5e+06      0.180948   \n",
       "3            22160           440750         15000        700000      0.408118   \n",
       "4                0          1571000          4000   1.35608e+06             0   \n",
       "\n",
       "  MaxSalesRatio  Population  MedianHouseholdIncome       FIPS  \n",
       "0       129.145     18732.0                43386.0  900901220  \n",
       "1        124.14      4236.0                78313.0  901501430  \n",
       "2        112.09     18364.0               124608.0  900302060  \n",
       "3       155.267      3664.0               104899.0  900502760  \n",
       "4        100.88     20499.0                93750.0  900304300  "
      ]
     },
     "execution_count": 33,
     "metadata": {},
     "output_type": "execute_result"
    }
   ],
   "source": [
    "town_df_copy.head()"
   ]
  },
  {
   "cell_type": "code",
   "execution_count": 34,
   "metadata": {},
   "outputs": [],
   "source": [
    "# Reorder columns for better readability\n",
    "town_df_copy = town_df_copy[['Town', 'FIPS', 'Population', \n",
    "                   'MedianHouseholdIncome', 'MedianSaleAmount', 'MaxSaleAmount', 'MinSaleAmount',\n",
    "                   'MedianAssessedValue', 'MaxAssessedValue', 'MinAssessedValue', 'MaxSalesRatio', 'MinSalesRatio']]"
   ]
  },
  {
   "cell_type": "code",
   "execution_count": 36,
   "metadata": {},
   "outputs": [
    {
     "name": "stdout",
     "output_type": "stream",
     "text": [
      "Stored 'town_df_copy' (DataFrame)\n"
     ]
    }
   ],
   "source": [
    "%store town_df_copy"
   ]
  },
  {
   "cell_type": "code",
   "execution_count": 37,
   "metadata": {},
   "outputs": [],
   "source": [
    "town_df = town_df_copy"
   ]
  },
  {
   "cell_type": "markdown",
   "metadata": {},
   "source": [
    "### Subset towns by population"
   ]
  },
  {
   "cell_type": "code",
   "execution_count": 40,
   "metadata": {},
   "outputs": [
    {
     "data": {
      "text/html": [
       "<div>\n",
       "<style scoped>\n",
       "    .dataframe tbody tr th:only-of-type {\n",
       "        vertical-align: middle;\n",
       "    }\n",
       "\n",
       "    .dataframe tbody tr th {\n",
       "        vertical-align: top;\n",
       "    }\n",
       "\n",
       "    .dataframe thead th {\n",
       "        text-align: right;\n",
       "    }\n",
       "</style>\n",
       "<table border=\"1\" class=\"dataframe\">\n",
       "  <thead>\n",
       "    <tr style=\"text-align: right;\">\n",
       "      <th></th>\n",
       "      <th>Town</th>\n",
       "      <th>FIPS</th>\n",
       "      <th>Population</th>\n",
       "      <th>MedianHouseholdIncome</th>\n",
       "      <th>MedianSaleAmount</th>\n",
       "      <th>MaxSaleAmount</th>\n",
       "      <th>MinSaleAmount</th>\n",
       "      <th>MedianAssessedValue</th>\n",
       "      <th>MaxAssessedValue</th>\n",
       "      <th>MinAssessedValue</th>\n",
       "      <th>MaxSalesRatio</th>\n",
       "      <th>MinSalesRatio</th>\n",
       "    </tr>\n",
       "  </thead>\n",
       "  <tbody>\n",
       "    <tr>\n",
       "      <th>0</th>\n",
       "      <td>Ansonia</td>\n",
       "      <td>900901220</td>\n",
       "      <td>18732.0</td>\n",
       "      <td>43386.0</td>\n",
       "      <td>207000</td>\n",
       "      <td>710000</td>\n",
       "      <td>20100</td>\n",
       "      <td>112600</td>\n",
       "      <td>312600</td>\n",
       "      <td>23600</td>\n",
       "      <td>129.145</td>\n",
       "      <td>0.271374</td>\n",
       "    </tr>\n",
       "    <tr>\n",
       "      <th>1</th>\n",
       "      <td>Ashford</td>\n",
       "      <td>901501430</td>\n",
       "      <td>4236.0</td>\n",
       "      <td>78313.0</td>\n",
       "      <td>199900</td>\n",
       "      <td>4.025e+06</td>\n",
       "      <td>40000</td>\n",
       "      <td>121700</td>\n",
       "      <td>1094690</td>\n",
       "      <td>27640</td>\n",
       "      <td>124.14</td>\n",
       "      <td>0.256527</td>\n",
       "    </tr>\n",
       "    <tr>\n",
       "      <th>2</th>\n",
       "      <td>Avon</td>\n",
       "      <td>900302060</td>\n",
       "      <td>18364.0</td>\n",
       "      <td>124608.0</td>\n",
       "      <td>417500</td>\n",
       "      <td>5e+06</td>\n",
       "      <td>7500</td>\n",
       "      <td>266180</td>\n",
       "      <td>2896370</td>\n",
       "      <td>3500</td>\n",
       "      <td>112.09</td>\n",
       "      <td>0.180948</td>\n",
       "    </tr>\n",
       "    <tr>\n",
       "      <th>3</th>\n",
       "      <td>Barkhamsted</td>\n",
       "      <td>900502760</td>\n",
       "      <td>3664.0</td>\n",
       "      <td>104899.0</td>\n",
       "      <td>238250</td>\n",
       "      <td>700000</td>\n",
       "      <td>15000</td>\n",
       "      <td>139195</td>\n",
       "      <td>440750</td>\n",
       "      <td>22160</td>\n",
       "      <td>155.267</td>\n",
       "      <td>0.408118</td>\n",
       "    </tr>\n",
       "    <tr>\n",
       "      <th>4</th>\n",
       "      <td>Berlin</td>\n",
       "      <td>900304300</td>\n",
       "      <td>20499.0</td>\n",
       "      <td>93750.0</td>\n",
       "      <td>253500</td>\n",
       "      <td>1.35608e+06</td>\n",
       "      <td>4000</td>\n",
       "      <td>155900</td>\n",
       "      <td>1571000</td>\n",
       "      <td>0</td>\n",
       "      <td>100.88</td>\n",
       "      <td>0</td>\n",
       "    </tr>\n",
       "  </tbody>\n",
       "</table>\n",
       "</div>"
      ],
      "text/plain": [
       "          Town       FIPS  Population  MedianHouseholdIncome MedianSaleAmount  \\\n",
       "0      Ansonia  900901220     18732.0                43386.0           207000   \n",
       "1      Ashford  901501430      4236.0                78313.0           199900   \n",
       "2         Avon  900302060     18364.0               124608.0           417500   \n",
       "3  Barkhamsted  900502760      3664.0               104899.0           238250   \n",
       "4       Berlin  900304300     20499.0                93750.0           253500   \n",
       "\n",
       "  MaxSaleAmount MinSaleAmount MedianAssessedValue MaxAssessedValue  \\\n",
       "0        710000         20100              112600           312600   \n",
       "1     4.025e+06         40000              121700          1094690   \n",
       "2         5e+06          7500              266180          2896370   \n",
       "3        700000         15000              139195           440750   \n",
       "4   1.35608e+06          4000              155900          1571000   \n",
       "\n",
       "  MinAssessedValue MaxSalesRatio MinSalesRatio  \n",
       "0            23600       129.145      0.271374  \n",
       "1            27640        124.14      0.256527  \n",
       "2             3500        112.09      0.180948  \n",
       "3            22160       155.267      0.408118  \n",
       "4                0        100.88             0  "
      ]
     },
     "execution_count": 40,
     "metadata": {},
     "output_type": "execute_result"
    }
   ],
   "source": [
    "town_df.head()"
   ]
  },
  {
   "cell_type": "code",
   "execution_count": 41,
   "metadata": {},
   "outputs": [
    {
     "data": {
      "text/plain": [
       "count       169.00000\n",
       "mean      21162.43787\n",
       "std       25507.22165\n",
       "min         840.00000\n",
       "25%        5433.00000\n",
       "50%       12631.00000\n",
       "75%       25737.00000\n",
       "max      145936.00000\n",
       "Name: Population, dtype: float64"
      ]
     },
     "execution_count": 41,
     "metadata": {},
     "output_type": "execute_result"
    }
   ],
   "source": [
    "town_df['Population'].describe()"
   ]
  },
  {
   "cell_type": "code",
   "execution_count": 42,
   "metadata": {},
   "outputs": [],
   "source": [
    "tiny_town = town_df[town_df['Population'].isin(range(0,5433))] # 25th percentile\n",
    "small_town = town_df[town_df['Population'].isin(range(5433,12631))] # 25th-50th percentile\n",
    "medium_town = town_df[town_df['Population'].isin(range(12631,25737))] # 50th-7th percentile\n",
    "large_town = town_df[town_df['Population'].isin(range(25737,200000))] #75th percentile to max"
   ]
  },
  {
   "cell_type": "code",
   "execution_count": 43,
   "metadata": {},
   "outputs": [
    {
     "data": {
      "text/plain": [
       "169"
      ]
     },
     "execution_count": 43,
     "metadata": {},
     "output_type": "execute_result"
    }
   ],
   "source": [
    "len(tiny_town) + len(small_town) + len(medium_town) + len(large_town)"
   ]
  },
  {
   "cell_type": "code",
   "execution_count": null,
   "metadata": {},
   "outputs": [],
   "source": []
  }
 ],
 "metadata": {
  "kernelspec": {
   "display_name": "Python 3",
   "language": "python",
   "name": "python3"
  },
  "language_info": {
   "codemirror_mode": {
    "name": "ipython",
    "version": 3
   },
   "file_extension": ".py",
   "mimetype": "text/x-python",
   "name": "python",
   "nbconvert_exporter": "python",
   "pygments_lexer": "ipython3",
   "version": "3.6.5"
  }
 },
 "nbformat": 4,
 "nbformat_minor": 2
}
