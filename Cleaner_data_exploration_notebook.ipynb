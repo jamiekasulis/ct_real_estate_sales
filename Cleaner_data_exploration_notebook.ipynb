{
 "cells": [
  {
   "cell_type": "markdown",
   "metadata": {},
   "source": [
    "This is a cleaned-up version of my data exploration notebook. Things were starting to get cluttered in the other one."
   ]
  },
  {
   "cell_type": "markdown",
   "metadata": {},
   "source": [
    "### Potential Inquiries\n",
    "* See where properties with multiple transactions gained and lost value --> (How many houses, how much value, by town, over different periods of time)\n",
    "* Foreclosures-- where and when have there been a lot?\n",
    "* Building of new developments? (Might be shown by selling many houses in a short period of time on a new road)\n",
    "* Signs of house flipping, i.e. a purchase and a sale for significantly more within a short period\n",
    "* Has recovery been different for different segments of the market (different price-range houses)?\n",
    "* Are there observable effects of the crumbling fundations in the northeastern part of CT?"
   ]
  },
  {
   "cell_type": "markdown",
   "metadata": {},
   "source": [
    "### Calculations\n",
    "* Adjust sales prices for inflation/season -- there is a Python package for seasonal adjustment\n",
    "* Take a close look at the assessment column\n",
    "* Each town's assessment rate, or look at a hosue's sale ratio relative to its town only\n",
    "* Distribution of house prices in given towns, or on given streets\n",
    "* Town-by-town medians, ranges"
   ]
  },
  {
   "cell_type": "code",
   "execution_count": 41,
   "metadata": {},
   "outputs": [],
   "source": [
    "import pandas as pd\n",
    "import matplotlib\n",
    "%matplotlib inline\n",
    "pd.set_option('display.float_format', lambda x: '%.3f' % x)"
   ]
  },
  {
   "cell_type": "markdown",
   "metadata": {},
   "source": [
    "#### Update MAX_YEAR when new data comes out."
   ]
  },
  {
   "cell_type": "code",
   "execution_count": 42,
   "metadata": {},
   "outputs": [],
   "source": [
    "MIN_YEAR = 2001\n",
    "MAX_YEAR = 2016 # update this when new data comes out"
   ]
  },
  {
   "cell_type": "markdown",
   "metadata": {},
   "source": [
    "#### Load in the clean data"
   ]
  },
  {
   "cell_type": "code",
   "execution_count": 94,
   "metadata": {},
   "outputs": [],
   "source": [
    "def pull_out_recorded_year_and_month(df):\n",
    "    \"\"\"\n",
    "    Returns a copy of df with columns Month and Year, which are extracted from DateRecorded.\n",
    "    \"\"\"\n",
    "    new_df = df.copy()\n",
    "    new_df['Year'] = new_df['DateRecorded'].str[6:10]\n",
    "    new_df['Month'] = new_df['DateRecorded'].str[0:2]\n",
    "    \n",
    "    #new_df['Year'] = new_df['Year'].astype(int)\n",
    "    \n",
    "    return new_df"
   ]
  },
  {
   "cell_type": "code",
   "execution_count": 99,
   "metadata": {},
   "outputs": [],
   "source": [
    "def combine_data_into_master_df():\n",
    "    \"\"\"\n",
    "    Returns a DataFrame which combines all of the clean CSVs for each year.\n",
    "    \"\"\"\n",
    "    # Combine the year-by-year clean csvs, which are located at 'data/clean_data_20xx_listings.csv'\n",
    "    df = pd.read_csv('data/clean_data_' + str(MIN_YEAR) + '_listings.csv')\n",
    "    for year in range(MIN_YEAR+1, MAX_YEAR+1):\n",
    "        df = df.append(pd.read_csv('data/clean_data_' + str(year) + '_listings.csv'))\n",
    "\n",
    "    # Now remove the index column\n",
    "    #df = df.drop('Unnamed: 0', 1)\n",
    "    return pull_out_recorded_year_and_month(df) # Pull out month, year of DateRecorded and return"
   ]
  },
  {
   "cell_type": "code",
   "execution_count": 100,
   "metadata": {},
   "outputs": [],
   "source": [
    "df = combine_data_into_master_df()"
   ]
  },
  {
   "cell_type": "code",
   "execution_count": 101,
   "metadata": {},
   "outputs": [
    {
     "data": {
      "text/html": [
       "<div>\n",
       "<style scoped>\n",
       "    .dataframe tbody tr th:only-of-type {\n",
       "        vertical-align: middle;\n",
       "    }\n",
       "\n",
       "    .dataframe tbody tr th {\n",
       "        vertical-align: top;\n",
       "    }\n",
       "\n",
       "    .dataframe thead th {\n",
       "        text-align: right;\n",
       "    }\n",
       "</style>\n",
       "<table border=\"1\" class=\"dataframe\">\n",
       "  <thead>\n",
       "    <tr style=\"text-align: right;\">\n",
       "      <th></th>\n",
       "      <th>ID</th>\n",
       "      <th>SerialNumber</th>\n",
       "      <th>ListYear</th>\n",
       "      <th>DateRecorded</th>\n",
       "      <th>Town</th>\n",
       "      <th>Address</th>\n",
       "      <th>AssessedValue</th>\n",
       "      <th>SaleAmount</th>\n",
       "      <th>SalesRatio</th>\n",
       "      <th>PropertyType</th>\n",
       "      <th>ResidentialType</th>\n",
       "      <th>NonUseCode</th>\n",
       "      <th>Remarks</th>\n",
       "      <th>Year</th>\n",
       "      <th>Month</th>\n",
       "    </tr>\n",
       "  </thead>\n",
       "  <tbody>\n",
       "    <tr>\n",
       "      <th>0</th>\n",
       "      <td>684</td>\n",
       "      <td>10173</td>\n",
       "      <td>2001</td>\n",
       "      <td>04/17/2002 12:00:00 AM</td>\n",
       "      <td>Ansonia</td>\n",
       "      <td>1-3 EAGLE STREET</td>\n",
       "      <td>63630</td>\n",
       "      <td>116000.000</td>\n",
       "      <td>54.853</td>\n",
       "      <td>Residential</td>\n",
       "      <td>Two Family</td>\n",
       "      <td>0</td>\n",
       "      <td>NaN</td>\n",
       "      <td>2002</td>\n",
       "      <td>04</td>\n",
       "    </tr>\n",
       "    <tr>\n",
       "      <th>1</th>\n",
       "      <td>694</td>\n",
       "      <td>10005</td>\n",
       "      <td>2001</td>\n",
       "      <td>10/04/2001 12:00:00 AM</td>\n",
       "      <td>Ansonia</td>\n",
       "      <td>1 CRESTWOOD ROAD</td>\n",
       "      <td>76370</td>\n",
       "      <td>160000.000</td>\n",
       "      <td>47.731</td>\n",
       "      <td>Residential</td>\n",
       "      <td>Single Family</td>\n",
       "      <td>0</td>\n",
       "      <td>NaN</td>\n",
       "      <td>2001</td>\n",
       "      <td>10</td>\n",
       "    </tr>\n",
       "    <tr>\n",
       "      <th>2</th>\n",
       "      <td>697</td>\n",
       "      <td>10253</td>\n",
       "      <td>2001</td>\n",
       "      <td>06/18/2002 12:00:00 AM</td>\n",
       "      <td>Ansonia</td>\n",
       "      <td>1 DAVIES CT</td>\n",
       "      <td>97720</td>\n",
       "      <td>180000.000</td>\n",
       "      <td>54.289</td>\n",
       "      <td>Residential</td>\n",
       "      <td>Single Family</td>\n",
       "      <td>0</td>\n",
       "      <td>NaN</td>\n",
       "      <td>2002</td>\n",
       "      <td>06</td>\n",
       "    </tr>\n",
       "    <tr>\n",
       "      <th>3</th>\n",
       "      <td>698</td>\n",
       "      <td>10094</td>\n",
       "      <td>2001</td>\n",
       "      <td>01/17/2002 12:00:00 AM</td>\n",
       "      <td>Ansonia</td>\n",
       "      <td>1 DOREL TERRACE</td>\n",
       "      <td>110600</td>\n",
       "      <td>259900.000</td>\n",
       "      <td>42.555</td>\n",
       "      <td>Residential</td>\n",
       "      <td>Single Family</td>\n",
       "      <td>0</td>\n",
       "      <td>NaN</td>\n",
       "      <td>2002</td>\n",
       "      <td>01</td>\n",
       "    </tr>\n",
       "    <tr>\n",
       "      <th>4</th>\n",
       "      <td>710</td>\n",
       "      <td>10100</td>\n",
       "      <td>2001</td>\n",
       "      <td>01/30/2002 12:00:00 AM</td>\n",
       "      <td>Ansonia</td>\n",
       "      <td>1 JAMES STREET</td>\n",
       "      <td>63210</td>\n",
       "      <td>132000.000</td>\n",
       "      <td>47.886</td>\n",
       "      <td>Residential</td>\n",
       "      <td>Single Family</td>\n",
       "      <td>0</td>\n",
       "      <td>NaN</td>\n",
       "      <td>2002</td>\n",
       "      <td>01</td>\n",
       "    </tr>\n",
       "  </tbody>\n",
       "</table>\n",
       "</div>"
      ],
      "text/plain": [
       "    ID  SerialNumber  ListYear            DateRecorded     Town  \\\n",
       "0  684         10173      2001  04/17/2002 12:00:00 AM  Ansonia   \n",
       "1  694         10005      2001  10/04/2001 12:00:00 AM  Ansonia   \n",
       "2  697         10253      2001  06/18/2002 12:00:00 AM  Ansonia   \n",
       "3  698         10094      2001  01/17/2002 12:00:00 AM  Ansonia   \n",
       "4  710         10100      2001  01/30/2002 12:00:00 AM  Ansonia   \n",
       "\n",
       "            Address  AssessedValue  SaleAmount  SalesRatio PropertyType  \\\n",
       "0  1-3 EAGLE STREET          63630  116000.000      54.853  Residential   \n",
       "1  1 CRESTWOOD ROAD          76370  160000.000      47.731  Residential   \n",
       "2       1 DAVIES CT          97720  180000.000      54.289  Residential   \n",
       "3   1 DOREL TERRACE         110600  259900.000      42.555  Residential   \n",
       "4    1 JAMES STREET          63210  132000.000      47.886  Residential   \n",
       "\n",
       "  ResidentialType  NonUseCode Remarks  Year Month  \n",
       "0      Two Family           0     NaN  2002    04  \n",
       "1   Single Family           0     NaN  2001    10  \n",
       "2   Single Family           0     NaN  2002    06  \n",
       "3   Single Family           0     NaN  2002    01  \n",
       "4   Single Family           0     NaN  2002    01  "
      ]
     },
     "execution_count": 101,
     "metadata": {},
     "output_type": "execute_result"
    }
   ],
   "source": [
    "df.head()"
   ]
  },
  {
   "cell_type": "markdown",
   "metadata": {},
   "source": [
    "### Notes on the data frames\n",
    "* Use DataFrame 'df' if you want to look at ALL of the clean data\n",
    "* Use 'use_df' if you want to just look at the rows that don't have NonUseCodes. You should use use_df if you are calculating any statistics.\n",
    "* Use 'res_df' if you want to look at RESIDENTIAL properties (but not condos or apartments) that don't have NonUseCodes. Best way to standardize."
   ]
  },
  {
   "cell_type": "code",
   "execution_count": 102,
   "metadata": {},
   "outputs": [],
   "source": [
    "def get_residential(df):\n",
    "    \"\"\"\n",
    "    Returns just the residential properties.\n",
    "    \"\"\"\n",
    "    return df[df['PropertyType'] == 'Residential']"
   ]
  },
  {
   "cell_type": "code",
   "execution_count": 103,
   "metadata": {},
   "outputs": [],
   "source": [
    "def get_commercial(df):\n",
    "    \"\"\"\n",
    "    Returns just the commercial properties.\n",
    "    \"\"\"\n",
    "    return df[df['PropertyType'] == 'Commercial']"
   ]
  },
  {
   "cell_type": "code",
   "execution_count": 104,
   "metadata": {},
   "outputs": [],
   "source": [
    "use_df = df[df['NonUseCode'] < 1]\n",
    "res_df = get_residential(use_df)"
   ]
  },
  {
   "cell_type": "markdown",
   "metadata": {},
   "source": [
    "### Calculate town-by-town statistics"
   ]
  },
  {
   "cell_type": "markdown",
   "metadata": {},
   "source": [
    "#### Dataframes:\n",
    "* town_df for all residential properties without NonUseCodes in time range MINYEAR - MAXYEAR"
   ]
  },
  {
   "cell_type": "markdown",
   "metadata": {},
   "source": [
    "#### Medians"
   ]
  },
  {
   "cell_type": "code",
   "execution_count": 49,
   "metadata": {},
   "outputs": [],
   "source": [
    "# Make a dataframe with each town. We will store summary statistics in this dataframe.\n",
    "town_df = pd.DataFrame(columns=['Town', 'MedianAssessedValue', 'MedianSaleAmount', 'MedianSalesRatio',\n",
    "                               'MinAssessedValue', 'MaxAssessedValue', 'MinSaleAmount', 'MaxSaleAmount',\n",
    "                               'MinSalesRatio', 'MaxSalesRatio'])\n",
    "town_df['Town'] = df['Town'].unique()"
   ]
  },
  {
   "cell_type": "code",
   "execution_count": 50,
   "metadata": {},
   "outputs": [],
   "source": [
    "def calculate_median_for_town(source_df, town, column, residential=True):\n",
    "    \"\"\"\n",
    "    Calculates the median value of 'column' for a given town from df.\n",
    "    NOTE: This is the median assessed value for SOLD properties. Will be\n",
    "    different from the median assessed value for ALL properties.\n",
    "    \n",
    "    source_df should omit properties with a NonUseCode.\n",
    "    \"\"\"\n",
    "    just_this_town = source_df[source_df['Town'] == town]\n",
    "    \n",
    "    if residential==True:\n",
    "        just_this_town = get_residential(just_this_town)\n",
    "    \n",
    "    return just_this_town[column].median()"
   ]
  },
  {
   "cell_type": "code",
   "execution_count": 51,
   "metadata": {},
   "outputs": [],
   "source": [
    "def calculate_medians_for_all_towns(town_df_arg, source_df, column, residential=True):\n",
    "    \"\"\"\n",
    "    Calculates the median value of 'column' for ALL unique towns in df.\n",
    "    Returns this information as a DataFrame\n",
    "    \"\"\"\n",
    "    median_column_name = 'Median' + column\n",
    "    new_town_df = town_df_arg.copy()\n",
    "    for index in new_town_df.index:\n",
    "        town = new_town_df.loc[index, 'Town']\n",
    "        new_town_df.loc[index, median_column_name] = calculate_median_for_town(source_df, town, column, residential)\n",
    "    \n",
    "    return new_town_df"
   ]
  },
  {
   "cell_type": "code",
   "execution_count": 52,
   "metadata": {},
   "outputs": [],
   "source": [
    "# Now update town_df to hold the medians\n",
    "town_df = calculate_medians_for_all_towns(town_df, res_df, 'AssessedValue')\n",
    "town_df = calculate_medians_for_all_towns(town_df, res_df, 'SaleAmount')\n",
    "town_df = calculate_medians_for_all_towns(town_df, res_df, 'SalesRatio')"
   ]
  },
  {
   "cell_type": "markdown",
   "metadata": {},
   "source": [
    "#### Mins and maxes"
   ]
  },
  {
   "cell_type": "code",
   "execution_count": 53,
   "metadata": {},
   "outputs": [],
   "source": [
    "def get_town_min(source_df, town_df, town, column):\n",
    "    \"\"\"\n",
    "    Finds the row with the minimum value of column for a given town in source_df.\n",
    "    Saves this to town_df (as a separate copy).\n",
    "    \n",
    "    source_df should be residential properties w/o NonUseCodes if you are using res_df.\n",
    "    \"\"\"\n",
    "    just_this_town = source_df[source_df['Town'] == town] # get the data for just this town\n",
    "    \n",
    "    min_val = just_this_town[column] # a list of values to find the minimum from\n",
    "    min_val = min_val.min() # Grab the minimum column value\n",
    "    min_row = just_this_town[just_this_town[column] == min_val] # Grab the row\n",
    "    return min_row"
   ]
  },
  {
   "cell_type": "code",
   "execution_count": 54,
   "metadata": {},
   "outputs": [],
   "source": [
    "def get_town_max(source_df, town_df, town, column):\n",
    "    \"\"\"\n",
    "    Finds the row with the maximum value of column for a given town in source_df.\n",
    "    Saves this to town_df (as a separate copy).\n",
    "    \n",
    "    source_df should be residential properties w/o NonUseCodes if you are using res_df.\n",
    "    \"\"\"\n",
    "    just_this_town = source_df[source_df['Town'] == town] # get the data for just this town\n",
    "    \n",
    "    town_df = just_this_town[column] # a list of values to find the minimum from\n",
    "    max_val = town_df.max() # Grab the minimum column value\n",
    "    max_row = just_this_town[just_this_town[column] == max_val] # Grab the row\n",
    "    return max_row"
   ]
  },
  {
   "cell_type": "code",
   "execution_count": 55,
   "metadata": {},
   "outputs": [],
   "source": [
    "def calculate_town_mins_and_maxes(source_df, town_df, column):\n",
    "    \"\"\"\n",
    "    Will use the data from source_df to calculate mins and maxes for column for every town.\n",
    "    \"\"\"\n",
    "    new_town_df = town_df.copy()\n",
    "    \n",
    "    # Calculate min and max for each town\n",
    "    for index in town_df.index:\n",
    "        max_val = get_town_max(source_df, town_df, town_df.loc[index, 'Town'], column)[column].iloc[0]\n",
    "        min_val = get_town_min(source_df, town_df, town_df.loc[index, 'Town'], column)[column].iloc[0]\n",
    "    \n",
    "        # Add to new_town_df\n",
    "        min_column_name = 'Min' + column\n",
    "        max_column_name = 'Max' + column\n",
    "        new_town_df.loc[index, min_column_name] = min_val\n",
    "        new_town_df.loc[index, max_column_name] = max_val\n",
    "    \n",
    "    return new_town_df"
   ]
  },
  {
   "cell_type": "code",
   "execution_count": 56,
   "metadata": {},
   "outputs": [],
   "source": [
    "town_df = calculate_town_mins_and_maxes(res_df, town_df, 'SaleAmount')\n",
    "town_df = calculate_town_mins_and_maxes(res_df, town_df, 'SalesRatio')\n",
    "town_df = calculate_town_mins_and_maxes(res_df, town_df, 'AssessedValue')"
   ]
  },
  {
   "cell_type": "code",
   "execution_count": 57,
   "metadata": {},
   "outputs": [
    {
     "name": "stdout",
     "output_type": "stream",
     "text": [
      "Stored 'town_df' (DataFrame)\n"
     ]
    }
   ],
   "source": [
    "%store town_df"
   ]
  },
  {
   "cell_type": "markdown",
   "metadata": {},
   "source": [
    "### Timeseries functionality\n",
    "Should be able to make timeseries for individual towns and all towns on:\n",
    "* Median of any column\n",
    "* Number sold in each year"
   ]
  },
  {
   "cell_type": "markdown",
   "metadata": {},
   "source": [
    "#### Median timeseries"
   ]
  },
  {
   "cell_type": "code",
   "execution_count": 114,
   "metadata": {},
   "outputs": [],
   "source": [
    "def get_years_median(column, year, town='Connecticut', source_df=res_df):\n",
    "    \"\"\"\n",
    "    Returns the median value of column for town from year, using data from source_df, as a list.\n",
    "    This is a HELPER FUNCTION for median_timeseries()\n",
    "    \"\"\"\n",
    "    \n",
    "    if town != 'Connecticut':\n",
    "        # Get the rows for this town in the given year\n",
    "        just_this_town = source_df[source_df['Town'] == town]\n",
    "    else:\n",
    "        # Look at all the data from the state\n",
    "        just_this_town = source_df\n",
    "\n",
    "    # Grab just the year you want\n",
    "    town_by_year = just_this_town[just_this_town['Year'] == year]\n",
    "\n",
    "    # Calculate and return the median\n",
    "    median = town_by_year[column].median()\n",
    "    if median == 'nan':\n",
    "        return -1\n",
    "    else:\n",
    "        return median"
   ]
  },
  {
   "cell_type": "code",
   "execution_count": 115,
   "metadata": {},
   "outputs": [],
   "source": [
    "def median_timeseries(column, town='Connecticut', startyear=MIN_YEAR, endyear=MAX_YEAR, source_df=res_df):\n",
    "    \"\"\"\n",
    "    Returns a time series for a particular town and column, from start year to endyear.\n",
    "    Values are the median of column.\n",
    "    Grabs the data from source_df.\n",
    "    \"\"\"\n",
    "    # Make the DataFrame's attributes\n",
    "    index = list(range(startyear, endyear+1))\n",
    "    columns = [town]\n",
    "    \n",
    "    # Generate a list of medians using helper function\n",
    "    list_of_medians = []\n",
    "    for year in index:\n",
    "        list_of_medians.append(get_years_median(column, year, town))\n",
    "        \n",
    "    return pd.DataFrame(data=list_of_medians, index=index, columns=columns)"
   ]
  },
  {
   "cell_type": "code",
   "execution_count": 116,
   "metadata": {},
   "outputs": [],
   "source": [
    "def median_timeseries_all_towns(column, startyear=MIN_YEAR, endyear=MAX_YEAR, source_df=res_df):\n",
    "    \"\"\"\n",
    "    Returns a time series of all towns in CT, as well as the CT average.\n",
    "    Each column is a year with values being the median of 'column' for that town in that year.\n",
    "    \"\"\"\n",
    "    # Make the DataFrame's attributes\n",
    "    columns = list(range(startyear, endyear+1))\n",
    "    time_series = pd.DataFrame(columns=columns, data = median_timeseries(column).transpose())\n",
    "    \n",
    "    # Add in the info for each town\n",
    "    for town in source_df['Town'].unique():\n",
    "        time_series = pd.concat([time_series, median_timeseries(column, town).transpose()])\n",
    "        \n",
    "    # Add in town name column\n",
    "    time_series['Town'] = time_series.index\n",
    "            \n",
    "    return time_series"
   ]
  },
  {
   "cell_type": "code",
   "execution_count": null,
   "metadata": {},
   "outputs": [],
   "source": [
    "# Save the saleamount timeseries for all towns for use later.\n",
    "saleamount_ts_all = median_timeseries_all_towns('SaleAmount')\n",
    "%save saleamount_ts_all"
   ]
  },
  {
   "cell_type": "code",
   "execution_count": 80,
   "metadata": {},
   "outputs": [
    {
     "data": {
      "text/html": [
       "<div>\n",
       "<style scoped>\n",
       "    .dataframe tbody tr th:only-of-type {\n",
       "        vertical-align: middle;\n",
       "    }\n",
       "\n",
       "    .dataframe tbody tr th {\n",
       "        vertical-align: top;\n",
       "    }\n",
       "\n",
       "    .dataframe thead th {\n",
       "        text-align: right;\n",
       "    }\n",
       "</style>\n",
       "<table border=\"1\" class=\"dataframe\">\n",
       "  <thead>\n",
       "    <tr style=\"text-align: right;\">\n",
       "      <th></th>\n",
       "      <th>2001</th>\n",
       "      <th>2002</th>\n",
       "      <th>2003</th>\n",
       "      <th>2004</th>\n",
       "      <th>2005</th>\n",
       "      <th>2006</th>\n",
       "      <th>2007</th>\n",
       "      <th>2008</th>\n",
       "      <th>2009</th>\n",
       "      <th>2010</th>\n",
       "      <th>2011</th>\n",
       "      <th>2012</th>\n",
       "      <th>2013</th>\n",
       "      <th>2014</th>\n",
       "      <th>2015</th>\n",
       "      <th>2016</th>\n",
       "      <th>Town</th>\n",
       "    </tr>\n",
       "  </thead>\n",
       "  <tbody>\n",
       "    <tr>\n",
       "      <th>Connecticut</th>\n",
       "      <td>200000.000</td>\n",
       "      <td>220000.000</td>\n",
       "      <td>240000.000</td>\n",
       "      <td>267500.000</td>\n",
       "      <td>273000.000</td>\n",
       "      <td>305000.000</td>\n",
       "      <td>285000.000</td>\n",
       "      <td>260000.000</td>\n",
       "      <td>275000.000</td>\n",
       "      <td>260000.000</td>\n",
       "      <td>282500.000</td>\n",
       "      <td>282500.000</td>\n",
       "      <td>265000.000</td>\n",
       "      <td>215000.000</td>\n",
       "      <td>245000.000</td>\n",
       "      <td>259000.000</td>\n",
       "      <td>Connecticut</td>\n",
       "    </tr>\n",
       "    <tr>\n",
       "      <th>Ansonia</th>\n",
       "      <td>153000.000</td>\n",
       "      <td>nan</td>\n",
       "      <td>216300.000</td>\n",
       "      <td>240000.000</td>\n",
       "      <td>260000.000</td>\n",
       "      <td>254950.000</td>\n",
       "      <td>nan</td>\n",
       "      <td>230000.000</td>\n",
       "      <td>210000.000</td>\n",
       "      <td>183000.000</td>\n",
       "      <td>180500.000</td>\n",
       "      <td>nan</td>\n",
       "      <td>185000.000</td>\n",
       "      <td>150500.000</td>\n",
       "      <td>190950.000</td>\n",
       "      <td>195000.000</td>\n",
       "      <td>Ansonia</td>\n",
       "    </tr>\n",
       "    <tr>\n",
       "      <th>Ashford</th>\n",
       "      <td>144500.000</td>\n",
       "      <td>nan</td>\n",
       "      <td>147250.000</td>\n",
       "      <td>200575.000</td>\n",
       "      <td>230950.000</td>\n",
       "      <td>259950.000</td>\n",
       "      <td>nan</td>\n",
       "      <td>216240.000</td>\n",
       "      <td>231250.000</td>\n",
       "      <td>229000.000</td>\n",
       "      <td>nan</td>\n",
       "      <td>188500.000</td>\n",
       "      <td>180700.000</td>\n",
       "      <td>179000.000</td>\n",
       "      <td>206500.000</td>\n",
       "      <td>nan</td>\n",
       "      <td>Ashford</td>\n",
       "    </tr>\n",
       "    <tr>\n",
       "      <th>Avon</th>\n",
       "      <td>355000.000</td>\n",
       "      <td>406859.000</td>\n",
       "      <td>nan</td>\n",
       "      <td>465000.000</td>\n",
       "      <td>495500.000</td>\n",
       "      <td>496250.000</td>\n",
       "      <td>469750.000</td>\n",
       "      <td>520000.000</td>\n",
       "      <td>450000.000</td>\n",
       "      <td>462500.000</td>\n",
       "      <td>492000.000</td>\n",
       "      <td>477500.000</td>\n",
       "      <td>nan</td>\n",
       "      <td>349000.000</td>\n",
       "      <td>380000.000</td>\n",
       "      <td>353500.000</td>\n",
       "      <td>Avon</td>\n",
       "    </tr>\n",
       "    <tr>\n",
       "      <th>Barkhamsted</th>\n",
       "      <td>185000.000</td>\n",
       "      <td>210000.000</td>\n",
       "      <td>nan</td>\n",
       "      <td>254500.000</td>\n",
       "      <td>265500.000</td>\n",
       "      <td>259500.000</td>\n",
       "      <td>247500.000</td>\n",
       "      <td>nan</td>\n",
       "      <td>239800.000</td>\n",
       "      <td>245000.000</td>\n",
       "      <td>247500.000</td>\n",
       "      <td>208900.000</td>\n",
       "      <td>nan</td>\n",
       "      <td>225000.000</td>\n",
       "      <td>250000.000</td>\n",
       "      <td>265000.000</td>\n",
       "      <td>Barkhamsted</td>\n",
       "    </tr>\n",
       "  </tbody>\n",
       "</table>\n",
       "</div>"
      ],
      "text/plain": [
       "                  2001       2002       2003       2004       2005       2006  \\\n",
       "Connecticut 200000.000 220000.000 240000.000 267500.000 273000.000 305000.000   \n",
       "Ansonia     153000.000        nan 216300.000 240000.000 260000.000 254950.000   \n",
       "Ashford     144500.000        nan 147250.000 200575.000 230950.000 259950.000   \n",
       "Avon        355000.000 406859.000        nan 465000.000 495500.000 496250.000   \n",
       "Barkhamsted 185000.000 210000.000        nan 254500.000 265500.000 259500.000   \n",
       "\n",
       "                  2007       2008       2009       2010       2011       2012  \\\n",
       "Connecticut 285000.000 260000.000 275000.000 260000.000 282500.000 282500.000   \n",
       "Ansonia            nan 230000.000 210000.000 183000.000 180500.000        nan   \n",
       "Ashford            nan 216240.000 231250.000 229000.000        nan 188500.000   \n",
       "Avon        469750.000 520000.000 450000.000 462500.000 492000.000 477500.000   \n",
       "Barkhamsted 247500.000        nan 239800.000 245000.000 247500.000 208900.000   \n",
       "\n",
       "                  2013       2014       2015       2016         Town  \n",
       "Connecticut 265000.000 215000.000 245000.000 259000.000  Connecticut  \n",
       "Ansonia     185000.000 150500.000 190950.000 195000.000      Ansonia  \n",
       "Ashford     180700.000 179000.000 206500.000        nan      Ashford  \n",
       "Avon               nan 349000.000 380000.000 353500.000         Avon  \n",
       "Barkhamsted        nan 225000.000 250000.000 265000.000  Barkhamsted  "
      ]
     },
     "execution_count": 80,
     "metadata": {},
     "output_type": "execute_result"
    }
   ],
   "source": [
    "saleamount_ts_all.head()"
   ]
  },
  {
   "cell_type": "markdown",
   "metadata": {},
   "source": [
    "#### Number sold time series"
   ]
  },
  {
   "cell_type": "code",
   "execution_count": null,
   "metadata": {},
   "outputs": [],
   "source": [
    "def get_years_sale_count(year, town='Connecticut', source_df=res_df):\n",
    "    \"\"\"\n",
    "    Returns the nummber of sales in one town from year, using data from source_df, as a list.\n",
    "    This is a HELPER FUNCTION for sale_count_timeseries().\n",
    "    \"\"\"\n",
    "    \n",
    "    if town != 'Connecticut':\n",
    "        # Get the rows for this town in the given year\n",
    "        just_this_town = source_df[source_df['Town'] == town]\n",
    "    else:\n",
    "        # Look at all the data from the state\n",
    "        just_this_town = source_df\n",
    "\n",
    "    # Grab just the year you want\n",
    "    town_by_year = just_this_town[just_this_town['Year'] == year]\n",
    "\n",
    "    # Calculate and return the median\n",
    "    count = len(town_by_year)\n",
    "    if count == 'nan':\n",
    "        return -1\n",
    "    else:\n",
    "        return count"
   ]
  },
  {
   "cell_type": "code",
   "execution_count": null,
   "metadata": {},
   "outputs": [],
   "source": [
    "def sale_count_timeseries(town='Connecticut', startyear=MIN_YEAR, endyear=MAX_YEAR, source_df=res_df):\n",
    "    \"\"\"\n",
    "    Returns a time series for a particular town and column, from start year to endyear.\n",
    "    Values are the number of sales in that town in that year.\n",
    "    Grabs the data from source_df.\n",
    "    \"\"\"\n",
    "    # Make the DataFrame's attributes\n",
    "    index = list(range(startyear, endyear+1))\n",
    "    columns = [town]\n",
    "    \n",
    "    # Generate a list of medians using helper function\n",
    "    list_of_sale_counts = []\n",
    "    for year in index:\n",
    "        list_of_sale_counts.append(get_years_sale_count(year, town))\n",
    "        \n",
    "    return pd.DataFrame(data=list_of_sale_counts, index=index, columns=columns)"
   ]
  },
  {
   "cell_type": "code",
   "execution_count": null,
   "metadata": {},
   "outputs": [],
   "source": [
    "def sale_count_timeseries_all_towns(startyear=MIN_YEAR, endyear=MAX_YEAR, source_df=res_df):\n",
    "    \"\"\"\n",
    "    Returns a time series of all towns in CT, as well as the CT average.\n",
    "    Each column is a year with values being the number of homes sold in that town in that year.\n",
    "    \"\"\"\n",
    "    # Make the DataFrame's attributes\n",
    "    columns = list(range(startyear, endyear+1))\n",
    "    time_series = pd.DataFrame(columns=columns, data = sale_count_timeseries('Connecticut', startyear, endyear).transpose())\n",
    "    \n",
    "    for town in source_df['Town'].unique():\n",
    "        time_series = pd.concat([time_series, sale_count_timeseries(town, startyear, endyear).transpose()])\n",
    "            \n",
    "    return time_series"
   ]
  },
  {
   "cell_type": "code",
   "execution_count": null,
   "metadata": {},
   "outputs": [],
   "source": [
    "sale_count_ts_all_towns = sale_count_timeseries_all_towns()\n",
    "%store sale_count_ts_all_towns"
   ]
  },
  {
   "cell_type": "markdown",
   "metadata": {},
   "source": [
    "### Graphing the number of homes sold over time with the median SaleAmount over time"
   ]
  },
  {
   "cell_type": "code",
   "execution_count": 66,
   "metadata": {},
   "outputs": [],
   "source": [
    "# Increase number sold by a factor of x so the line on the plot doesn't look flat (to even out their scales)\n",
    "def scale_df_row(df, row_index, factor):\n",
    "    \"\"\"\n",
    "    Returns df where the row at row_index is scaled by factor.\n",
    "    To be used to scale data up or down so that they can be plotted on top of other data.\n",
    "    This is a HELPER FUNCTION for combined_sales_and_median_sale_amount_timeseries().\n",
    "    \"\"\"\n",
    "    new_df = df.copy()\n",
    "    new_df.iloc[row_index] = new_df.iloc[row_index].apply(lambda x: x*factor)\n",
    "    return new_df"
   ]
  },
  {
   "cell_type": "code",
   "execution_count": 67,
   "metadata": {},
   "outputs": [],
   "source": [
    "def combine_sales_and_median_sale_amount(town='Connecticut', startyear=MIN_YEAR, endyear=MAX_YEAR, source_df = res_df):\n",
    "    \"\"\"\n",
    "    Returns a dataframe where the first row is the MedianSaleAmount timeseries of town,\n",
    "    and the second row is the number of homes sold in that town.\n",
    "    This function feeds ___.\n",
    "    \"\"\"\n",
    "    combined_df = median_timeseries('SaleAmount', town).transpose().append(sale_count_timeseries(town).transpose())\n",
    "    combined_df.index = ['MedianSaleAmount', 'NumberSold']\n",
    "    return combined_df"
   ]
  },
  {
   "cell_type": "code",
   "execution_count": 68,
   "metadata": {},
   "outputs": [],
   "source": [
    "def combined_sales_and_median_sale_amount_timeseries(town='Connecticut', scale_factor=500, startyear=MIN_YEAR,\n",
    "                                                     endyear=MAX_YEAR, source_df=res_df):\n",
    "    \"\"\"\n",
    "    Returns a timeseries ready to be plotted that graphs the number of sales AND the median sale amount in\n",
    "    a town, every year from startyear to endyear.\n",
    "    \n",
    "    The argument 'scale_factor' is a number to scale the number of sales row by, in order for this line to not appear flat\n",
    "    beside median sale amount when graphed.\n",
    "    \"\"\"\n",
    "    timeseries = combine_sales_and_median_sale_amount(town, startyear, endyear, source_df)\n",
    "    timeseries = scale_df_row(timeseries, 1, scale_factor)\n",
    "    return timeseries.transpose()"
   ]
  },
  {
   "cell_type": "markdown",
   "metadata": {},
   "source": [
    "#### Cross-check median sale amount with Warren Group:\n",
    "\"Meanwhile, the median price of a single-family home increased 1.9 percent in August to \\$265,000, compared with \\$260,000 a year ago.\" from https://thewarrengroup.com/2017/09/26/conn-single-family-edge-higher-in-august/"
   ]
  },
  {
   "cell_type": "code",
   "execution_count": 84,
   "metadata": {},
   "outputs": [
    {
     "data": {
      "text/plain": [
       "Connecticut   259000.000\n",
       "Name: 2016, dtype: float64"
      ]
     },
     "execution_count": 84,
     "metadata": {},
     "output_type": "execute_result"
    }
   ],
   "source": [
    "saleamount_ts_all[saleamount_ts_all['Town'] == 'Connecticut'][2016]"
   ]
  },
  {
   "cell_type": "markdown",
   "metadata": {},
   "source": [
    "#### Cross-check median sale price and  number sold with CTRealtors:\n",
    "\"Connecticut REALTORS® reports that the single-family residential home median sales price is $237,000 which\n",
    "reflects a 3.1 percent increase from $229,900 in that same time period last year. Median indicates that half the\n",
    "homes sold for more and half for less. Single-family residential home sales in Connecticut increased 5.1 percent\n",
    "comparing March 2017 to March 2016. The total units of homes sold were 2,527 in March 2017 and 2,404 in\n",
    "March 2016.\" from https://www.ctrealtors.com/Customer-Content/www/press-releases/PDFs/Stats-2017March.pdf"
   ]
  },
  {
   "cell_type": "code",
   "execution_count": 113,
   "metadata": {},
   "outputs": [
    {
     "data": {
      "text/html": [
       "<div>\n",
       "<style scoped>\n",
       "    .dataframe tbody tr th:only-of-type {\n",
       "        vertical-align: middle;\n",
       "    }\n",
       "\n",
       "    .dataframe tbody tr th {\n",
       "        vertical-align: top;\n",
       "    }\n",
       "\n",
       "    .dataframe thead th {\n",
       "        text-align: right;\n",
       "    }\n",
       "</style>\n",
       "<table border=\"1\" class=\"dataframe\">\n",
       "  <thead>\n",
       "    <tr style=\"text-align: right;\">\n",
       "      <th></th>\n",
       "      <th>ID</th>\n",
       "      <th>SerialNumber</th>\n",
       "      <th>ListYear</th>\n",
       "      <th>DateRecorded</th>\n",
       "      <th>Town</th>\n",
       "      <th>Address</th>\n",
       "      <th>AssessedValue</th>\n",
       "      <th>SaleAmount</th>\n",
       "      <th>SalesRatio</th>\n",
       "      <th>PropertyType</th>\n",
       "      <th>ResidentialType</th>\n",
       "      <th>NonUseCode</th>\n",
       "      <th>Remarks</th>\n",
       "      <th>Year</th>\n",
       "      <th>Month</th>\n",
       "    </tr>\n",
       "  </thead>\n",
       "  <tbody>\n",
       "    <tr>\n",
       "      <th>67</th>\n",
       "      <td>918</td>\n",
       "      <td>150631</td>\n",
       "      <td>2015</td>\n",
       "      <td>03/28/2016 12:00:00 AM</td>\n",
       "      <td>Ansonia</td>\n",
       "      <td>11 REICHELT TERRACE</td>\n",
       "      <td>121600</td>\n",
       "      <td>169000.000</td>\n",
       "      <td>0.720</td>\n",
       "      <td>Residential</td>\n",
       "      <td>Single Family</td>\n",
       "      <td>-1</td>\n",
       "      <td>NaN</td>\n",
       "      <td>2016</td>\n",
       "      <td>03</td>\n",
       "    </tr>\n",
       "    <tr>\n",
       "      <th>74</th>\n",
       "      <td>1034</td>\n",
       "      <td>150637</td>\n",
       "      <td>2015</td>\n",
       "      <td>03/30/2016 12:00:00 AM</td>\n",
       "      <td>Ansonia</td>\n",
       "      <td>12 LAROVERA TERRACE</td>\n",
       "      <td>176900</td>\n",
       "      <td>255000.000</td>\n",
       "      <td>0.694</td>\n",
       "      <td>Residential</td>\n",
       "      <td>Single Family</td>\n",
       "      <td>-1</td>\n",
       "      <td>NaN</td>\n",
       "      <td>2016</td>\n",
       "      <td>03</td>\n",
       "    </tr>\n",
       "    <tr>\n",
       "      <th>129</th>\n",
       "      <td>1734</td>\n",
       "      <td>150632</td>\n",
       "      <td>2015</td>\n",
       "      <td>03/28/2016 12:00:00 AM</td>\n",
       "      <td>Ansonia</td>\n",
       "      <td>2 CLIFFORD DRIVE</td>\n",
       "      <td>169500</td>\n",
       "      <td>263000.000</td>\n",
       "      <td>0.644</td>\n",
       "      <td>Residential</td>\n",
       "      <td>Single Family</td>\n",
       "      <td>-1</td>\n",
       "      <td>NaN</td>\n",
       "      <td>2016</td>\n",
       "      <td>03</td>\n",
       "    </tr>\n",
       "    <tr>\n",
       "      <th>136</th>\n",
       "      <td>1813</td>\n",
       "      <td>150623</td>\n",
       "      <td>2015</td>\n",
       "      <td>03/08/2016 12:00:00 AM</td>\n",
       "      <td>Ansonia</td>\n",
       "      <td>20 RIDGE ROAD</td>\n",
       "      <td>132500</td>\n",
       "      <td>180000.000</td>\n",
       "      <td>0.736</td>\n",
       "      <td>Residential</td>\n",
       "      <td>Single Family</td>\n",
       "      <td>-1</td>\n",
       "      <td>NaN</td>\n",
       "      <td>2016</td>\n",
       "      <td>03</td>\n",
       "    </tr>\n",
       "    <tr>\n",
       "      <th>176</th>\n",
       "      <td>2339</td>\n",
       "      <td>150627</td>\n",
       "      <td>2015</td>\n",
       "      <td>03/15/2016 12:00:00 AM</td>\n",
       "      <td>Ansonia</td>\n",
       "      <td>29 LAROVERA TERRACE</td>\n",
       "      <td>189300</td>\n",
       "      <td>265000.000</td>\n",
       "      <td>0.714</td>\n",
       "      <td>Residential</td>\n",
       "      <td>Single Family</td>\n",
       "      <td>-1</td>\n",
       "      <td>NaN</td>\n",
       "      <td>2016</td>\n",
       "      <td>03</td>\n",
       "    </tr>\n",
       "  </tbody>\n",
       "</table>\n",
       "</div>"
      ],
      "text/plain": [
       "       ID  SerialNumber  ListYear            DateRecorded     Town  \\\n",
       "67    918        150631      2015  03/28/2016 12:00:00 AM  Ansonia   \n",
       "74   1034        150637      2015  03/30/2016 12:00:00 AM  Ansonia   \n",
       "129  1734        150632      2015  03/28/2016 12:00:00 AM  Ansonia   \n",
       "136  1813        150623      2015  03/08/2016 12:00:00 AM  Ansonia   \n",
       "176  2339        150627      2015  03/15/2016 12:00:00 AM  Ansonia   \n",
       "\n",
       "                 Address  AssessedValue  SaleAmount  SalesRatio PropertyType  \\\n",
       "67   11 REICHELT TERRACE         121600  169000.000       0.720  Residential   \n",
       "74   12 LAROVERA TERRACE         176900  255000.000       0.694  Residential   \n",
       "129     2 CLIFFORD DRIVE         169500  263000.000       0.644  Residential   \n",
       "136        20 RIDGE ROAD         132500  180000.000       0.736  Residential   \n",
       "176  29 LAROVERA TERRACE         189300  265000.000       0.714  Residential   \n",
       "\n",
       "    ResidentialType  NonUseCode Remarks  Year Month  \n",
       "67    Single Family          -1     NaN  2016    03  \n",
       "74    Single Family          -1     NaN  2016    03  \n",
       "129   Single Family          -1     NaN  2016    03  \n",
       "136   Single Family          -1     NaN  2016    03  \n",
       "176   Single Family          -1     NaN  2016    03  "
      ]
     },
     "execution_count": 113,
     "metadata": {},
     "output_type": "execute_result"
    }
   ],
   "source": [
    "mar_2016 = res_df[(res_df['Year'] == '2016') & (res_df['Month'] == '03')]\n"
   ]
  },
  {
   "cell_type": "markdown",
   "metadata": {},
   "source": [
    "#### Cross-check numer sold with CTRealtors:\n",
    "\"The total units of homes sold were 2,307 in January 2017 and 2,020 in January 2016.\" (From https://ctrealtors.com/Customer-Content/www/press-releases/PDFs/Stats-2017January.pdf)\n",
    "\n",
    "(*Note:* I am unable to find info on the *total* number of sales in 2016, but WG and CTRealtors do mention monthly sale numbers in their reports.)"
   ]
  },
  {
   "cell_type": "code",
   "execution_count": 111,
   "metadata": {},
   "outputs": [
    {
     "name": "stdout",
     "output_type": "stream",
     "text": [
      "1471\n"
     ]
    }
   ],
   "source": [
    "jan_2016 = res_df[(res_df['Year'] == '2016') & (res_df['Month'] == '01')]\n",
    "print(len(jan_2016)) # Should be close to 2,020"
   ]
  },
  {
   "cell_type": "markdown",
   "metadata": {},
   "source": [
    "#### Try with WG August report\n",
    "\"A total of 3,829 single-family homes were sold in Connecticut during the month of August, compared with 3,776 sold in August 2016.\" from https://thewarrengroup.com/2017/09/26/conn-single-family-edge-higher-in-august/"
   ]
  },
  {
   "cell_type": "code",
   "execution_count": 112,
   "metadata": {},
   "outputs": [
    {
     "name": "stdout",
     "output_type": "stream",
     "text": [
      "2652\n"
     ]
    }
   ],
   "source": [
    "aug_2016 = res_df[(res_df['Year'] == '2016') & (res_df['Month'] == '09')]\n",
    "print(len(aug_2016)) # Should be close to 3,776"
   ]
  },
  {
   "cell_type": "markdown",
   "metadata": {},
   "source": [
    "### Load in population and median income data for each town to help with town subsetting.\n",
    "* Town-by-town population estimates come from CT DPH: https://portal.ct.gov/DPH/Health-Information-Systems--Reporting/Population/Annual-Town-and-County-Population-for-Connecticut\n",
    "* Median income data from Census Bureau via CT Data Collaborative http://data.ctdata.org/dataset/median-household-income-by-town"
   ]
  },
  {
   "cell_type": "markdown",
   "metadata": {},
   "source": [
    "#### Population data"
   ]
  },
  {
   "cell_type": "code",
   "execution_count": 32,
   "metadata": {},
   "outputs": [],
   "source": [
    "# Clean town population data by separating the pairs of columns and concatenate them into one datafame\n",
    "def clean_town_population_df(raw_df):\n",
    "    \"\"\"\n",
    "    Returns a clean version of the raw town population df.\n",
    "    \"\"\"\n",
    "    clean_df = raw_df.copy()\n",
    "    \n",
    "    # Split up column pairs\n",
    "    town_pop_section_1 = clean_df[['Town', 'Est. Pop.']]\n",
    "    town_pop_section_2 = clean_df[['Town.1', 'Est. Pop..1']]\n",
    "    town_pop_section_3 = clean_df[['Town.2', 'Est. Pop..2']]\n",
    "    town_pop_section_4 = clean_df[['Town.3', 'Est. Pop..3']]\n",
    "    \n",
    "    # Trim off the NaN rows at the end of each section\n",
    "    town_pop_section_1 = town_pop_section_1[0:-9]\n",
    "    town_pop_section_2 = town_pop_section_2[0:-9]\n",
    "    town_pop_section_3 = town_pop_section_3[0:-9]\n",
    "    town_pop_section_4 = town_pop_section_4[0:-8]\n",
    "    \n",
    "    # Fix column names in order to concatenate properly\n",
    "    columns = ['Town', 'Population']\n",
    "    town_pop_section_1.columns = columns\n",
    "    town_pop_section_2.columns = columns\n",
    "    town_pop_section_3.columns = columns\n",
    "    town_pop_section_4.columns = columns\n",
    "    \n",
    "    clean_df = pd.concat([town_pop_section_1, town_pop_section_2, town_pop_section_3, town_pop_section_4]).reset_index(drop=True)\n",
    "\n",
    "\n",
    "    for index in clean_df.index:\n",
    "        # remove commas\n",
    "        clean_df.loc[index, 'Population'] = str(clean_df.iloc[index]['Population']).replace(',','')\n",
    "    \n",
    "    clean_df['Population'] = clean_df['Population'].astype(float)\n",
    "    \n",
    "    return clean_df"
   ]
  },
  {
   "cell_type": "code",
   "execution_count": 33,
   "metadata": {},
   "outputs": [],
   "source": [
    "town_pop_df = clean_town_population_df(\n",
    "pd.read_excel(\"https://portal.ct.gov/-/media/Departments-and-Agencies/DPH/Population/Town-Pop/pop_towns2016xlsx.xlsx?la=en\",\n",
    "                             skiprows=10))"
   ]
  },
  {
   "cell_type": "code",
   "execution_count": 34,
   "metadata": {},
   "outputs": [],
   "source": [
    "def clean_town_income_df(raw_df):\n",
    "    \"\"\"\n",
    "    Returns a clean version of raw town income data.\n",
    "    Grabs info for each town where Race/Ethnicity = All, Measure Type = Number, Variable = Median Household Income,\n",
    "    and Year = 2012-2016.\n",
    "    \"\"\"\n",
    "    clean_df = raw_df.copy()\n",
    "    \n",
    "    # Grab only select info\n",
    "    clean_df = clean_df[(clean_df['Race/Ethnicity'] == 'All') & (clean_df['Year'] == '2012-2016')\n",
    "                       & (clean_df['Measure Type'] == 'Number') & (clean_df['Variable'] == 'Median Household Income')]\n",
    "    \n",
    "    # Put Connecticut at the top of the dataframe while maintaining alphabetical order otherwise\n",
    "    ct_row = clean_df[clean_df['Town'] == 'Connecticut'] # Grab CT row\n",
    "    clean_df = clean_df[clean_df['Town'] != 'Connecticut'] # Remove it from middle of df\n",
    "    clean_df = pd.concat([ct_row, clean_df]) # Add CT back to top\n",
    "    \n",
    "    # Drop unwanted columns\n",
    "    clean_df = clean_df[['Town', 'FIPS', 'Value']]\n",
    "    \n",
    "    # Rename columns\n",
    "    clean_df.columns = ['Town', 'FIPS', 'MedianHouseholdIncome']\n",
    "    \n",
    "    return clean_df.reset_index(drop=True)"
   ]
  },
  {
   "cell_type": "code",
   "execution_count": 35,
   "metadata": {},
   "outputs": [],
   "source": [
    "town_income_df = clean_town_income_df(pd.read_csv(\"http://data.ctdata.org/dataset/68296d39-d0f7-4e2d-ba0e-98a3463ab58f/resource/1a962569-c6b3-4031-b7b1-f051e9c12379/download/median-household-income-town-2016.csv\"))"
   ]
  },
  {
   "cell_type": "markdown",
   "metadata": {},
   "source": [
    "#### Now merge this new info into town_df_copy"
   ]
  },
  {
   "cell_type": "code",
   "execution_count": 36,
   "metadata": {},
   "outputs": [],
   "source": [
    "def add_population_and_income_data(df, town_pop, town_income):\n",
    "    \"\"\"\n",
    "    Assuming df has Town names, will join data from town_income_df and town_population_df by town.\n",
    "    Specifically, grabs 'Population' from town_pop and 'MedianHouseholdIncome', as well as 'FIPS', from town_income.\n",
    "    \"\"\"\n",
    "    new_df = df.copy()\n",
    "    new_df = df.merge(right = town_pop[['Town','Population']], on='Town')\n",
    "    new_df = new_df.merge(right = town_income[['Town','MedianHouseholdIncome','FIPS']], on = 'Town')\n",
    "    return new_df"
   ]
  },
  {
   "cell_type": "code",
   "execution_count": 37,
   "metadata": {},
   "outputs": [],
   "source": [
    "town_df_copy = add_population_and_income_data(town_df, town_pop_df, town_income_df)"
   ]
  },
  {
   "cell_type": "markdown",
   "metadata": {},
   "source": [
    "#### Reorder columns for better readability"
   ]
  },
  {
   "cell_type": "code",
   "execution_count": 38,
   "metadata": {},
   "outputs": [],
   "source": [
    "town_df_copy = town_df_copy[['Town', 'FIPS', 'Population', \n",
    "                   'MedianHouseholdIncome', 'MedianSaleAmount', 'MaxSaleAmount', 'MinSaleAmount',\n",
    "                   'MedianAssessedValue', 'MaxAssessedValue', 'MinAssessedValue', 'MaxSalesRatio', 'MinSalesRatio']]"
   ]
  },
  {
   "cell_type": "code",
   "execution_count": 39,
   "metadata": {},
   "outputs": [
    {
     "name": "stdout",
     "output_type": "stream",
     "text": [
      "Stored 'town_df_copy' (DataFrame)\n"
     ]
    }
   ],
   "source": [
    "%store town_df_copy"
   ]
  },
  {
   "cell_type": "code",
   "execution_count": 40,
   "metadata": {},
   "outputs": [],
   "source": [
    "town_df = town_df_copy"
   ]
  },
  {
   "cell_type": "markdown",
   "metadata": {},
   "source": [
    "### Calculate SaleAmount recovery\n",
    "Look at the peak median SaleAmount before the Recession and compare it to median SaleAmount in 2016."
   ]
  },
  {
   "cell_type": "code",
   "execution_count": null,
   "metadata": {},
   "outputs": [],
   "source": []
  }
 ],
 "metadata": {
  "kernelspec": {
   "display_name": "Python 3",
   "language": "python",
   "name": "python3"
  },
  "language_info": {
   "codemirror_mode": {
    "name": "ipython",
    "version": 3
   },
   "file_extension": ".py",
   "mimetype": "text/x-python",
   "name": "python",
   "nbconvert_exporter": "python",
   "pygments_lexer": "ipython3",
   "version": "3.6.5"
  }
 },
 "nbformat": 4,
 "nbformat_minor": 2
}
