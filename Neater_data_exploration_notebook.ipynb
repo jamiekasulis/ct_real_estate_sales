{
 "cells": [
  {
   "cell_type": "markdown",
   "metadata": {},
   "source": [
    "This is a cleaned-up version of my data exploration notebook. Things were starting to get cluttered in the other one."
   ]
  },
  {
   "cell_type": "markdown",
   "metadata": {},
   "source": [
    "### Potential Inquiries\n",
    "* See where properties with multiple transactions gained and lost value --> (How many houses, how much value, by town, over different periods of time)\n",
    "* Foreclosures-- where and when have there been a lot?\n",
    "* Building of new developments? (Might be shown by selling many houses in a short period of time on a new road)\n",
    "* Signs of house flipping, i.e. a purchase and a sale for significantly more within a short period\n",
    "* Has recovery been different for different segments of the market (different price-range houses)?\n",
    "* Are there observable effects of the crumbling fundations in the northeastern part of CT?"
   ]
  },
  {
   "cell_type": "markdown",
   "metadata": {},
   "source": [
    "### Calculations\n",
    "* Adjust sales prices for inflation/season -- there is a Python package for seasonal adjustment\n",
    "* Take a close look at the assessment column\n",
    "* Each town's assessment rate, or look at a hosue's sale ratio relative to its town only\n",
    "* Distribution of house prices in given towns, or on given streets\n",
    "* Town-by-town medians, ranges"
   ]
  },
  {
   "cell_type": "code",
   "execution_count": 1,
   "metadata": {},
   "outputs": [],
   "source": [
    "import pandas as pd\n",
    "import matplotlib\n",
    "%matplotlib inline\n",
    "pd.set_option('display.float_format', lambda x: '%.3f' % x)"
   ]
  },
  {
   "cell_type": "markdown",
   "metadata": {},
   "source": [
    "#### Update MAX_YEAR when new data comes out."
   ]
  },
  {
   "cell_type": "code",
   "execution_count": 2,
   "metadata": {},
   "outputs": [],
   "source": [
    "MIN_YEAR = 2001\n",
    "MAX_YEAR = 2016 # update this when new data comes out"
   ]
  },
  {
   "cell_type": "markdown",
   "metadata": {},
   "source": [
    "#### Load in the clean data"
   ]
  },
  {
   "cell_type": "code",
   "execution_count": 3,
   "metadata": {},
   "outputs": [],
   "source": [
    "def pull_out_recorded_year_and_month(df):\n",
    "    \"\"\"\n",
    "    Returns a copy of df with columns Month and Year, which are extracted from DateRecorded.\n",
    "    \"\"\"\n",
    "    new_df = df.copy()\n",
    "    new_df['Year'] = new_df['DateRecorded'].str[6:10]\n",
    "    new_df['Month'] = new_df['DateRecorded'].str[0:2]\n",
    "    \n",
    "    #new_df['Year'] = new_df['Year'].astype(int)\n",
    "    \n",
    "    return new_df"
   ]
  },
  {
   "cell_type": "code",
   "execution_count": 4,
   "metadata": {},
   "outputs": [],
   "source": [
    "def combine_data_into_master_df():\n",
    "    \"\"\"\n",
    "    Returns a DataFrame which combines all of the clean CSVs for each year.\n",
    "    \"\"\"\n",
    "    # Combine the year-by-year clean csvs, which are located at 'data/clean_data_20xx_listings.csv'\n",
    "    df = pd.read_csv('data/clean_data_' + str(MIN_YEAR) + '_listings.csv')\n",
    "    for year in range(MIN_YEAR+1, MAX_YEAR+1):\n",
    "        df = df.append(pd.read_csv('data/clean_data_' + str(year) + '_listings.csv'))\n",
    "\n",
    "    # Now remove the index column\n",
    "    #df = df.drop('Unnamed: 0', 1)\n",
    "    return pull_out_recorded_year_and_month(df) # Pull out month, year of DateRecorded and return"
   ]
  },
  {
   "cell_type": "code",
   "execution_count": 5,
   "metadata": {},
   "outputs": [],
   "source": [
    "def split_up_daterecorded(df):\n",
    "    \"\"\"\n",
    "    Returns a copy of df with additional columns, 'Year', 'Month', and 'YearMonth' which are extracted from\n",
    "    DateRecorded. We will use these columns to distinguish between ListYear (the year in which a propety was LISTED)\n",
    "    and DateRecorded (the date and time when a sale occurred.\n",
    "    \"\"\"\n",
    "    new_df = df.copy()\n",
    "    \n",
    "    # Split up DateRecorded\n",
    "    new_df['Year'] = new_df['DateRecorded'].str[6:10]\n",
    "    new_df['Month'] = new_df['DateRecorded'].str[0:2]\n",
    "    new_df['YearMonth'] = new_df['Year'] + '-' + new_df['Month']\n",
    "    \n",
    "    return new_df"
   ]
  },
  {
   "cell_type": "code",
   "execution_count": 6,
   "metadata": {},
   "outputs": [],
   "source": [
    "df = split_up_daterecorded(combine_data_into_master_df())"
   ]
  },
  {
   "cell_type": "code",
   "execution_count": 7,
   "metadata": {},
   "outputs": [
    {
     "data": {
      "text/html": [
       "<div>\n",
       "<style scoped>\n",
       "    .dataframe tbody tr th:only-of-type {\n",
       "        vertical-align: middle;\n",
       "    }\n",
       "\n",
       "    .dataframe tbody tr th {\n",
       "        vertical-align: top;\n",
       "    }\n",
       "\n",
       "    .dataframe thead th {\n",
       "        text-align: right;\n",
       "    }\n",
       "</style>\n",
       "<table border=\"1\" class=\"dataframe\">\n",
       "  <thead>\n",
       "    <tr style=\"text-align: right;\">\n",
       "      <th></th>\n",
       "      <th>ID</th>\n",
       "      <th>SerialNumber</th>\n",
       "      <th>ListYear</th>\n",
       "      <th>DateRecorded</th>\n",
       "      <th>Town</th>\n",
       "      <th>Address</th>\n",
       "      <th>AssessedValue</th>\n",
       "      <th>SaleAmount</th>\n",
       "      <th>SalesRatio</th>\n",
       "      <th>PropertyType</th>\n",
       "      <th>ResidentialType</th>\n",
       "      <th>NonUseCode</th>\n",
       "      <th>Remarks</th>\n",
       "      <th>Year</th>\n",
       "      <th>Month</th>\n",
       "      <th>YearMonth</th>\n",
       "    </tr>\n",
       "  </thead>\n",
       "  <tbody>\n",
       "    <tr>\n",
       "      <th>0</th>\n",
       "      <td>684</td>\n",
       "      <td>10173</td>\n",
       "      <td>2001</td>\n",
       "      <td>04/17/2002 12:00:00 AM</td>\n",
       "      <td>Ansonia</td>\n",
       "      <td>1-3 EAGLE STREET</td>\n",
       "      <td>63630</td>\n",
       "      <td>116000.000</td>\n",
       "      <td>54.853</td>\n",
       "      <td>Residential</td>\n",
       "      <td>Two Family</td>\n",
       "      <td>0</td>\n",
       "      <td>NaN</td>\n",
       "      <td>2002</td>\n",
       "      <td>04</td>\n",
       "      <td>2002-04</td>\n",
       "    </tr>\n",
       "    <tr>\n",
       "      <th>1</th>\n",
       "      <td>694</td>\n",
       "      <td>10005</td>\n",
       "      <td>2001</td>\n",
       "      <td>10/04/2001 12:00:00 AM</td>\n",
       "      <td>Ansonia</td>\n",
       "      <td>1 CRESTWOOD ROAD</td>\n",
       "      <td>76370</td>\n",
       "      <td>160000.000</td>\n",
       "      <td>47.731</td>\n",
       "      <td>Residential</td>\n",
       "      <td>Single Family</td>\n",
       "      <td>0</td>\n",
       "      <td>NaN</td>\n",
       "      <td>2001</td>\n",
       "      <td>10</td>\n",
       "      <td>2001-10</td>\n",
       "    </tr>\n",
       "    <tr>\n",
       "      <th>2</th>\n",
       "      <td>697</td>\n",
       "      <td>10253</td>\n",
       "      <td>2001</td>\n",
       "      <td>06/18/2002 12:00:00 AM</td>\n",
       "      <td>Ansonia</td>\n",
       "      <td>1 DAVIES CT</td>\n",
       "      <td>97720</td>\n",
       "      <td>180000.000</td>\n",
       "      <td>54.289</td>\n",
       "      <td>Residential</td>\n",
       "      <td>Single Family</td>\n",
       "      <td>0</td>\n",
       "      <td>NaN</td>\n",
       "      <td>2002</td>\n",
       "      <td>06</td>\n",
       "      <td>2002-06</td>\n",
       "    </tr>\n",
       "    <tr>\n",
       "      <th>3</th>\n",
       "      <td>698</td>\n",
       "      <td>10094</td>\n",
       "      <td>2001</td>\n",
       "      <td>01/17/2002 12:00:00 AM</td>\n",
       "      <td>Ansonia</td>\n",
       "      <td>1 DOREL TERRACE</td>\n",
       "      <td>110600</td>\n",
       "      <td>259900.000</td>\n",
       "      <td>42.555</td>\n",
       "      <td>Residential</td>\n",
       "      <td>Single Family</td>\n",
       "      <td>0</td>\n",
       "      <td>NaN</td>\n",
       "      <td>2002</td>\n",
       "      <td>01</td>\n",
       "      <td>2002-01</td>\n",
       "    </tr>\n",
       "    <tr>\n",
       "      <th>4</th>\n",
       "      <td>710</td>\n",
       "      <td>10100</td>\n",
       "      <td>2001</td>\n",
       "      <td>01/30/2002 12:00:00 AM</td>\n",
       "      <td>Ansonia</td>\n",
       "      <td>1 JAMES STREET</td>\n",
       "      <td>63210</td>\n",
       "      <td>132000.000</td>\n",
       "      <td>47.886</td>\n",
       "      <td>Residential</td>\n",
       "      <td>Single Family</td>\n",
       "      <td>0</td>\n",
       "      <td>NaN</td>\n",
       "      <td>2002</td>\n",
       "      <td>01</td>\n",
       "      <td>2002-01</td>\n",
       "    </tr>\n",
       "  </tbody>\n",
       "</table>\n",
       "</div>"
      ],
      "text/plain": [
       "    ID  SerialNumber  ListYear            DateRecorded     Town  \\\n",
       "0  684         10173      2001  04/17/2002 12:00:00 AM  Ansonia   \n",
       "1  694         10005      2001  10/04/2001 12:00:00 AM  Ansonia   \n",
       "2  697         10253      2001  06/18/2002 12:00:00 AM  Ansonia   \n",
       "3  698         10094      2001  01/17/2002 12:00:00 AM  Ansonia   \n",
       "4  710         10100      2001  01/30/2002 12:00:00 AM  Ansonia   \n",
       "\n",
       "            Address  AssessedValue  SaleAmount  SalesRatio PropertyType  \\\n",
       "0  1-3 EAGLE STREET          63630  116000.000      54.853  Residential   \n",
       "1  1 CRESTWOOD ROAD          76370  160000.000      47.731  Residential   \n",
       "2       1 DAVIES CT          97720  180000.000      54.289  Residential   \n",
       "3   1 DOREL TERRACE         110600  259900.000      42.555  Residential   \n",
       "4    1 JAMES STREET          63210  132000.000      47.886  Residential   \n",
       "\n",
       "  ResidentialType  NonUseCode Remarks  Year Month YearMonth  \n",
       "0      Two Family           0     NaN  2002    04   2002-04  \n",
       "1   Single Family           0     NaN  2001    10   2001-10  \n",
       "2   Single Family           0     NaN  2002    06   2002-06  \n",
       "3   Single Family           0     NaN  2002    01   2002-01  \n",
       "4   Single Family           0     NaN  2002    01   2002-01  "
      ]
     },
     "execution_count": 7,
     "metadata": {},
     "output_type": "execute_result"
    }
   ],
   "source": [
    "df.head()"
   ]
  },
  {
   "cell_type": "markdown",
   "metadata": {},
   "source": [
    "### Notes on the data frames\n",
    "* Use DataFrame 'df' if you want to look at ALL of the clean data\n",
    "* Use 'use_df' if you want to just look at the rows that don't have NonUseCodes. You should use use_df if you are calculating any statistics.\n",
    "* Use 'res_df' if you want to look at RESIDENTIAL properties (but not condos or apartments) that don't have NonUseCodes. Best way to standardize."
   ]
  },
  {
   "cell_type": "code",
   "execution_count": 8,
   "metadata": {},
   "outputs": [],
   "source": [
    "def get_residential(df):\n",
    "    \"\"\"\n",
    "    Returns just the residential properties.\n",
    "    \"\"\"\n",
    "    return df[df['PropertyType'] == 'Residential']"
   ]
  },
  {
   "cell_type": "code",
   "execution_count": 9,
   "metadata": {},
   "outputs": [],
   "source": [
    "def get_single_family_residential(df):\n",
    "    \"\"\"\n",
    "    Returns just the single family residential properties.\n",
    "    \"\"\"\n",
    "    res = get_residential(df)\n",
    "    return res[res['ResidentialType'] == 'Single Family']"
   ]
  },
  {
   "cell_type": "code",
   "execution_count": 10,
   "metadata": {},
   "outputs": [],
   "source": [
    "def get_commercial(df):\n",
    "    \"\"\"\n",
    "    Returns just the commercial properties.\n",
    "    \"\"\"\n",
    "    return df[df['PropertyType'] == 'Commercial']"
   ]
  },
  {
   "cell_type": "code",
   "execution_count": 11,
   "metadata": {},
   "outputs": [],
   "source": [
    "use_df = df[df['NonUseCode'] < 1]\n",
    "res_df = get_single_family_residential(use_df)\n",
    "\n",
    "# Add the extra columns\n",
    "use_df = split_up_daterecorded(use_df)\n",
    "res_df = split_up_daterecorded(res_df)"
   ]
  },
  {
   "cell_type": "markdown",
   "metadata": {},
   "source": [
    "### Calculate town-by-town statistics"
   ]
  },
  {
   "cell_type": "markdown",
   "metadata": {},
   "source": [
    "#### Calculate SaleAmount recovery\n",
    "Look at the peak median SaleAmount before the Recession and compare it to median SaleAmount in 2016."
   ]
  },
  {
   "cell_type": "markdown",
   "metadata": {},
   "source": [
    "#### Dataframes:\n",
    "* town_df for all residential properties without NonUseCodes in time range MINYEAR - MAXYEAR"
   ]
  },
  {
   "cell_type": "code",
   "execution_count": 25,
   "metadata": {},
   "outputs": [],
   "source": [
    "def get_all_town_names():\n",
    "    \"\"\" Returns a pandas Series of all town names, plus 'Connecticut' at the top. In alphabetical order otherwise. \"\"\"\n",
    "    all_towns = list(df['Town'].unique())\n",
    "    all_towns = ['Connecticut'] + all_towns\n",
    "    \n",
    "    return pd.Series(all_towns)"
   ]
  },
  {
   "cell_type": "code",
   "execution_count": 35,
   "metadata": {},
   "outputs": [],
   "source": [
    "def create_new_town_df():\n",
    "    \"\"\"\n",
    "    Returns a new dataframe where each row is a town. The column values are all NaN.\n",
    "    \"\"\"\n",
    "    columns = ['PeakMedianSaleAmount']\n",
    "    return pd.DataFrame(columns=columns, index=get_all_town_names())"
   ]
  },
  {
   "cell_type": "code",
   "execution_count": 36,
   "metadata": {},
   "outputs": [],
   "source": [
    "town_df = create_new_town_df()"
   ]
  },
  {
   "cell_type": "code",
   "execution_count": 37,
   "metadata": {},
   "outputs": [],
   "source": [
    "def calculate_town_peak_saleamount_before_recession(town='Connecticut', source_df=res_df):\n",
    "    \"\"\"\n",
    "    Returns the peak SaleAmount for 'town' before the recession (which I mark at 2008).\n",
    "    Grabs all sales for 'town' from source_df.\n",
    "    \"\"\"\n",
    "    subset = source_df\n",
    "    \n",
    "    # Subset by town \n",
    "    if town != 'Connecticut':\n",
    "        subset = source_df[source_df['Town'] == town]\n",
    "\n",
    "    # Generate a list of medians\n",
    "    yearly_medians = [0] # an initial non-Null value will prevent max() from working the wrong way\n",
    "    for year in range(MIN_YEAR, 2008):\n",
    "        years_median = subset[subset['Year'] == str(year)]['SaleAmount'].median()\n",
    "        yearly_medians += [years_median]\n",
    "        \n",
    "    # Return peak median sale amount\n",
    "    return max(yearly_medians)"
   ]
  },
  {
   "cell_type": "code",
   "execution_count": 38,
   "metadata": {},
   "outputs": [
    {
     "data": {
      "text/plain": [
       "166000.0"
      ]
     },
     "execution_count": 38,
     "metadata": {},
     "output_type": "execute_result"
    }
   ],
   "source": [
    "calculate_town_peak_saleamount_before_recession('Waterbury')"
   ]
  },
  {
   "cell_type": "code",
   "execution_count": 39,
   "metadata": {},
   "outputs": [],
   "source": [
    "def calculate_latest_median_sale_amount(town='Connecticut', source_df=res_df):\n",
    "    \"\"\"\n",
    "    Returns the median sale amount for this 'town' in year.\n",
    "    \"\"\"\n",
    "    subset = source_df\n",
    "    # Subset by town\n",
    "    if town != 'Connecticut':\n",
    "        subset = source_df[source_df['Town'] == town]\n",
    "    \n",
    "    return subset[subset['Year'] == str(MAX_YEAR)]['SaleAmount'].median()"
   ]
  },
  {
   "cell_type": "code",
   "execution_count": 40,
   "metadata": {},
   "outputs": [],
   "source": [
    "def fill_in_town_df(df, source_df=res_df):\n",
    "    \"\"\"\n",
    "    df should be a blank town dataframe. You can simply pass create_new_town_df() if you want.\n",
    "    Uses source_df's numbers to calculate values to fill in df.\n",
    "    \"\"\"\n",
    "    filled_df = df.copy()\n",
    "    \n",
    "    for town in filled_df.index:\n",
    "        filled_df.loc[town, 'PeakMedianSaleAmount'] = calculate_town_peak_saleamount_before_recession(town, source_df)\n",
    "        filled_df.loc[town, 'RecentMedianSaleAmount'] = calculate_latest_median_sale_amount(town, source_df)\n",
    "        \n",
    "    filled_df['RecoveryRatio'] = filled_df['RecentMedianSaleAmount'] / filled_df['PeakMedianSaleAmount']\n",
    "    \n",
    "    return filled_df"
   ]
  },
  {
   "cell_type": "code",
   "execution_count": 41,
   "metadata": {},
   "outputs": [],
   "source": [
    "town_df = fill_in_town_df(create_new_town_df())"
   ]
  },
  {
   "cell_type": "code",
   "execution_count": 42,
   "metadata": {},
   "outputs": [
    {
     "data": {
      "text/html": [
       "<div>\n",
       "<style scoped>\n",
       "    .dataframe tbody tr th:only-of-type {\n",
       "        vertical-align: middle;\n",
       "    }\n",
       "\n",
       "    .dataframe tbody tr th {\n",
       "        vertical-align: top;\n",
       "    }\n",
       "\n",
       "    .dataframe thead th {\n",
       "        text-align: right;\n",
       "    }\n",
       "</style>\n",
       "<table border=\"1\" class=\"dataframe\">\n",
       "  <thead>\n",
       "    <tr style=\"text-align: right;\">\n",
       "      <th></th>\n",
       "      <th>PeakMedianSaleAmount</th>\n",
       "      <th>RecentMedianSaleAmount</th>\n",
       "      <th>RecoveryRatio</th>\n",
       "    </tr>\n",
       "  </thead>\n",
       "  <tbody>\n",
       "    <tr>\n",
       "      <th>Wallingford</th>\n",
       "      <td>275250</td>\n",
       "      <td>249000.000</td>\n",
       "      <td>0.905</td>\n",
       "    </tr>\n",
       "    <tr>\n",
       "      <th>Westbrook</th>\n",
       "      <td>360500</td>\n",
       "      <td>285000.000</td>\n",
       "      <td>0.791</td>\n",
       "    </tr>\n",
       "    <tr>\n",
       "      <th>Windham</th>\n",
       "      <td>180000</td>\n",
       "      <td>135000.000</td>\n",
       "      <td>0.750</td>\n",
       "    </tr>\n",
       "    <tr>\n",
       "      <th>Wolcott</th>\n",
       "      <td>290000</td>\n",
       "      <td>246000.000</td>\n",
       "      <td>0.848</td>\n",
       "    </tr>\n",
       "    <tr>\n",
       "      <th>Waterbury</th>\n",
       "      <td>166000</td>\n",
       "      <td>116000.000</td>\n",
       "      <td>0.699</td>\n",
       "    </tr>\n",
       "  </tbody>\n",
       "</table>\n",
       "</div>"
      ],
      "text/plain": [
       "             PeakMedianSaleAmount  RecentMedianSaleAmount  RecoveryRatio\n",
       "Wallingford                275250              249000.000          0.905\n",
       "Westbrook                  360500              285000.000          0.791\n",
       "Windham                    180000              135000.000          0.750\n",
       "Wolcott                    290000              246000.000          0.848\n",
       "Waterbury                  166000              116000.000          0.699"
      ]
     },
     "execution_count": 42,
     "metadata": {},
     "output_type": "execute_result"
    }
   ],
   "source": [
    "town_df.tail()"
   ]
  },
  {
   "cell_type": "markdown",
   "metadata": {},
   "source": [
    "#### Now town_df holds measurements for recovery of pre-recession median sale prices for homes."
   ]
  },
  {
   "cell_type": "code",
   "execution_count": 43,
   "metadata": {},
   "outputs": [
    {
     "name": "stdout",
     "output_type": "stream",
     "text": [
      "The average RecoveryRatio in CT is 0.790476\n"
     ]
    },
    {
     "data": {
      "text/html": [
       "<div>\n",
       "<style scoped>\n",
       "    .dataframe tbody tr th:only-of-type {\n",
       "        vertical-align: middle;\n",
       "    }\n",
       "\n",
       "    .dataframe tbody tr th {\n",
       "        vertical-align: top;\n",
       "    }\n",
       "\n",
       "    .dataframe thead th {\n",
       "        text-align: right;\n",
       "    }\n",
       "</style>\n",
       "<table border=\"1\" class=\"dataframe\">\n",
       "  <thead>\n",
       "    <tr style=\"text-align: right;\">\n",
       "      <th></th>\n",
       "      <th>PeakMedianSaleAmount</th>\n",
       "      <th>RecentMedianSaleAmount</th>\n",
       "      <th>RecoveryRatio</th>\n",
       "    </tr>\n",
       "  </thead>\n",
       "  <tbody>\n",
       "    <tr>\n",
       "      <th>Griswold</th>\n",
       "      <td>234250</td>\n",
       "      <td>154900.000</td>\n",
       "      <td>0.661</td>\n",
       "    </tr>\n",
       "    <tr>\n",
       "      <th>Seymour</th>\n",
       "      <td>310000</td>\n",
       "      <td>204500.000</td>\n",
       "      <td>0.660</td>\n",
       "    </tr>\n",
       "    <tr>\n",
       "      <th>New London</th>\n",
       "      <td>229900</td>\n",
       "      <td>150650.000</td>\n",
       "      <td>0.655</td>\n",
       "    </tr>\n",
       "    <tr>\n",
       "      <th>Branford</th>\n",
       "      <td>382000</td>\n",
       "      <td>250000.000</td>\n",
       "      <td>0.654</td>\n",
       "    </tr>\n",
       "    <tr>\n",
       "      <th>Brookfield</th>\n",
       "      <td>500000</td>\n",
       "      <td>325000.000</td>\n",
       "      <td>0.650</td>\n",
       "    </tr>\n",
       "    <tr>\n",
       "      <th>Colebrook</th>\n",
       "      <td>306000</td>\n",
       "      <td>196500.000</td>\n",
       "      <td>0.642</td>\n",
       "    </tr>\n",
       "    <tr>\n",
       "      <th>Essex</th>\n",
       "      <td>490000</td>\n",
       "      <td>314000.000</td>\n",
       "      <td>0.641</td>\n",
       "    </tr>\n",
       "    <tr>\n",
       "      <th>Pomfret</th>\n",
       "      <td>305000</td>\n",
       "      <td>195000.000</td>\n",
       "      <td>0.639</td>\n",
       "    </tr>\n",
       "    <tr>\n",
       "      <th>Salem</th>\n",
       "      <td>422000</td>\n",
       "      <td>269000.000</td>\n",
       "      <td>0.637</td>\n",
       "    </tr>\n",
       "    <tr>\n",
       "      <th>Bridgeport</th>\n",
       "      <td>254750</td>\n",
       "      <td>162000.000</td>\n",
       "      <td>0.636</td>\n",
       "    </tr>\n",
       "    <tr>\n",
       "      <th>North Stonington</th>\n",
       "      <td>326000</td>\n",
       "      <td>207000.000</td>\n",
       "      <td>0.635</td>\n",
       "    </tr>\n",
       "    <tr>\n",
       "      <th>Stamford</th>\n",
       "      <td>709500</td>\n",
       "      <td>450000.000</td>\n",
       "      <td>0.634</td>\n",
       "    </tr>\n",
       "    <tr>\n",
       "      <th>Hampton</th>\n",
       "      <td>317500</td>\n",
       "      <td>197000.000</td>\n",
       "      <td>0.620</td>\n",
       "    </tr>\n",
       "    <tr>\n",
       "      <th>Kent</th>\n",
       "      <td>495000</td>\n",
       "      <td>304250.000</td>\n",
       "      <td>0.615</td>\n",
       "    </tr>\n",
       "    <tr>\n",
       "      <th>Greenwich</th>\n",
       "      <td>2000000</td>\n",
       "      <td>1200000.000</td>\n",
       "      <td>0.600</td>\n",
       "    </tr>\n",
       "    <tr>\n",
       "      <th>Derby</th>\n",
       "      <td>268001</td>\n",
       "      <td>155000.000</td>\n",
       "      <td>0.578</td>\n",
       "    </tr>\n",
       "    <tr>\n",
       "      <th>Roxbury</th>\n",
       "      <td>875000</td>\n",
       "      <td>472000.000</td>\n",
       "      <td>0.539</td>\n",
       "    </tr>\n",
       "    <tr>\n",
       "      <th>Bridgewater</th>\n",
       "      <td>580000</td>\n",
       "      <td>310000.000</td>\n",
       "      <td>0.534</td>\n",
       "    </tr>\n",
       "    <tr>\n",
       "      <th>Morris</th>\n",
       "      <td>485000</td>\n",
       "      <td>247000.000</td>\n",
       "      <td>0.509</td>\n",
       "    </tr>\n",
       "    <tr>\n",
       "      <th>Canaan</th>\n",
       "      <td>435000</td>\n",
       "      <td>204000.000</td>\n",
       "      <td>0.469</td>\n",
       "    </tr>\n",
       "    <tr>\n",
       "      <th>Southbury</th>\n",
       "      <td>450000</td>\n",
       "      <td>204000.000</td>\n",
       "      <td>0.453</td>\n",
       "    </tr>\n",
       "    <tr>\n",
       "      <th>Washington</th>\n",
       "      <td>1145000</td>\n",
       "      <td>500000.000</td>\n",
       "      <td>0.437</td>\n",
       "    </tr>\n",
       "    <tr>\n",
       "      <th>Salisbury</th>\n",
       "      <td>688500</td>\n",
       "      <td>260000.000</td>\n",
       "      <td>0.378</td>\n",
       "    </tr>\n",
       "    <tr>\n",
       "      <th>Norfolk</th>\n",
       "      <td>585000</td>\n",
       "      <td>215500.000</td>\n",
       "      <td>0.368</td>\n",
       "    </tr>\n",
       "    <tr>\n",
       "      <th>Cornwall</th>\n",
       "      <td>1350000</td>\n",
       "      <td>300000.000</td>\n",
       "      <td>0.222</td>\n",
       "    </tr>\n",
       "  </tbody>\n",
       "</table>\n",
       "</div>"
      ],
      "text/plain": [
       "                  PeakMedianSaleAmount  RecentMedianSaleAmount  RecoveryRatio\n",
       "Griswold                        234250              154900.000          0.661\n",
       "Seymour                         310000              204500.000          0.660\n",
       "New London                      229900              150650.000          0.655\n",
       "Branford                        382000              250000.000          0.654\n",
       "Brookfield                      500000              325000.000          0.650\n",
       "Colebrook                       306000              196500.000          0.642\n",
       "Essex                           490000              314000.000          0.641\n",
       "Pomfret                         305000              195000.000          0.639\n",
       "Salem                           422000              269000.000          0.637\n",
       "Bridgeport                      254750              162000.000          0.636\n",
       "North Stonington                326000              207000.000          0.635\n",
       "Stamford                        709500              450000.000          0.634\n",
       "Hampton                         317500              197000.000          0.620\n",
       "Kent                            495000              304250.000          0.615\n",
       "Greenwich                      2000000             1200000.000          0.600\n",
       "Derby                           268001              155000.000          0.578\n",
       "Roxbury                         875000              472000.000          0.539\n",
       "Bridgewater                     580000              310000.000          0.534\n",
       "Morris                          485000              247000.000          0.509\n",
       "Canaan                          435000              204000.000          0.469\n",
       "Southbury                       450000              204000.000          0.453\n",
       "Washington                     1145000              500000.000          0.437\n",
       "Salisbury                       688500              260000.000          0.378\n",
       "Norfolk                         585000              215500.000          0.368\n",
       "Cornwall                       1350000              300000.000          0.222"
      ]
     },
     "execution_count": 43,
     "metadata": {},
     "output_type": "execute_result"
    }
   ],
   "source": [
    "print(\"The average RecoveryRatio in CT is %f\" %town_df[town_df.index == 'Connecticut']['RecoveryRatio'])\n",
    "town_df.sort_values('RecoveryRatio', ascending=False).tail(25)"
   ]
  },
  {
   "cell_type": "markdown",
   "metadata": {},
   "source": [
    "### Timeseries functionality\n",
    "Should be able to make timeseries for individual towns and all towns on:\n",
    "* Median of any column\n",
    "* Number sold in each year"
   ]
  },
  {
   "cell_type": "markdown",
   "metadata": {},
   "source": [
    "#### Median timeseries"
   ]
  },
  {
   "cell_type": "code",
   "execution_count": 44,
   "metadata": {},
   "outputs": [],
   "source": [
    "def get_years_median(column, year, town='Connecticut', source_df=res_df):\n",
    "    \"\"\"\n",
    "    Returns the median value of column for town from year, using data from source_df, as a list.\n",
    "    This is a HELPER FUNCTION for median_timeseries()\n",
    "    \"\"\"\n",
    "    subset = source_df[source_df['Year'] == str(year)]\n",
    "    \n",
    "    # Subset by a specific town\n",
    "    if town != 'Connecticut':\n",
    "        # Get the rows for this town in the given year\n",
    "        subset = subset[subset['Town'] == town]\n",
    "\n",
    "    # Calculate and return the median\n",
    "    median = subset[column].median()\n",
    "    if median == 'nan':\n",
    "        return -1\n",
    "    else:\n",
    "        return median"
   ]
  },
  {
   "cell_type": "code",
   "execution_count": 45,
   "metadata": {},
   "outputs": [],
   "source": [
    "def median_timeseries(column, town='Connecticut', startyear=MIN_YEAR, endyear=MAX_YEAR, source_df=res_df):\n",
    "    \"\"\"\n",
    "    Returns a time series for a particular town and column, from start year to endyear.\n",
    "    Values are the median of column.\n",
    "    Grabs the data from source_df.\n",
    "    \"\"\"\n",
    "    # Make the DataFrame's attributes\n",
    "    index = list(range(startyear, endyear+1))\n",
    "    columns = [town]\n",
    "    \n",
    "    # Generate a list of medians using helper function\n",
    "    list_of_medians = []\n",
    "    for year in index:\n",
    "        list_of_medians.append(get_years_median(column, year, town))\n",
    "        \n",
    "    return pd.DataFrame(data=list_of_medians, index=index, columns=columns)"
   ]
  },
  {
   "cell_type": "code",
   "execution_count": 46,
   "metadata": {},
   "outputs": [],
   "source": [
    "def median_timeseries_all_towns(column, startyear=MIN_YEAR, endyear=MAX_YEAR, source_df=res_df):\n",
    "    \"\"\"\n",
    "    Returns a time series of all towns in CT, as well as the CT average.\n",
    "    Each column is a year with values being the median of 'column' for that town in that year.\n",
    "    \"\"\"\n",
    "    # Make the DataFrame's attributes\n",
    "    columns = list(range(startyear, endyear+1))\n",
    "    time_series = pd.DataFrame(columns=columns, data = median_timeseries(column).transpose())\n",
    "    \n",
    "    # Add in the info for each town\n",
    "    for town in source_df['Town'].unique():\n",
    "        time_series = pd.concat([time_series, median_timeseries(column, town).transpose()])\n",
    "        \n",
    "    # Add in town name column\n",
    "    time_series['Town'] = time_series.index\n",
    "            \n",
    "    return time_series"
   ]
  },
  {
   "cell_type": "code",
   "execution_count": 47,
   "metadata": {},
   "outputs": [
    {
     "ename": "KeyboardInterrupt",
     "evalue": "",
     "output_type": "error",
     "traceback": [
      "\u001b[1;31m---------------------------------------------------------------------------\u001b[0m",
      "\u001b[1;31mKeyboardInterrupt\u001b[0m                         Traceback (most recent call last)",
      "\u001b[1;32m<ipython-input-47-2b1d34ce1b34>\u001b[0m in \u001b[0;36m<module>\u001b[1;34m()\u001b[0m\n\u001b[0;32m      1\u001b[0m \u001b[1;31m# Save the saleamount timeseries for all towns for use later.\u001b[0m\u001b[1;33m\u001b[0m\u001b[1;33m\u001b[0m\u001b[0m\n\u001b[1;32m----> 2\u001b[1;33m \u001b[0msaleamount_ts_all\u001b[0m \u001b[1;33m=\u001b[0m \u001b[0mmedian_timeseries_all_towns\u001b[0m\u001b[1;33m(\u001b[0m\u001b[1;34m'SaleAmount'\u001b[0m\u001b[1;33m)\u001b[0m\u001b[1;33m\u001b[0m\u001b[0m\n\u001b[0m",
      "\u001b[1;32m<ipython-input-46-81ee66f38064>\u001b[0m in \u001b[0;36mmedian_timeseries_all_towns\u001b[1;34m(column, startyear, endyear, source_df)\u001b[0m\n\u001b[0;32m     10\u001b[0m     \u001b[1;31m# Add in the info for each town\u001b[0m\u001b[1;33m\u001b[0m\u001b[1;33m\u001b[0m\u001b[0m\n\u001b[0;32m     11\u001b[0m     \u001b[1;32mfor\u001b[0m \u001b[0mtown\u001b[0m \u001b[1;32min\u001b[0m \u001b[0msource_df\u001b[0m\u001b[1;33m[\u001b[0m\u001b[1;34m'Town'\u001b[0m\u001b[1;33m]\u001b[0m\u001b[1;33m.\u001b[0m\u001b[0munique\u001b[0m\u001b[1;33m(\u001b[0m\u001b[1;33m)\u001b[0m\u001b[1;33m:\u001b[0m\u001b[1;33m\u001b[0m\u001b[0m\n\u001b[1;32m---> 12\u001b[1;33m         \u001b[0mtime_series\u001b[0m \u001b[1;33m=\u001b[0m \u001b[0mpd\u001b[0m\u001b[1;33m.\u001b[0m\u001b[0mconcat\u001b[0m\u001b[1;33m(\u001b[0m\u001b[1;33m[\u001b[0m\u001b[0mtime_series\u001b[0m\u001b[1;33m,\u001b[0m \u001b[0mmedian_timeseries\u001b[0m\u001b[1;33m(\u001b[0m\u001b[0mcolumn\u001b[0m\u001b[1;33m,\u001b[0m \u001b[0mtown\u001b[0m\u001b[1;33m)\u001b[0m\u001b[1;33m.\u001b[0m\u001b[0mtranspose\u001b[0m\u001b[1;33m(\u001b[0m\u001b[1;33m)\u001b[0m\u001b[1;33m]\u001b[0m\u001b[1;33m)\u001b[0m\u001b[1;33m\u001b[0m\u001b[0m\n\u001b[0m\u001b[0;32m     13\u001b[0m \u001b[1;33m\u001b[0m\u001b[0m\n\u001b[0;32m     14\u001b[0m     \u001b[1;31m# Add in town name column\u001b[0m\u001b[1;33m\u001b[0m\u001b[1;33m\u001b[0m\u001b[0m\n",
      "\u001b[1;32m<ipython-input-45-737b6104764d>\u001b[0m in \u001b[0;36mmedian_timeseries\u001b[1;34m(column, town, startyear, endyear, source_df)\u001b[0m\n\u001b[0;32m     14\u001b[0m         \u001b[0mlist_of_medians\u001b[0m\u001b[1;33m.\u001b[0m\u001b[0mappend\u001b[0m\u001b[1;33m(\u001b[0m\u001b[0mget_years_median\u001b[0m\u001b[1;33m(\u001b[0m\u001b[0mcolumn\u001b[0m\u001b[1;33m,\u001b[0m \u001b[0myear\u001b[0m\u001b[1;33m,\u001b[0m \u001b[0mtown\u001b[0m\u001b[1;33m)\u001b[0m\u001b[1;33m)\u001b[0m\u001b[1;33m\u001b[0m\u001b[0m\n\u001b[0;32m     15\u001b[0m \u001b[1;33m\u001b[0m\u001b[0m\n\u001b[1;32m---> 16\u001b[1;33m     \u001b[1;32mreturn\u001b[0m \u001b[0mpd\u001b[0m\u001b[1;33m.\u001b[0m\u001b[0mDataFrame\u001b[0m\u001b[1;33m(\u001b[0m\u001b[0mdata\u001b[0m\u001b[1;33m=\u001b[0m\u001b[0mlist_of_medians\u001b[0m\u001b[1;33m,\u001b[0m \u001b[0mindex\u001b[0m\u001b[1;33m=\u001b[0m\u001b[0mindex\u001b[0m\u001b[1;33m,\u001b[0m \u001b[0mcolumns\u001b[0m\u001b[1;33m=\u001b[0m\u001b[0mcolumns\u001b[0m\u001b[1;33m)\u001b[0m\u001b[1;33m\u001b[0m\u001b[0m\n\u001b[0m",
      "\u001b[1;32mc:\\python36\\lib\\site-packages\\pandas\\core\\frame.py\u001b[0m in \u001b[0;36m__init__\u001b[1;34m(self, data, index, columns, dtype, copy)\u001b[0m\n\u001b[0;32m    401\u001b[0m                 \u001b[1;32melse\u001b[0m\u001b[1;33m:\u001b[0m\u001b[1;33m\u001b[0m\u001b[0m\n\u001b[0;32m    402\u001b[0m                     mgr = self._init_ndarray(data, index, columns, dtype=dtype,\n\u001b[1;32m--> 403\u001b[1;33m                                              copy=copy)\n\u001b[0m\u001b[0;32m    404\u001b[0m             \u001b[1;32melse\u001b[0m\u001b[1;33m:\u001b[0m\u001b[1;33m\u001b[0m\u001b[0m\n\u001b[0;32m    405\u001b[0m                 \u001b[0mmgr\u001b[0m \u001b[1;33m=\u001b[0m \u001b[0mself\u001b[0m\u001b[1;33m.\u001b[0m\u001b[0m_init_dict\u001b[0m\u001b[1;33m(\u001b[0m\u001b[1;33m{\u001b[0m\u001b[1;33m}\u001b[0m\u001b[1;33m,\u001b[0m \u001b[0mindex\u001b[0m\u001b[1;33m,\u001b[0m \u001b[0mcolumns\u001b[0m\u001b[1;33m,\u001b[0m \u001b[0mdtype\u001b[0m\u001b[1;33m=\u001b[0m\u001b[0mdtype\u001b[0m\u001b[1;33m)\u001b[0m\u001b[1;33m\u001b[0m\u001b[0m\n",
      "\u001b[1;32mc:\\python36\\lib\\site-packages\\pandas\\core\\frame.py\u001b[0m in \u001b[0;36m_init_ndarray\u001b[1;34m(self, values, index, columns, dtype, copy)\u001b[0m\n\u001b[0;32m    525\u001b[0m                     \u001b[0mraise_with_traceback\u001b[0m\u001b[1;33m(\u001b[0m\u001b[0me\u001b[0m\u001b[1;33m)\u001b[0m\u001b[1;33m\u001b[0m\u001b[0m\n\u001b[0;32m    526\u001b[0m \u001b[1;33m\u001b[0m\u001b[0m\n\u001b[1;32m--> 527\u001b[1;33m         \u001b[0mindex\u001b[0m\u001b[1;33m,\u001b[0m \u001b[0mcolumns\u001b[0m \u001b[1;33m=\u001b[0m \u001b[0m_get_axes\u001b[0m\u001b[1;33m(\u001b[0m\u001b[1;33m*\u001b[0m\u001b[0mvalues\u001b[0m\u001b[1;33m.\u001b[0m\u001b[0mshape\u001b[0m\u001b[1;33m)\u001b[0m\u001b[1;33m\u001b[0m\u001b[0m\n\u001b[0m\u001b[0;32m    528\u001b[0m         \u001b[0mvalues\u001b[0m \u001b[1;33m=\u001b[0m \u001b[0mvalues\u001b[0m\u001b[1;33m.\u001b[0m\u001b[0mT\u001b[0m\u001b[1;33m\u001b[0m\u001b[0m\n\u001b[0;32m    529\u001b[0m \u001b[1;33m\u001b[0m\u001b[0m\n",
      "\u001b[1;32mc:\\python36\\lib\\site-packages\\pandas\\core\\frame.py\u001b[0m in \u001b[0;36m_get_axes\u001b[1;34m(N, K, index, columns)\u001b[0m\n\u001b[0;32m    487\u001b[0m                 \u001b[0mcolumns\u001b[0m \u001b[1;33m=\u001b[0m \u001b[0mcom\u001b[0m\u001b[1;33m.\u001b[0m\u001b[0m_default_index\u001b[0m\u001b[1;33m(\u001b[0m\u001b[0mK\u001b[0m\u001b[1;33m)\u001b[0m\u001b[1;33m\u001b[0m\u001b[0m\n\u001b[0;32m    488\u001b[0m             \u001b[1;32melse\u001b[0m\u001b[1;33m:\u001b[0m\u001b[1;33m\u001b[0m\u001b[0m\n\u001b[1;32m--> 489\u001b[1;33m                 \u001b[0mcolumns\u001b[0m \u001b[1;33m=\u001b[0m \u001b[0m_ensure_index\u001b[0m\u001b[1;33m(\u001b[0m\u001b[0mcolumns\u001b[0m\u001b[1;33m)\u001b[0m\u001b[1;33m\u001b[0m\u001b[0m\n\u001b[0m\u001b[0;32m    490\u001b[0m             \u001b[1;32mreturn\u001b[0m \u001b[0mindex\u001b[0m\u001b[1;33m,\u001b[0m \u001b[0mcolumns\u001b[0m\u001b[1;33m\u001b[0m\u001b[0m\n\u001b[0;32m    491\u001b[0m \u001b[1;33m\u001b[0m\u001b[0m\n",
      "\u001b[1;32mc:\\python36\\lib\\site-packages\\pandas\\core\\indexes\\base.py\u001b[0m in \u001b[0;36m_ensure_index\u001b[1;34m(index_like, copy)\u001b[0m\n\u001b[0;32m   4941\u001b[0m             \u001b[0mindex_like\u001b[0m \u001b[1;33m=\u001b[0m \u001b[0mlist\u001b[0m\u001b[1;33m(\u001b[0m\u001b[0mindex_like\u001b[0m\u001b[1;33m)\u001b[0m\u001b[1;33m\u001b[0m\u001b[0m\n\u001b[0;32m   4942\u001b[0m \u001b[1;33m\u001b[0m\u001b[0m\n\u001b[1;32m-> 4943\u001b[1;33m         \u001b[0mconverted\u001b[0m\u001b[1;33m,\u001b[0m \u001b[0mall_arrays\u001b[0m \u001b[1;33m=\u001b[0m \u001b[0mlib\u001b[0m\u001b[1;33m.\u001b[0m\u001b[0mclean_index_list\u001b[0m\u001b[1;33m(\u001b[0m\u001b[0mindex_like\u001b[0m\u001b[1;33m)\u001b[0m\u001b[1;33m\u001b[0m\u001b[0m\n\u001b[0m\u001b[0;32m   4944\u001b[0m \u001b[1;33m\u001b[0m\u001b[0m\n\u001b[0;32m   4945\u001b[0m         \u001b[1;32mif\u001b[0m \u001b[0mlen\u001b[0m\u001b[1;33m(\u001b[0m\u001b[0mconverted\u001b[0m\u001b[1;33m)\u001b[0m \u001b[1;33m>\u001b[0m \u001b[1;36m0\u001b[0m \u001b[1;32mand\u001b[0m \u001b[0mall_arrays\u001b[0m\u001b[1;33m:\u001b[0m\u001b[1;33m\u001b[0m\u001b[0m\n",
      "\u001b[1;32mpandas\\_libs\\lib.pyx\u001b[0m in \u001b[0;36mpandas._libs.lib.clean_index_list\u001b[1;34m()\u001b[0m\n",
      "\u001b[1;32mpandas/_libs/src\\inference.pyx\u001b[0m in \u001b[0;36mpandas._libs.lib.infer_dtype\u001b[1;34m()\u001b[0m\n",
      "\u001b[1;32mc:\\python36\\lib\\importlib\\_bootstrap.py\u001b[0m in \u001b[0;36m_find_and_load\u001b[1;34m(name, import_)\u001b[0m\n",
      "\u001b[1;32mc:\\python36\\lib\\importlib\\_bootstrap.py\u001b[0m in \u001b[0;36m_find_and_load_unlocked\u001b[1;34m(name, import_)\u001b[0m\n",
      "\u001b[1;32mc:\\python36\\lib\\importlib\\_bootstrap.py\u001b[0m in \u001b[0;36m_find_spec\u001b[1;34m(name, path, target)\u001b[0m\n",
      "\u001b[1;32mc:\\python36\\lib\\importlib\\_bootstrap_external.py\u001b[0m in \u001b[0;36mfind_spec\u001b[1;34m(cls, fullname, path, target)\u001b[0m\n",
      "\u001b[1;32mc:\\python36\\lib\\importlib\\_bootstrap_external.py\u001b[0m in \u001b[0;36m_get_spec\u001b[1;34m(cls, fullname, path, target)\u001b[0m\n",
      "\u001b[1;32mc:\\python36\\lib\\importlib\\_bootstrap_external.py\u001b[0m in \u001b[0;36mfind_spec\u001b[1;34m(self, fullname, target)\u001b[0m\n",
      "\u001b[1;32mc:\\python36\\lib\\importlib\\_bootstrap_external.py\u001b[0m in \u001b[0;36m_path_stat\u001b[1;34m(path)\u001b[0m\n",
      "\u001b[1;31mKeyboardInterrupt\u001b[0m: "
     ]
    }
   ],
   "source": [
    "# Save the saleamount timeseries for all towns for use later.\n",
    "saleamount_ts_all = median_timeseries_all_towns('SaleAmount')"
   ]
  },
  {
   "cell_type": "code",
   "execution_count": null,
   "metadata": {},
   "outputs": [],
   "source": [
    "%save saleamount_ts_all"
   ]
  },
  {
   "cell_type": "code",
   "execution_count": null,
   "metadata": {},
   "outputs": [],
   "source": [
    "saleamount_ts_all.head()"
   ]
  },
  {
   "cell_type": "markdown",
   "metadata": {},
   "source": [
    "#### Number sold time series"
   ]
  },
  {
   "cell_type": "code",
   "execution_count": 48,
   "metadata": {},
   "outputs": [],
   "source": [
    "def get_years_sale_count(year, town='Connecticut', source_df=res_df):\n",
    "    \"\"\"\n",
    "    Returns the nummber of sales in one town from year, using data from source_df, as a list.\n",
    "    This is a HELPER FUNCTION for sale_count_timeseries().\n",
    "    \"\"\"\n",
    "    # Subset by town and year\n",
    "    subset = source_df[source_df['Year'] == str(year)]\n",
    "    if town != 'Connecticut':\n",
    "        subset = subset[subset['Town'] == town]\n",
    "\n",
    "    # Calculate and return the length\n",
    "    count = len(subset)\n",
    "    if count == 'nan':\n",
    "        return -1\n",
    "    else:\n",
    "        return count"
   ]
  },
  {
   "cell_type": "code",
   "execution_count": 49,
   "metadata": {},
   "outputs": [],
   "source": [
    "def sale_count_timeseries(town='Connecticut', startyear=MIN_YEAR, endyear=MAX_YEAR, source_df=res_df):\n",
    "    \"\"\"\n",
    "    Returns a time series for a particular town and column, from start year to endyear.\n",
    "    Values are the number of sales in that town in that year.\n",
    "    Grabs the data from source_df.\n",
    "    \"\"\"\n",
    "    # Make the DataFrame's attributes\n",
    "    index = list(range(startyear, endyear+1))\n",
    "    columns = [town]\n",
    "    \n",
    "    # Generate a list of medians using helper function\n",
    "    list_of_sale_counts = []\n",
    "    for year in index:\n",
    "        list_of_sale_counts.append(get_years_sale_count(year, town))\n",
    "        \n",
    "    return pd.DataFrame(data=list_of_sale_counts, index=index, columns=columns)"
   ]
  },
  {
   "cell_type": "code",
   "execution_count": 50,
   "metadata": {},
   "outputs": [],
   "source": [
    "def sale_count_timeseries_all_towns(startyear=MIN_YEAR, endyear=MAX_YEAR, source_df=res_df):\n",
    "    \"\"\"\n",
    "    Returns a time series of all towns in CT, as well as the CT average.\n",
    "    Each column is a year with values being the number of homes sold in that town in that year.\n",
    "    \"\"\"\n",
    "    # Make the DataFrame's attributes\n",
    "    columns = list(range(startyear, endyear+1))\n",
    "    time_series = pd.DataFrame(columns=columns, data = sale_count_timeseries('Connecticut', startyear, endyear).transpose())\n",
    "    \n",
    "    for town in source_df['Town'].unique():\n",
    "        time_series = pd.concat([time_series, sale_count_timeseries(town, startyear, endyear).transpose()])\n",
    "            \n",
    "    return time_series"
   ]
  },
  {
   "cell_type": "code",
   "execution_count": null,
   "metadata": {},
   "outputs": [],
   "source": [
    "sale_count_ts_all_towns = sale_count_timeseries_all_towns()"
   ]
  },
  {
   "cell_type": "code",
   "execution_count": null,
   "metadata": {},
   "outputs": [],
   "source": [
    "%store sale_count_ts_all_towns"
   ]
  },
  {
   "cell_type": "markdown",
   "metadata": {},
   "source": [
    "### Fact check your SaleAmount medians and NumberSold"
   ]
  },
  {
   "cell_type": "markdown",
   "metadata": {},
   "source": [
    "#### Cross-check median sale amount with Warren Group:\n",
    "\"A total of 3,829 single-family homes were sold in Connecticut during the month of August, compared with 3,776 sold in August 2016... Meanwhile, the median price of a single-family home increased 1.9 percent in August to \\$265,000, compared with __\\$260,000__ a year ago.\" from https://thewarrengroup.com/2017/09/26/conn-single-family-edge-higher-in-august/"
   ]
  },
  {
   "cell_type": "code",
   "execution_count": 53,
   "metadata": {},
   "outputs": [
    {
     "name": "stdout",
     "output_type": "stream",
     "text": [
      "Number of single family homes sold in August 2016: 3408\n",
      "Sale count is off by 368\n"
     ]
    }
   ],
   "source": [
    "aug_2016 = res_df[(res_df['Year'] == '2016') & (res_df['Month'] == '08')]\n",
    "sale_count_aug_2016 = get_years_sale_count(2016, 'Connecticut', source_df = aug_2016)\n",
    "print(\"Number of single family homes sold in August 2016: \" + str(sale_count_aug_2016))\n",
    "print(\"Sale count is off by \" + str(3776 - sale_count_aug_2016))"
   ]
  },
  {
   "cell_type": "code",
   "execution_count": 54,
   "metadata": {},
   "outputs": [
    {
     "name": "stdout",
     "output_type": "stream",
     "text": [
      "August 2016 sale price median: 255000.0\n",
      "Sale price median is off by 5000.0\n"
     ]
    }
   ],
   "source": [
    "sale_price_median_aug_2016 = get_years_median('SaleAmount', 2016, 'Connecticut', source_df = aug_2016)\n",
    "print(\"August 2016 sale price median: \" + str(sale_price_median_aug_2016))\n",
    "print(\"Sale price median is off by \" + str(260000 - sale_price_median_aug_2016))"
   ]
  },
  {
   "cell_type": "markdown",
   "metadata": {},
   "source": [
    "__Another Warren Group example:__\n",
    "\"A total of 2,139 single-family homes sold in Connecticut during the month \\[of March, 2016\\] compared with 1,768 sold in March 2015... The median price of a single-family home fell by 3 percent in March to \\$225,000 compared with \\$232,000 a year ago.\"\n",
    "from https://thewarrengroup.com/2016/05/10/connecticut-home-sales-continue-torrid-pace-in-march/"
   ]
  },
  {
   "cell_type": "code",
   "execution_count": 55,
   "metadata": {},
   "outputs": [
    {
     "name": "stdout",
     "output_type": "stream",
     "text": [
      "Number of homes sold in March 2015: 2929\n",
      "Sale count is off by -790\n"
     ]
    }
   ],
   "source": [
    "mar_2015 = res_df[(res_df['Year'] == '2015') & (res_df['Month'] == '03')]\n",
    "sale_count_mar_15 = get_years_sale_count(2015, 'Connecticut', source_df = mar_2015)\n",
    "print(\"Number of homes sold in March 2015: \" + str(sale_count_mar_15))\n",
    "print(\"Sale count is off by \" + str(2139 - get_years_sale_count(2015, 'Connecticut', source_df = mar_2015)))"
   ]
  },
  {
   "cell_type": "code",
   "execution_count": 57,
   "metadata": {},
   "outputs": [
    {
     "name": "stdout",
     "output_type": "stream",
     "text": [
      "Median price from March to March: 225000.0\n",
      "This sale price is off by 0.0\n"
     ]
    }
   ],
   "source": [
    "# WG calculates median from March 2015 to March 2016\n",
    "mar_15_on = res_df[(res_df['Year'] == '2015') & (res_df['Month'].isin(['03', '04', '05', '06', '07', '08', '09',\n",
    "                                                                      '10', '11', '12']))]\n",
    "up_to_mar_16 = res_df[(res_df['Year'] == '2016') & (res_df['Month'].isin(['01', '02', '03']))]\n",
    "mar_15_to_mar_16 = pd.concat([mar_15_on, up_to_mar_16])\n",
    "\n",
    "median_sale_amount_mar_to_mar = mar_15_to_mar_16['SaleAmount'].median()\n",
    "\n",
    "print(\"Median price from March to March: \" + str(median_sale_amount_mar_to_mar))\n",
    "print(\"This sale price is off by \" + str(225000 - median_sale_amount_mar_to_mar))"
   ]
  },
  {
   "cell_type": "markdown",
   "metadata": {},
   "source": [
    "#### Cross-check median sale price and  number sold with CTRealtors:\n",
    "\"Connecticut REALTORS® reports that the single-family residential home median sales price is \\$237,000 *which\n",
    "reflects a 3.1 percent increase* from \\$229,900 in that same time period last year. Median indicates that half the\n",
    "homes sold for more and half for less. Single-family residential home sales in Connecticut increased 5.1 percent\n",
    "comparing March 2017 to March 2016. The total units of homes sold were 2,527 in March 2017 and 2,404 in\n",
    "March 2016.\" from https://www.ctrealtors.com/Customer-Content/www/press-releases/PDFs/Stats-2017March.pdf"
   ]
  },
  {
   "cell_type": "code",
   "execution_count": 59,
   "metadata": {},
   "outputs": [
    {
     "name": "stdout",
     "output_type": "stream",
     "text": [
      "March 2016 sale price median: 233750.0\n",
      "This price is off by -4750.0\n"
     ]
    }
   ],
   "source": [
    "mar_2016 = res_df[(res_df['Year'] == '2016') & (res_df['Month'] == '03')]\n",
    "mar_16_median = get_years_median('SaleAmount', 2016, 'Connecticut', source_df = mar_2016)\n",
    "print(\"March 2016 sale price median: \" + str(mar_16_median))\n",
    "print(\"This price is off by \" + str(229000 - mar_16_median))"
   ]
  },
  {
   "cell_type": "code",
   "execution_count": 61,
   "metadata": {},
   "outputs": [
    {
     "name": "stdout",
     "output_type": "stream",
     "text": [
      "Single family homes: 1838\n",
      "All residential homes: 1852\n",
      "Single family homes sale count is off by 566\n"
     ]
    }
   ],
   "source": [
    "mar_2016_single_family_homes = res_df[(res_df['Year'] == '2016') & (res_df['Month'] == '03')]\n",
    "print(\"Single family homes: \" + str(len(mar_2016_single_family_homes)))\n",
    "mar_2016_all_residential = get_residential(use_df)\n",
    "mar_2016_all_residential = mar_2016_all_residential[(mar_2016_all_residential['Year'] == '2016')\n",
    "                                                   & (mar_2016_all_residential['Month'] == '03')]\n",
    "print(\"All residential homes: \" + str(len(mar_2016_all_residential)))\n",
    "print(\"Single family homes sale count is off by \" + str(2404 - len(mar_2016_single_family_homes)))"
   ]
  },
  {
   "cell_type": "markdown",
   "metadata": {},
   "source": [
    "#### Cross-check numer sold with CTRealtors:\n",
    "\"The total units of homes sold were 2,307 in January 2017 and 2,020 in January 2016.\" (From https://ctrealtors.com/Customer-Content/www/press-releases/PDFs/Stats-2017January.pdf)\n",
    "\n",
    "(*Note:* I am unable to find info on the *total* number of sales in 2016, but WG and CTRealtors do mention monthly sale numbers in their reports.)"
   ]
  },
  {
   "cell_type": "code",
   "execution_count": 62,
   "metadata": {},
   "outputs": [
    {
     "name": "stdout",
     "output_type": "stream",
     "text": [
      "1457\n"
     ]
    }
   ],
   "source": [
    "jan_2016 = res_df[(res_df['Year'] == '2016') & (res_df['Month'] == '01')]\n",
    "print(get_years_sale_count(2016, 'Connecticut', source_df=jan_2016)) # Should be close to 2,020"
   ]
  },
  {
   "cell_type": "markdown",
   "metadata": {},
   "source": [
    "#### Try with WG August report\n",
    "\"A total of 3,829 single-family homes were sold in Connecticut during the month of August, compared with 3,776 sold in August 2016.\" from https://thewarrengroup.com/2017/09/26/conn-single-family-edge-higher-in-august/"
   ]
  },
  {
   "cell_type": "code",
   "execution_count": 63,
   "metadata": {},
   "outputs": [
    {
     "name": "stdout",
     "output_type": "stream",
     "text": [
      "2632\n"
     ]
    }
   ],
   "source": [
    "aug_2016 = res_df[(res_df['Year'] == '2016') & (res_df['Month'] == '09')]\n",
    "print(len(aug_2016)) # Should be close to 3,776"
   ]
  },
  {
   "cell_type": "markdown",
   "metadata": {},
   "source": [
    "#### Will come back to this."
   ]
  },
  {
   "cell_type": "markdown",
   "metadata": {},
   "source": [
    "### Load in population and median income data for each town to help with town subsetting.\n",
    "* Town-by-town population estimates come from CT DPH: https://portal.ct.gov/DPH/Health-Information-Systems--Reporting/Population/Annual-Town-and-County-Population-for-Connecticut\n",
    "* Median income data from Census Bureau via CT Data Collaborative http://data.ctdata.org/dataset/median-household-income-by-town"
   ]
  },
  {
   "cell_type": "markdown",
   "metadata": {},
   "source": [
    "#### Population data"
   ]
  },
  {
   "cell_type": "code",
   "execution_count": 81,
   "metadata": {},
   "outputs": [],
   "source": [
    "# Clean town population data by separating the pairs of columns and concatenate them into one datafame\n",
    "def clean_town_population_df(raw_df):\n",
    "    \"\"\"\n",
    "    Returns a clean version of the raw town population df.\n",
    "    \"\"\"\n",
    "    clean_df = raw_df.copy()\n",
    "    \n",
    "    # Split up column pairs\n",
    "    town_pop_section_1 = clean_df[['Town', 'Est. Pop.']]\n",
    "    town_pop_section_2 = clean_df[['Town.1', 'Est. Pop..1']]\n",
    "    town_pop_section_3 = clean_df[['Town.2', 'Est. Pop..2']]\n",
    "    town_pop_section_4 = clean_df[['Town.3', 'Est. Pop..3']]\n",
    "    \n",
    "    # Trim off the NaN rows at the end of each section\n",
    "    town_pop_section_1 = town_pop_section_1[0:-9]\n",
    "    town_pop_section_2 = town_pop_section_2[0:-9]\n",
    "    town_pop_section_3 = town_pop_section_3[0:-9]\n",
    "    town_pop_section_4 = town_pop_section_4[0:-8]\n",
    "    \n",
    "    # Fix column names in order to concatenate properly\n",
    "    columns = ['Town', 'Population']\n",
    "    town_pop_section_1.columns = columns\n",
    "    town_pop_section_2.columns = columns\n",
    "    town_pop_section_3.columns = columns\n",
    "    town_pop_section_4.columns = columns\n",
    "    \n",
    "    clean_df = pd.concat([town_pop_section_1, town_pop_section_2, town_pop_section_3, town_pop_section_4]).reset_index(drop=True)\n",
    "\n",
    "\n",
    "    for index in clean_df.index:\n",
    "        # remove commas\n",
    "        clean_df.loc[index, 'Population'] = str(clean_df.iloc[index]['Population']).replace(',','')\n",
    "    \n",
    "    clean_df['Population'] = clean_df['Population'].astype(float)\n",
    "    \n",
    "    return clean_df"
   ]
  },
  {
   "cell_type": "code",
   "execution_count": 82,
   "metadata": {},
   "outputs": [],
   "source": [
    "town_pop_df = clean_town_population_df(\n",
    "pd.read_excel(\"https://portal.ct.gov/-/media/Departments-and-Agencies/DPH/Population/Town-Pop/pop_towns2016xlsx.xlsx?la=en\",\n",
    "                             skiprows=10))"
   ]
  },
  {
   "cell_type": "code",
   "execution_count": 83,
   "metadata": {},
   "outputs": [],
   "source": [
    "def clean_town_income_df(raw_df):\n",
    "    \"\"\"\n",
    "    Returns a clean version of raw town income data.\n",
    "    Grabs info for each town where Race/Ethnicity = All, Measure Type = Number, Variable = Median Household Income,\n",
    "    and Year = 2012-2016.\n",
    "    \"\"\"\n",
    "    clean_df = raw_df.copy()\n",
    "    \n",
    "    # Grab only select info\n",
    "    clean_df = clean_df[(clean_df['Race/Ethnicity'] == 'All') & (clean_df['Year'] == '2012-2016')\n",
    "                       & (clean_df['Measure Type'] == 'Number') & (clean_df['Variable'] == 'Median Household Income')]\n",
    "    \n",
    "    # Put Connecticut at the top of the dataframe while maintaining alphabetical order otherwise\n",
    "    ct_row = clean_df[clean_df['Town'] == 'Connecticut'] # Grab CT row\n",
    "    clean_df = clean_df[clean_df['Town'] != 'Connecticut'] # Remove it from middle of df\n",
    "    clean_df = pd.concat([ct_row, clean_df]) # Add CT back to top\n",
    "    \n",
    "    # Drop unwanted columns\n",
    "    clean_df = clean_df[['Town', 'FIPS', 'Value']]\n",
    "    \n",
    "    # Rename columns\n",
    "    clean_df.columns = ['Town', 'FIPS', 'MedianHouseholdIncome']\n",
    "    \n",
    "    return clean_df.reset_index(drop=True)"
   ]
  },
  {
   "cell_type": "code",
   "execution_count": 84,
   "metadata": {},
   "outputs": [],
   "source": [
    "town_income_df = clean_town_income_df(pd.read_csv(\"http://data.ctdata.org/dataset/68296d39-d0f7-4e2d-ba0e-98a3463ab58f/resource/1a962569-c6b3-4031-b7b1-f051e9c12379/download/median-household-income-town-2016.csv\"))"
   ]
  },
  {
   "cell_type": "markdown",
   "metadata": {},
   "source": [
    "#### Now merge this new info into town_df_copy"
   ]
  },
  {
   "cell_type": "code",
   "execution_count": 85,
   "metadata": {},
   "outputs": [],
   "source": [
    "def add_population_and_income_data(df, town_pop, town_income):\n",
    "    \"\"\"\n",
    "    Assuming df has Town names, will join data from town_income_df and town_population_df by town.\n",
    "    Specifically, grabs 'Population' from town_pop and 'MedianHouseholdIncome', as well as 'FIPS', from town_income.\n",
    "    \"\"\"\n",
    "    new_df = df.copy()\n",
    "    new_df = df.merge(right = town_pop[['Town','Population']], on='Town')\n",
    "    new_df = new_df.merge(right = town_income[['Town','MedianHouseholdIncome','FIPS']], on = 'Town')\n",
    "    return new_df"
   ]
  },
  {
   "cell_type": "code",
   "execution_count": 86,
   "metadata": {},
   "outputs": [],
   "source": [
    "town_df_copy = town_df.reset_index()\n",
    "town_df_copy.columns = ['Town', 'PeakMedianSaleAmount', 'RecentMedianSaleAmount', 'RecoveryRatio']\n",
    "town_df_copy = add_population_and_income_data(town_df_copy, town_pop_df, town_income_df)"
   ]
  },
  {
   "cell_type": "code",
   "execution_count": 561,
   "metadata": {},
   "outputs": [
    {
     "data": {
      "text/html": [
       "<div>\n",
       "<style scoped>\n",
       "    .dataframe tbody tr th:only-of-type {\n",
       "        vertical-align: middle;\n",
       "    }\n",
       "\n",
       "    .dataframe tbody tr th {\n",
       "        vertical-align: top;\n",
       "    }\n",
       "\n",
       "    .dataframe thead th {\n",
       "        text-align: right;\n",
       "    }\n",
       "</style>\n",
       "<table border=\"1\" class=\"dataframe\">\n",
       "  <thead>\n",
       "    <tr style=\"text-align: right;\">\n",
       "      <th></th>\n",
       "      <th>Town</th>\n",
       "      <th>PeakSaleAmount</th>\n",
       "      <th>RecentMedianSaleAmount</th>\n",
       "      <th>RecoveryRatio</th>\n",
       "      <th>Population</th>\n",
       "      <th>MedianHouseholdIncome</th>\n",
       "      <th>FIPS</th>\n",
       "    </tr>\n",
       "  </thead>\n",
       "  <tbody>\n",
       "    <tr>\n",
       "      <th>0</th>\n",
       "      <td>Ansonia</td>\n",
       "      <td>250000</td>\n",
       "      <td>199450.000</td>\n",
       "      <td>0.798</td>\n",
       "      <td>18732.000</td>\n",
       "      <td>43386.000</td>\n",
       "      <td>900901220</td>\n",
       "    </tr>\n",
       "    <tr>\n",
       "      <th>1</th>\n",
       "      <td>Ashford</td>\n",
       "      <td>270000</td>\n",
       "      <td>195500.000</td>\n",
       "      <td>0.724</td>\n",
       "      <td>4236.000</td>\n",
       "      <td>78313.000</td>\n",
       "      <td>901501430</td>\n",
       "    </tr>\n",
       "    <tr>\n",
       "      <th>2</th>\n",
       "      <td>Avon</td>\n",
       "      <td>505000</td>\n",
       "      <td>362500.000</td>\n",
       "      <td>0.718</td>\n",
       "      <td>18364.000</td>\n",
       "      <td>124608.000</td>\n",
       "      <td>900302060</td>\n",
       "    </tr>\n",
       "    <tr>\n",
       "      <th>3</th>\n",
       "      <td>Barkhamsted</td>\n",
       "      <td>275000</td>\n",
       "      <td>257500.000</td>\n",
       "      <td>0.936</td>\n",
       "      <td>3664.000</td>\n",
       "      <td>104899.000</td>\n",
       "      <td>900502760</td>\n",
       "    </tr>\n",
       "    <tr>\n",
       "      <th>4</th>\n",
       "      <td>Berlin</td>\n",
       "      <td>277000</td>\n",
       "      <td>260000.000</td>\n",
       "      <td>0.939</td>\n",
       "      <td>20499.000</td>\n",
       "      <td>93750.000</td>\n",
       "      <td>900304300</td>\n",
       "    </tr>\n",
       "  </tbody>\n",
       "</table>\n",
       "</div>"
      ],
      "text/plain": [
       "          Town  PeakSaleAmount  RecentMedianSaleAmount  RecoveryRatio  \\\n",
       "0      Ansonia          250000              199450.000          0.798   \n",
       "1      Ashford          270000              195500.000          0.724   \n",
       "2         Avon          505000              362500.000          0.718   \n",
       "3  Barkhamsted          275000              257500.000          0.936   \n",
       "4       Berlin          277000              260000.000          0.939   \n",
       "\n",
       "   Population  MedianHouseholdIncome       FIPS  \n",
       "0   18732.000              43386.000  900901220  \n",
       "1    4236.000              78313.000  901501430  \n",
       "2   18364.000             124608.000  900302060  \n",
       "3    3664.000             104899.000  900502760  \n",
       "4   20499.000              93750.000  900304300  "
      ]
     },
     "execution_count": 561,
     "metadata": {},
     "output_type": "execute_result"
    }
   ],
   "source": [
    "town_df_copy.head()"
   ]
  },
  {
   "cell_type": "code",
   "execution_count": null,
   "metadata": {},
   "outputs": [],
   "source": []
  },
  {
   "cell_type": "markdown",
   "metadata": {},
   "source": [
    "#### Reorder columns for better readability"
   ]
  },
  {
   "cell_type": "code",
   "execution_count": 47,
   "metadata": {},
   "outputs": [],
   "source": [
    "town_df_copy = town_df_copy[['Town', 'FIPS', 'Population', \n",
    "                   'MedianHouseholdIncome', 'MedianSaleAmount', 'MaxSaleAmount', 'MinSaleAmount',\n",
    "                   'MedianAssessedValue', 'MaxAssessedValue', 'MinAssessedValue', 'MaxSalesRatio', 'MinSalesRatio']]"
   ]
  },
  {
   "cell_type": "code",
   "execution_count": 48,
   "metadata": {},
   "outputs": [
    {
     "name": "stdout",
     "output_type": "stream",
     "text": [
      "Stored 'town_df_copy' (DataFrame)\n"
     ]
    }
   ],
   "source": [
    "%store town_df_copy"
   ]
  },
  {
   "cell_type": "code",
   "execution_count": 49,
   "metadata": {},
   "outputs": [],
   "source": [
    "town_df = town_df_copy"
   ]
  },
  {
   "cell_type": "markdown",
   "metadata": {},
   "source": [
    "### Seasonally adjust SaleAmount"
   ]
  },
  {
   "cell_type": "code",
   "execution_count": 64,
   "metadata": {},
   "outputs": [],
   "source": [
    "from statsmodels.tsa.seasonal import seasonal_decompose\n",
    "import matplotlib.pyplot as plt"
   ]
  },
  {
   "cell_type": "code",
   "execution_count": 65,
   "metadata": {},
   "outputs": [
    {
     "data": {
      "text/plain": [
       "<matplotlib.axes._subplots.AxesSubplot at 0x1cc5f758ef0>"
      ]
     },
     "execution_count": 65,
     "metadata": {},
     "output_type": "execute_result"
    },
    {
     "data": {
      "image/png": "[encoded data removed]",
      "text/plain": [
       "<Figure size 432x288 with 1 Axes>"
      ]
     },
     "metadata": {},
     "output_type": "display_data"
    }
   ],
   "source": [
    "# Seasonally unadjusted median sale amount for Berlin\n",
    "median_timeseries(\"SaleAmount\", \"Berlin\").plot()"
   ]
  },
  {
   "cell_type": "code",
   "execution_count": 66,
   "metadata": {},
   "outputs": [],
   "source": [
    "berlin_saleamount_ts = median_timeseries(\"SaleAmount\", \"Berlin\")"
   ]
  },
  {
   "cell_type": "markdown",
   "metadata": {},
   "source": [
    "### Identify surge in 2014 sales of homes, properties <\\$100,000"
   ]
  },
  {
   "cell_type": "code",
   "execution_count": 68,
   "metadata": {},
   "outputs": [],
   "source": [
    "sales_under_100k_ts = sale_count_timeseries_all_towns(source_df = df[df['SaleAmount'] < 100000])"
   ]
  },
  {
   "cell_type": "code",
   "execution_count": 69,
   "metadata": {},
   "outputs": [],
   "source": [
    "homes_under_100k_useable = use_df[use_df['SaleAmount'] < 100000]"
   ]
  },
  {
   "cell_type": "code",
   "execution_count": null,
   "metadata": {},
   "outputs": [],
   "source": [
    "# Only transactions without NonUseCodes\n",
    "num_sales = []\n",
    "for year in range(2001, 2017):\n",
    "    print(str(year) + \": \" + str(len(homes_under_100k_useable[homes_under_100k_useable['Year'] == str(year)])))\n",
    "    num_sales += [len(homes_under_100k_useable[homes_under_100k_useable['Year'] == str(year)])]"
   ]
  },
  {
   "cell_type": "code",
   "execution_count": 56,
   "metadata": {},
   "outputs": [],
   "source": [
    "homes_under_100k_all = df[df['SaleAmount'] < 100000]"
   ]
  },
  {
   "cell_type": "code",
   "execution_count": 57,
   "metadata": {},
   "outputs": [
    {
     "name": "stdout",
     "output_type": "stream",
     "text": [
      "2001: 3685\n",
      "2002: 13360\n",
      "2003: 10170\n",
      "2004: 10934\n",
      "2005: 9353\n",
      "2006: 5457\n",
      "2007: 4145\n",
      "2008: 3905\n",
      "2009: 5377\n",
      "2010: 6280\n",
      "2011: 4967\n",
      "2012: 5909\n",
      "2013: 6327\n",
      "2014: 8005\n",
      "2015: 9086\n",
      "2016: 8192\n"
     ]
    }
   ],
   "source": [
    "# ALL transactions-- whether or not they have NonUseCodes\n",
    "num_sales = []\n",
    "for year in range(2001, 2017):\n",
    "    print(str(year) + \": \" + str(len(homes_under_100k_all[homes_under_100k_all['Year'] == str(year)])))\n",
    "    num_sales += [len(homes_under_100k_all[homes_under_100k_all['Year'] == str(year)])]"
   ]
  },
  {
   "cell_type": "markdown",
   "metadata": {},
   "source": [
    "### Create a timeseries of monthly medians for the state, and seasonally adjust these values"
   ]
  },
  {
   "cell_type": "code",
   "execution_count": 70,
   "metadata": {},
   "outputs": [],
   "source": [
    "import statsmodels.api as sm"
   ]
  },
  {
   "cell_type": "code",
   "execution_count": 71,
   "metadata": {},
   "outputs": [],
   "source": [
    "def return_valid_months(df, minyear=MIN_YEAR, maxyear=MAX_YEAR):\n",
    "    \"\"\"\n",
    "    Given a df of sales transactions, this will return a list of unique YearMonths (df['YearMonth']) and ensure that these\n",
    "    are all formatted properly and make sense (i.e. no year less than MIN_YEAR or greater than MAX_YEAR)\n",
    "    \"\"\"\n",
    "    months = list(df['YearMonth'].unique())\n",
    "    \n",
    "    # Remove wonky YearMonths\n",
    "    for month in months:\n",
    "        # Should have the format YYYY-MM at this point\n",
    "        if len(str(month)) != 7:\n",
    "            months.remove(month)\n",
    "    \n",
    "    # Sort chronologically and reconvert to datetime\n",
    "    months = sorted(months)\n",
    "    map(lambda x: pd.to_datetime(x), months)\n",
    "    \n",
    "    return months"
   ]
  },
  {
   "cell_type": "code",
   "execution_count": 72,
   "metadata": {},
   "outputs": [],
   "source": [
    "def calculate_seasonal_adjustments(timeseries_df):\n",
    "    \"\"\"\n",
    "    Given a timeseries, this will return a dataframe of its seasonally adjusted values.\n",
    "    A HELPER FUNCTION for monthly_median_timeseries()\n",
    "    \"\"\"\n",
    "    import statsmodels.api as sm\n",
    "    sa = sm.tsa.seasonal_decompose(x=timeseries_df, model='additive', freq=12)\n",
    "    return sa.trend"
   ]
  },
  {
   "cell_type": "code",
   "execution_count": 73,
   "metadata": {},
   "outputs": [],
   "source": [
    "def calculate_monthly_medians(df, list_of_months, column):\n",
    "    \"\"\"\n",
    "    Calculates a median of 'column' for each month in 'list_of_months' and returns this as a dataframe.\n",
    "    \"\"\"\n",
    "    monthly_medians = {}\n",
    "    for month in list_of_months:\n",
    "        \n",
    "        # Grab all the sales with this month\n",
    "        month_sales = df[df['YearMonth'] == month]\n",
    "        \n",
    "        # Calculate the median and store in the dictionary\n",
    "        median = month_sales[column].median()\n",
    "        monthly_medians[month] = median\n",
    "    \n",
    "    # Now make this into a dataframe to return\n",
    "    ts = pd.DataFrame(columns = [str(column)], index=monthly_medians.keys())\n",
    "    for index in ts.index:\n",
    "        ts.loc[index, str(column)] = monthly_medians[index]\n",
    "\n",
    "    # Convert type to int\n",
    "    ts[column] = ts[column].astype(dtype=int, errors='ignore')\n",
    "    \n",
    "    return ts"
   ]
  },
  {
   "cell_type": "code",
   "execution_count": 74,
   "metadata": {},
   "outputs": [],
   "source": [
    "def monthly_median_timeseries(column, town='Connecticut', minyear=MIN_YEAR, maxyear=MAX_YEAR, source_df=res_df):\n",
    "    \"\"\"\n",
    "    Returns a monthly time series with 3 columns: one for the month (in YYYY-MM format), one for the median of 'column'\n",
    "    in source_df, and one for the seasonall adjusted value of each median.\n",
    "    \"\"\"\n",
    "    # Grab just the 'town' you are interested in\n",
    "    if town != 'Connecticut':\n",
    "        subset = source_df[source_df['Town'] == town]\n",
    "    else:\n",
    "        subset = source_df\n",
    "    \n",
    "    # Grab just the 'YearMonth' and 'column' columns for this subset\n",
    "    subset = subset[['YearMonth', column]].sort_values('YearMonth', ascending=True)\n",
    "    \n",
    "    # Get an ordered, valid list of months. Catches any errors such as NaN months or months of the wrong format\n",
    "    months = return_valid_months(subset, minyear, maxyear)\n",
    "    \n",
    "    # Calculate monthly medians and create a timeseries for them\n",
    "    ts = calculate_monthly_medians(subset, months, column)\n",
    "    \n",
    "    # Calculate seasonal adjustments\n",
    "    sa = calculate_seasonal_adjustments(ts)\n",
    "    \n",
    "    # Merge and fix columns\n",
    "    ts = pd.merge(left=ts, right=sa, on = ts.index)\n",
    "    ts.columns = ['Month', column, 'SeasonallyAdjusted']\n",
    "    \n",
    "    ts.index = pd.to_datetime(ts.index, yearfirst=True) # Convert index back to DateTime\n",
    "    return ts"
   ]
  },
  {
   "cell_type": "code",
   "execution_count": 75,
   "metadata": {},
   "outputs": [],
   "source": [
    "ct_monthly_ts = monthly_median_timeseries('SaleAmount', 'Connecticut')"
   ]
  },
  {
   "cell_type": "code",
   "execution_count": 76,
   "metadata": {},
   "outputs": [
    {
     "data": {
      "text/plain": [
       "<matplotlib.axes._subplots.AxesSubplot at 0x1cc75de02e8>"
      ]
     },
     "execution_count": 76,
     "metadata": {},
     "output_type": "execute_result"
    },
    {
     "data": {
      "image/png": "[encoded data removed]",
      "text/plain": [
       "<Figure size 432x288 with 1 Axes>"
      ]
     },
     "metadata": {},
     "output_type": "display_data"
    }
   ],
   "source": [
    "ct_monthly_ts.plot(x='Month', y=['SaleAmount', 'SeasonallyAdjusted'])"
   ]
  },
  {
   "cell_type": "markdown",
   "metadata": {},
   "source": [
    "### What can we find in common among the top 25 recovery towns and the bottom 25?"
   ]
  },
  {
   "cell_type": "code",
   "execution_count": 108,
   "metadata": {},
   "outputs": [],
   "source": [
    "# Grab top and bottom 25\n",
    "top_25 = town_df.sort_values('RecoveryRatio', ascending=False).head(25)\n",
    "btm_25 = town_df.sort_values('RecoveryRatio', ascending=False).tail(25)"
   ]
  },
  {
   "cell_type": "code",
   "execution_count": 109,
   "metadata": {},
   "outputs": [],
   "source": [
    "# Pull out index into a Town column\n",
    "top_25['Town'] = top_25.index\n",
    "btm_25['Town'] = btm_25.index"
   ]
  },
  {
   "cell_type": "code",
   "execution_count": 110,
   "metadata": {},
   "outputs": [],
   "source": [
    "# Merge with median household income\n",
    "top_25 = pd.merge(left=top_25, right=town_income_df[['Town', 'MedianHouseholdIncome']], on='Town').tail()\n",
    "btm_25 = pd.merge(left=btm_25, right=town_income_df[['Town', 'MedianHouseholdIncome']], on='Town').tail()"
   ]
  },
  {
   "cell_type": "code",
   "execution_count": 114,
   "metadata": {},
   "outputs": [],
   "source": [
    "ct_median_income = town_income_df[town_income_df['Town'] == 'Connecticut']['MedianHouseholdIncome'].iloc[0]"
   ]
  },
  {
   "cell_type": "code",
   "execution_count": 115,
   "metadata": {},
   "outputs": [
    {
     "data": {
      "text/plain": [
       "count        5.000\n",
       "mean     84635.600\n",
       "std      24053.935\n",
       "min      50750.000\n",
       "25%      80000.000\n",
       "50%      81589.000\n",
       "75%      93770.000\n",
       "max     117069.000\n",
       "Name: MedianHouseholdIncome, dtype: float64"
      ]
     },
     "execution_count": 115,
     "metadata": {},
     "output_type": "execute_result"
    }
   ],
   "source": [
    "top_25['MedianHouseholdIncome'].describe()"
   ]
  },
  {
   "cell_type": "code",
   "execution_count": 116,
   "metadata": {},
   "outputs": [
    {
     "data": {
      "text/plain": [
       "count       5.000\n",
       "mean    78050.000\n",
       "std      5294.533\n",
       "min     73804.000\n",
       "25%     74107.000\n",
       "50%     74853.000\n",
       "75%     82418.000\n",
       "max     85068.000\n",
       "Name: MedianHouseholdIncome, dtype: float64"
      ]
     },
     "execution_count": 116,
     "metadata": {},
     "output_type": "execute_result"
    }
   ],
   "source": [
    "btm_25['MedianHouseholdIncome'].describe()"
   ]
  },
  {
   "cell_type": "code",
   "execution_count": 118,
   "metadata": {},
   "outputs": [
    {
     "data": {
      "text/html": [
       "<div>\n",
       "<style scoped>\n",
       "    .dataframe tbody tr th:only-of-type {\n",
       "        vertical-align: middle;\n",
       "    }\n",
       "\n",
       "    .dataframe tbody tr th {\n",
       "        vertical-align: top;\n",
       "    }\n",
       "\n",
       "    .dataframe thead th {\n",
       "        text-align: right;\n",
       "    }\n",
       "</style>\n",
       "<table border=\"1\" class=\"dataframe\">\n",
       "  <thead>\n",
       "    <tr style=\"text-align: right;\">\n",
       "      <th></th>\n",
       "      <th>PeakMedianSaleAmount</th>\n",
       "      <th>RecentMedianSaleAmount</th>\n",
       "      <th>RecoveryRatio</th>\n",
       "      <th>Town</th>\n",
       "      <th>FIPS</th>\n",
       "      <th>MedianHouseholdIncome</th>\n",
       "    </tr>\n",
       "  </thead>\n",
       "  <tbody>\n",
       "    <tr>\n",
       "      <th>0</th>\n",
       "      <td>315000</td>\n",
       "      <td>249000.000</td>\n",
       "      <td>0.790</td>\n",
       "      <td>Connecticut</td>\n",
       "      <td>9</td>\n",
       "      <td>71755.000</td>\n",
       "    </tr>\n",
       "    <tr>\n",
       "      <th>1</th>\n",
       "      <td>250000</td>\n",
       "      <td>199450.000</td>\n",
       "      <td>0.798</td>\n",
       "      <td>Ansonia</td>\n",
       "      <td>900901220</td>\n",
       "      <td>43386.000</td>\n",
       "    </tr>\n",
       "    <tr>\n",
       "      <th>2</th>\n",
       "      <td>270000</td>\n",
       "      <td>195500.000</td>\n",
       "      <td>0.724</td>\n",
       "      <td>Ashford</td>\n",
       "      <td>901501430</td>\n",
       "      <td>78313.000</td>\n",
       "    </tr>\n",
       "    <tr>\n",
       "      <th>3</th>\n",
       "      <td>505000</td>\n",
       "      <td>362500.000</td>\n",
       "      <td>0.718</td>\n",
       "      <td>Avon</td>\n",
       "      <td>900302060</td>\n",
       "      <td>124608.000</td>\n",
       "    </tr>\n",
       "    <tr>\n",
       "      <th>4</th>\n",
       "      <td>275000</td>\n",
       "      <td>257500.000</td>\n",
       "      <td>0.936</td>\n",
       "      <td>Barkhamsted</td>\n",
       "      <td>900502760</td>\n",
       "      <td>104899.000</td>\n",
       "    </tr>\n",
       "    <tr>\n",
       "      <th>5</th>\n",
       "      <td>277000</td>\n",
       "      <td>260000.000</td>\n",
       "      <td>0.939</td>\n",
       "      <td>Berlin</td>\n",
       "      <td>900304300</td>\n",
       "      <td>93750.000</td>\n",
       "    </tr>\n",
       "    <tr>\n",
       "      <th>6</th>\n",
       "      <td>415000</td>\n",
       "      <td>337500.000</td>\n",
       "      <td>0.813</td>\n",
       "      <td>Bethany</td>\n",
       "      <td>900904580</td>\n",
       "      <td>106058.000</td>\n",
       "    </tr>\n",
       "    <tr>\n",
       "      <th>7</th>\n",
       "      <td>400000</td>\n",
       "      <td>312500.000</td>\n",
       "      <td>0.781</td>\n",
       "      <td>Bethel</td>\n",
       "      <td>900104720</td>\n",
       "      <td>94292.000</td>\n",
       "    </tr>\n",
       "    <tr>\n",
       "      <th>8</th>\n",
       "      <td>375000</td>\n",
       "      <td>268125.000</td>\n",
       "      <td>0.715</td>\n",
       "      <td>Bethlehem</td>\n",
       "      <td>900504930</td>\n",
       "      <td>87056.000</td>\n",
       "    </tr>\n",
       "    <tr>\n",
       "      <th>9</th>\n",
       "      <td>229900</td>\n",
       "      <td>210000.000</td>\n",
       "      <td>0.913</td>\n",
       "      <td>Bloomfield</td>\n",
       "      <td>900305910</td>\n",
       "      <td>74107.000</td>\n",
       "    </tr>\n",
       "    <tr>\n",
       "      <th>10</th>\n",
       "      <td>323750</td>\n",
       "      <td>255000.000</td>\n",
       "      <td>0.788</td>\n",
       "      <td>Bolton</td>\n",
       "      <td>901306260</td>\n",
       "      <td>91087.000</td>\n",
       "    </tr>\n",
       "    <tr>\n",
       "      <th>11</th>\n",
       "      <td>224750</td>\n",
       "      <td>237000.000</td>\n",
       "      <td>1.055</td>\n",
       "      <td>Bozrah</td>\n",
       "      <td>901106820</td>\n",
       "      <td>84698.000</td>\n",
       "    </tr>\n",
       "    <tr>\n",
       "      <th>12</th>\n",
       "      <td>382000</td>\n",
       "      <td>250000.000</td>\n",
       "      <td>0.654</td>\n",
       "      <td>Branford</td>\n",
       "      <td>900907310</td>\n",
       "      <td>71619.000</td>\n",
       "    </tr>\n",
       "    <tr>\n",
       "      <th>13</th>\n",
       "      <td>254750</td>\n",
       "      <td>162000.000</td>\n",
       "      <td>0.636</td>\n",
       "      <td>Bridgeport</td>\n",
       "      <td>900108070</td>\n",
       "      <td>43137.000</td>\n",
       "    </tr>\n",
       "    <tr>\n",
       "      <th>14</th>\n",
       "      <td>580000</td>\n",
       "      <td>310000.000</td>\n",
       "      <td>0.534</td>\n",
       "      <td>Bridgewater</td>\n",
       "      <td>900508210</td>\n",
       "      <td>103393.000</td>\n",
       "    </tr>\n",
       "    <tr>\n",
       "      <th>15</th>\n",
       "      <td>216000</td>\n",
       "      <td>175000.000</td>\n",
       "      <td>0.810</td>\n",
       "      <td>Bristol</td>\n",
       "      <td>900308490</td>\n",
       "      <td>61551.000</td>\n",
       "    </tr>\n",
       "    <tr>\n",
       "      <th>16</th>\n",
       "      <td>255000</td>\n",
       "      <td>220000.000</td>\n",
       "      <td>0.863</td>\n",
       "      <td>Brooklyn</td>\n",
       "      <td>901509190</td>\n",
       "      <td>74375.000</td>\n",
       "    </tr>\n",
       "    <tr>\n",
       "      <th>17</th>\n",
       "      <td>348340</td>\n",
       "      <td>308500.000</td>\n",
       "      <td>0.886</td>\n",
       "      <td>Burlington</td>\n",
       "      <td>900310100</td>\n",
       "      <td>117069.000</td>\n",
       "    </tr>\n",
       "    <tr>\n",
       "      <th>18</th>\n",
       "      <td>435000</td>\n",
       "      <td>204000.000</td>\n",
       "      <td>0.469</td>\n",
       "      <td>Canaan</td>\n",
       "      <td>900510940</td>\n",
       "      <td>72174.000</td>\n",
       "    </tr>\n",
       "    <tr>\n",
       "      <th>19</th>\n",
       "      <td>250000</td>\n",
       "      <td>234250.000</td>\n",
       "      <td>0.937</td>\n",
       "      <td>Canterbury</td>\n",
       "      <td>901512130</td>\n",
       "      <td>81496.000</td>\n",
       "    </tr>\n",
       "    <tr>\n",
       "      <th>20</th>\n",
       "      <td>357500</td>\n",
       "      <td>295000.000</td>\n",
       "      <td>0.825</td>\n",
       "      <td>Canton</td>\n",
       "      <td>900312270</td>\n",
       "      <td>87404.000</td>\n",
       "    </tr>\n",
       "    <tr>\n",
       "      <th>21</th>\n",
       "      <td>230000</td>\n",
       "      <td>206000.000</td>\n",
       "      <td>0.896</td>\n",
       "      <td>Chaplin</td>\n",
       "      <td>901513810</td>\n",
       "      <td>80000.000</td>\n",
       "    </tr>\n",
       "    <tr>\n",
       "      <th>22</th>\n",
       "      <td>350000</td>\n",
       "      <td>290000.000</td>\n",
       "      <td>0.829</td>\n",
       "      <td>Cheshire</td>\n",
       "      <td>900914160</td>\n",
       "      <td>108559.000</td>\n",
       "    </tr>\n",
       "    <tr>\n",
       "      <th>23</th>\n",
       "      <td>357500</td>\n",
       "      <td>301000.000</td>\n",
       "      <td>0.842</td>\n",
       "      <td>Chester</td>\n",
       "      <td>900714300</td>\n",
       "      <td>76648.000</td>\n",
       "    </tr>\n",
       "    <tr>\n",
       "      <th>24</th>\n",
       "      <td>325000</td>\n",
       "      <td>227000.000</td>\n",
       "      <td>0.698</td>\n",
       "      <td>Clinton</td>\n",
       "      <td>900715350</td>\n",
       "      <td>74022.000</td>\n",
       "    </tr>\n",
       "    <tr>\n",
       "      <th>25</th>\n",
       "      <td>306000</td>\n",
       "      <td>196500.000</td>\n",
       "      <td>0.642</td>\n",
       "      <td>Colebrook</td>\n",
       "      <td>900516050</td>\n",
       "      <td>81184.000</td>\n",
       "    </tr>\n",
       "    <tr>\n",
       "      <th>26</th>\n",
       "      <td>240000</td>\n",
       "      <td>223500.000</td>\n",
       "      <td>0.931</td>\n",
       "      <td>Coventry</td>\n",
       "      <td>901317800</td>\n",
       "      <td>88967.000</td>\n",
       "    </tr>\n",
       "    <tr>\n",
       "      <th>27</th>\n",
       "      <td>259950</td>\n",
       "      <td>214000.000</td>\n",
       "      <td>0.823</td>\n",
       "      <td>Cromwell</td>\n",
       "      <td>900718080</td>\n",
       "      <td>83739.000</td>\n",
       "    </tr>\n",
       "    <tr>\n",
       "      <th>28</th>\n",
       "      <td>365000</td>\n",
       "      <td>260000.000</td>\n",
       "      <td>0.712</td>\n",
       "      <td>Danbury</td>\n",
       "      <td>900118500</td>\n",
       "      <td>67430.000</td>\n",
       "    </tr>\n",
       "    <tr>\n",
       "      <th>29</th>\n",
       "      <td>1350000</td>\n",
       "      <td>1282500.000</td>\n",
       "      <td>0.950</td>\n",
       "      <td>Darien</td>\n",
       "      <td>900118850</td>\n",
       "      <td>208125.000</td>\n",
       "    </tr>\n",
       "    <tr>\n",
       "      <th>...</th>\n",
       "      <td>...</td>\n",
       "      <td>...</td>\n",
       "      <td>...</td>\n",
       "      <td>...</td>\n",
       "      <td>...</td>\n",
       "      <td>...</td>\n",
       "    </tr>\n",
       "    <tr>\n",
       "      <th>140</th>\n",
       "      <td>205000</td>\n",
       "      <td>174500.000</td>\n",
       "      <td>0.851</td>\n",
       "      <td>Enfield</td>\n",
       "      <td>900325990</td>\n",
       "      <td>71526.000</td>\n",
       "    </tr>\n",
       "    <tr>\n",
       "      <th>141</th>\n",
       "      <td>625000</td>\n",
       "      <td>561082.500</td>\n",
       "      <td>0.898</td>\n",
       "      <td>Fairfield</td>\n",
       "      <td>900126620</td>\n",
       "      <td>122135.000</td>\n",
       "    </tr>\n",
       "    <tr>\n",
       "      <th>142</th>\n",
       "      <td>2000000</td>\n",
       "      <td>1200000.000</td>\n",
       "      <td>0.600</td>\n",
       "      <td>Greenwich</td>\n",
       "      <td>900133620</td>\n",
       "      <td>134223.000</td>\n",
       "    </tr>\n",
       "    <tr>\n",
       "      <th>143</th>\n",
       "      <td>234250</td>\n",
       "      <td>154900.000</td>\n",
       "      <td>0.661</td>\n",
       "      <td>Griswold</td>\n",
       "      <td>901133900</td>\n",
       "      <td>57312.000</td>\n",
       "    </tr>\n",
       "    <tr>\n",
       "      <th>144</th>\n",
       "      <td>259000</td>\n",
       "      <td>219500.000</td>\n",
       "      <td>0.847</td>\n",
       "      <td>Groton</td>\n",
       "      <td>901134250</td>\n",
       "      <td>64074.000</td>\n",
       "    </tr>\n",
       "    <tr>\n",
       "      <th>145</th>\n",
       "      <td>349000</td>\n",
       "      <td>297500.000</td>\n",
       "      <td>0.852</td>\n",
       "      <td>Haddam</td>\n",
       "      <td>900735230</td>\n",
       "      <td>99258.000</td>\n",
       "    </tr>\n",
       "    <tr>\n",
       "      <th>146</th>\n",
       "      <td>297500</td>\n",
       "      <td>257500.000</td>\n",
       "      <td>0.866</td>\n",
       "      <td>Hebron</td>\n",
       "      <td>901337910</td>\n",
       "      <td>110739.000</td>\n",
       "    </tr>\n",
       "    <tr>\n",
       "      <th>147</th>\n",
       "      <td>396250</td>\n",
       "      <td>335900.000</td>\n",
       "      <td>0.848</td>\n",
       "      <td>Killingworth</td>\n",
       "      <td>900740710</td>\n",
       "      <td>103295.000</td>\n",
       "    </tr>\n",
       "    <tr>\n",
       "      <th>148</th>\n",
       "      <td>275000</td>\n",
       "      <td>210000.000</td>\n",
       "      <td>0.764</td>\n",
       "      <td>Ledyard</td>\n",
       "      <td>901142600</td>\n",
       "      <td>84821.000</td>\n",
       "    </tr>\n",
       "    <tr>\n",
       "      <th>149</th>\n",
       "      <td>277500</td>\n",
       "      <td>207450.000</td>\n",
       "      <td>0.748</td>\n",
       "      <td>Lisbon</td>\n",
       "      <td>901143230</td>\n",
       "      <td>86833.000</td>\n",
       "    </tr>\n",
       "    <tr>\n",
       "      <th>150</th>\n",
       "      <td>315000</td>\n",
       "      <td>260000.000</td>\n",
       "      <td>0.825</td>\n",
       "      <td>Marlborough</td>\n",
       "      <td>900345820</td>\n",
       "      <td>103276.000</td>\n",
       "    </tr>\n",
       "    <tr>\n",
       "      <th>151</th>\n",
       "      <td>212500</td>\n",
       "      <td>160000.000</td>\n",
       "      <td>0.753</td>\n",
       "      <td>Meriden</td>\n",
       "      <td>900946520</td>\n",
       "      <td>55547.000</td>\n",
       "    </tr>\n",
       "    <tr>\n",
       "      <th>152</th>\n",
       "      <td>364700</td>\n",
       "      <td>305000.000</td>\n",
       "      <td>0.836</td>\n",
       "      <td>Middlebury</td>\n",
       "      <td>900946940</td>\n",
       "      <td>103235.000</td>\n",
       "    </tr>\n",
       "    <tr>\n",
       "      <th>153</th>\n",
       "      <td>359500</td>\n",
       "      <td>266000.000</td>\n",
       "      <td>0.740</td>\n",
       "      <td>Middlefield</td>\n",
       "      <td>900747080</td>\n",
       "      <td>103262.000</td>\n",
       "    </tr>\n",
       "    <tr>\n",
       "      <th>154</th>\n",
       "      <td>253500</td>\n",
       "      <td>187000.000</td>\n",
       "      <td>0.738</td>\n",
       "      <td>Montville</td>\n",
       "      <td>901148900</td>\n",
       "      <td>73160.000</td>\n",
       "    </tr>\n",
       "    <tr>\n",
       "      <th>155</th>\n",
       "      <td>1787500</td>\n",
       "      <td>1320000.000</td>\n",
       "      <td>0.738</td>\n",
       "      <td>New Canaan</td>\n",
       "      <td>900150580</td>\n",
       "      <td>176601.000</td>\n",
       "    </tr>\n",
       "    <tr>\n",
       "      <th>156</th>\n",
       "      <td>371500</td>\n",
       "      <td>282500.000</td>\n",
       "      <td>0.760</td>\n",
       "      <td>New Milford</td>\n",
       "      <td>900552630</td>\n",
       "      <td>81350.000</td>\n",
       "    </tr>\n",
       "    <tr>\n",
       "      <th>157</th>\n",
       "      <td>314000</td>\n",
       "      <td>264000.000</td>\n",
       "      <td>0.841</td>\n",
       "      <td>North Branford</td>\n",
       "      <td>900953890</td>\n",
       "      <td>85357.000</td>\n",
       "    </tr>\n",
       "    <tr>\n",
       "      <th>158</th>\n",
       "      <td>202500</td>\n",
       "      <td>166000.000</td>\n",
       "      <td>0.820</td>\n",
       "      <td>Plymouth</td>\n",
       "      <td>900560750</td>\n",
       "      <td>70635.000</td>\n",
       "    </tr>\n",
       "    <tr>\n",
       "      <th>159</th>\n",
       "      <td>260000</td>\n",
       "      <td>229500.000</td>\n",
       "      <td>0.883</td>\n",
       "      <td>Portland</td>\n",
       "      <td>900761800</td>\n",
       "      <td>81589.000</td>\n",
       "    </tr>\n",
       "    <tr>\n",
       "      <th>160</th>\n",
       "      <td>422000</td>\n",
       "      <td>269000.000</td>\n",
       "      <td>0.637</td>\n",
       "      <td>Salem</td>\n",
       "      <td>901166210</td>\n",
       "      <td>104732.000</td>\n",
       "    </tr>\n",
       "    <tr>\n",
       "      <th>161</th>\n",
       "      <td>310000</td>\n",
       "      <td>204500.000</td>\n",
       "      <td>0.660</td>\n",
       "      <td>Seymour</td>\n",
       "      <td>900967610</td>\n",
       "      <td>79734.000</td>\n",
       "    </tr>\n",
       "    <tr>\n",
       "      <th>162</th>\n",
       "      <td>375000</td>\n",
       "      <td>309500.000</td>\n",
       "      <td>0.825</td>\n",
       "      <td>Shelton</td>\n",
       "      <td>900168170</td>\n",
       "      <td>87277.000</td>\n",
       "    </tr>\n",
       "    <tr>\n",
       "      <th>163</th>\n",
       "      <td>285000</td>\n",
       "      <td>247263.000</td>\n",
       "      <td>0.868</td>\n",
       "      <td>Southington</td>\n",
       "      <td>900370550</td>\n",
       "      <td>88214.000</td>\n",
       "    </tr>\n",
       "    <tr>\n",
       "      <th>164</th>\n",
       "      <td>268000</td>\n",
       "      <td>215000.000</td>\n",
       "      <td>0.802</td>\n",
       "      <td>Voluntown</td>\n",
       "      <td>901178600</td>\n",
       "      <td>81023.000</td>\n",
       "    </tr>\n",
       "    <tr>\n",
       "      <th>165</th>\n",
       "      <td>275250</td>\n",
       "      <td>249000.000</td>\n",
       "      <td>0.905</td>\n",
       "      <td>Wallingford</td>\n",
       "      <td>900978740</td>\n",
       "      <td>75942.000</td>\n",
       "    </tr>\n",
       "    <tr>\n",
       "      <th>166</th>\n",
       "      <td>360500</td>\n",
       "      <td>285000.000</td>\n",
       "      <td>0.791</td>\n",
       "      <td>Westbrook</td>\n",
       "      <td>900781680</td>\n",
       "      <td>92721.000</td>\n",
       "    </tr>\n",
       "    <tr>\n",
       "      <th>167</th>\n",
       "      <td>180000</td>\n",
       "      <td>135000.000</td>\n",
       "      <td>0.750</td>\n",
       "      <td>Windham</td>\n",
       "      <td>901586790</td>\n",
       "      <td>40603.000</td>\n",
       "    </tr>\n",
       "    <tr>\n",
       "      <th>168</th>\n",
       "      <td>290000</td>\n",
       "      <td>246000.000</td>\n",
       "      <td>0.848</td>\n",
       "      <td>Wolcott</td>\n",
       "      <td>900987560</td>\n",
       "      <td>83828.000</td>\n",
       "    </tr>\n",
       "    <tr>\n",
       "      <th>169</th>\n",
       "      <td>166000</td>\n",
       "      <td>116000.000</td>\n",
       "      <td>0.699</td>\n",
       "      <td>Waterbury</td>\n",
       "      <td>900980070</td>\n",
       "      <td>39681.000</td>\n",
       "    </tr>\n",
       "  </tbody>\n",
       "</table>\n",
       "<p>170 rows × 6 columns</p>\n",
       "</div>"
      ],
      "text/plain": [
       "     PeakMedianSaleAmount  RecentMedianSaleAmount  RecoveryRatio  \\\n",
       "0                  315000              249000.000          0.790   \n",
       "1                  250000              199450.000          0.798   \n",
       "2                  270000              195500.000          0.724   \n",
       "3                  505000              362500.000          0.718   \n",
       "4                  275000              257500.000          0.936   \n",
       "5                  277000              260000.000          0.939   \n",
       "6                  415000              337500.000          0.813   \n",
       "7                  400000              312500.000          0.781   \n",
       "8                  375000              268125.000          0.715   \n",
       "9                  229900              210000.000          0.913   \n",
       "10                 323750              255000.000          0.788   \n",
       "11                 224750              237000.000          1.055   \n",
       "12                 382000              250000.000          0.654   \n",
       "13                 254750              162000.000          0.636   \n",
       "14                 580000              310000.000          0.534   \n",
       "15                 216000              175000.000          0.810   \n",
       "16                 255000              220000.000          0.863   \n",
       "17                 348340              308500.000          0.886   \n",
       "18                 435000              204000.000          0.469   \n",
       "19                 250000              234250.000          0.937   \n",
       "20                 357500              295000.000          0.825   \n",
       "21                 230000              206000.000          0.896   \n",
       "22                 350000              290000.000          0.829   \n",
       "23                 357500              301000.000          0.842   \n",
       "24                 325000              227000.000          0.698   \n",
       "25                 306000              196500.000          0.642   \n",
       "26                 240000              223500.000          0.931   \n",
       "27                 259950              214000.000          0.823   \n",
       "28                 365000              260000.000          0.712   \n",
       "29                1350000             1282500.000          0.950   \n",
       "..                    ...                     ...            ...   \n",
       "140                205000              174500.000          0.851   \n",
       "141                625000              561082.500          0.898   \n",
       "142               2000000             1200000.000          0.600   \n",
       "143                234250              154900.000          0.661   \n",
       "144                259000              219500.000          0.847   \n",
       "145                349000              297500.000          0.852   \n",
       "146                297500              257500.000          0.866   \n",
       "147                396250              335900.000          0.848   \n",
       "148                275000              210000.000          0.764   \n",
       "149                277500              207450.000          0.748   \n",
       "150                315000              260000.000          0.825   \n",
       "151                212500              160000.000          0.753   \n",
       "152                364700              305000.000          0.836   \n",
       "153                359500              266000.000          0.740   \n",
       "154                253500              187000.000          0.738   \n",
       "155               1787500             1320000.000          0.738   \n",
       "156                371500              282500.000          0.760   \n",
       "157                314000              264000.000          0.841   \n",
       "158                202500              166000.000          0.820   \n",
       "159                260000              229500.000          0.883   \n",
       "160                422000              269000.000          0.637   \n",
       "161                310000              204500.000          0.660   \n",
       "162                375000              309500.000          0.825   \n",
       "163                285000              247263.000          0.868   \n",
       "164                268000              215000.000          0.802   \n",
       "165                275250              249000.000          0.905   \n",
       "166                360500              285000.000          0.791   \n",
       "167                180000              135000.000          0.750   \n",
       "168                290000              246000.000          0.848   \n",
       "169                166000              116000.000          0.699   \n",
       "\n",
       "               Town       FIPS  MedianHouseholdIncome  \n",
       "0       Connecticut          9              71755.000  \n",
       "1           Ansonia  900901220              43386.000  \n",
       "2           Ashford  901501430              78313.000  \n",
       "3              Avon  900302060             124608.000  \n",
       "4       Barkhamsted  900502760             104899.000  \n",
       "5            Berlin  900304300              93750.000  \n",
       "6           Bethany  900904580             106058.000  \n",
       "7            Bethel  900104720              94292.000  \n",
       "8         Bethlehem  900504930              87056.000  \n",
       "9        Bloomfield  900305910              74107.000  \n",
       "10           Bolton  901306260              91087.000  \n",
       "11           Bozrah  901106820              84698.000  \n",
       "12         Branford  900907310              71619.000  \n",
       "13       Bridgeport  900108070              43137.000  \n",
       "14      Bridgewater  900508210             103393.000  \n",
       "15          Bristol  900308490              61551.000  \n",
       "16         Brooklyn  901509190              74375.000  \n",
       "17       Burlington  900310100             117069.000  \n",
       "18           Canaan  900510940              72174.000  \n",
       "19       Canterbury  901512130              81496.000  \n",
       "20           Canton  900312270              87404.000  \n",
       "21          Chaplin  901513810              80000.000  \n",
       "22         Cheshire  900914160             108559.000  \n",
       "23          Chester  900714300              76648.000  \n",
       "24          Clinton  900715350              74022.000  \n",
       "25        Colebrook  900516050              81184.000  \n",
       "26         Coventry  901317800              88967.000  \n",
       "27         Cromwell  900718080              83739.000  \n",
       "28          Danbury  900118500              67430.000  \n",
       "29           Darien  900118850             208125.000  \n",
       "..              ...        ...                    ...  \n",
       "140         Enfield  900325990              71526.000  \n",
       "141       Fairfield  900126620             122135.000  \n",
       "142       Greenwich  900133620             134223.000  \n",
       "143        Griswold  901133900              57312.000  \n",
       "144          Groton  901134250              64074.000  \n",
       "145          Haddam  900735230              99258.000  \n",
       "146          Hebron  901337910             110739.000  \n",
       "147    Killingworth  900740710             103295.000  \n",
       "148         Ledyard  901142600              84821.000  \n",
       "149          Lisbon  901143230              86833.000  \n",
       "150     Marlborough  900345820             103276.000  \n",
       "151         Meriden  900946520              55547.000  \n",
       "152      Middlebury  900946940             103235.000  \n",
       "153     Middlefield  900747080             103262.000  \n",
       "154       Montville  901148900              73160.000  \n",
       "155      New Canaan  900150580             176601.000  \n",
       "156     New Milford  900552630              81350.000  \n",
       "157  North Branford  900953890              85357.000  \n",
       "158        Plymouth  900560750              70635.000  \n",
       "159        Portland  900761800              81589.000  \n",
       "160           Salem  901166210             104732.000  \n",
       "161         Seymour  900967610              79734.000  \n",
       "162         Shelton  900168170              87277.000  \n",
       "163     Southington  900370550              88214.000  \n",
       "164       Voluntown  901178600              81023.000  \n",
       "165     Wallingford  900978740              75942.000  \n",
       "166       Westbrook  900781680              92721.000  \n",
       "167         Windham  901586790              40603.000  \n",
       "168         Wolcott  900987560              83828.000  \n",
       "169       Waterbury  900980070              39681.000  \n",
       "\n",
       "[170 rows x 6 columns]"
      ]
     },
     "execution_count": 118,
     "metadata": {},
     "output_type": "execute_result"
    }
   ],
   "source": [
    "town_df['Town'] = town_df.index\n",
    "town_df = pd.merge(left=town_df, right=town_income_df, on='Town')"
   ]
  },
  {
   "cell_type": "code",
   "execution_count": 120,
   "metadata": {},
   "outputs": [
    {
     "data": {
      "text/html": [
       "<div>\n",
       "<style scoped>\n",
       "    .dataframe tbody tr th:only-of-type {\n",
       "        vertical-align: middle;\n",
       "    }\n",
       "\n",
       "    .dataframe tbody tr th {\n",
       "        vertical-align: top;\n",
       "    }\n",
       "\n",
       "    .dataframe thead th {\n",
       "        text-align: right;\n",
       "    }\n",
       "</style>\n",
       "<table border=\"1\" class=\"dataframe\">\n",
       "  <thead>\n",
       "    <tr style=\"text-align: right;\">\n",
       "      <th></th>\n",
       "      <th>PeakMedianSaleAmount</th>\n",
       "      <th>RecentMedianSaleAmount</th>\n",
       "      <th>RecoveryRatio</th>\n",
       "      <th>Town</th>\n",
       "      <th>FIPS</th>\n",
       "      <th>MedianHouseholdIncome</th>\n",
       "    </tr>\n",
       "  </thead>\n",
       "  <tbody>\n",
       "    <tr>\n",
       "      <th>49</th>\n",
       "      <td>167000</td>\n",
       "      <td>155000.000</td>\n",
       "      <td>0.928</td>\n",
       "      <td>Hartford</td>\n",
       "      <td>900337070</td>\n",
       "      <td>32095.000</td>\n",
       "    </tr>\n",
       "    <tr>\n",
       "      <th>69</th>\n",
       "      <td>229900</td>\n",
       "      <td>150650.000</td>\n",
       "      <td>0.655</td>\n",
       "      <td>New London</td>\n",
       "      <td>901152350</td>\n",
       "      <td>35357.000</td>\n",
       "    </tr>\n",
       "    <tr>\n",
       "      <th>68</th>\n",
       "      <td>230000</td>\n",
       "      <td>210000.000</td>\n",
       "      <td>0.913</td>\n",
       "      <td>New Haven</td>\n",
       "      <td>900952070</td>\n",
       "      <td>38126.000</td>\n",
       "    </tr>\n",
       "    <tr>\n",
       "      <th>169</th>\n",
       "      <td>166000</td>\n",
       "      <td>116000.000</td>\n",
       "      <td>0.699</td>\n",
       "      <td>Waterbury</td>\n",
       "      <td>900980070</td>\n",
       "      <td>39681.000</td>\n",
       "    </tr>\n",
       "    <tr>\n",
       "      <th>167</th>\n",
       "      <td>180000</td>\n",
       "      <td>135000.000</td>\n",
       "      <td>0.750</td>\n",
       "      <td>Windham</td>\n",
       "      <td>901586790</td>\n",
       "      <td>40603.000</td>\n",
       "    </tr>\n",
       "    <tr>\n",
       "      <th>65</th>\n",
       "      <td>175000</td>\n",
       "      <td>145000.000</td>\n",
       "      <td>0.829</td>\n",
       "      <td>New Britain</td>\n",
       "      <td>900350440</td>\n",
       "      <td>41844.000</td>\n",
       "    </tr>\n",
       "    <tr>\n",
       "      <th>13</th>\n",
       "      <td>254750</td>\n",
       "      <td>162000.000</td>\n",
       "      <td>0.636</td>\n",
       "      <td>Bridgeport</td>\n",
       "      <td>900108070</td>\n",
       "      <td>43137.000</td>\n",
       "    </tr>\n",
       "    <tr>\n",
       "      <th>1</th>\n",
       "      <td>250000</td>\n",
       "      <td>199450.000</td>\n",
       "      <td>0.798</td>\n",
       "      <td>Ansonia</td>\n",
       "      <td>900901220</td>\n",
       "      <td>43386.000</td>\n",
       "    </tr>\n",
       "    <tr>\n",
       "      <th>138</th>\n",
       "      <td>185700</td>\n",
       "      <td>162450.000</td>\n",
       "      <td>0.875</td>\n",
       "      <td>East Hartford</td>\n",
       "      <td>900322630</td>\n",
       "      <td>50750.000</td>\n",
       "    </tr>\n",
       "    <tr>\n",
       "      <th>119</th>\n",
       "      <td>234000</td>\n",
       "      <td>180000.000</td>\n",
       "      <td>0.769</td>\n",
       "      <td>West Haven</td>\n",
       "      <td>900982870</td>\n",
       "      <td>50831.000</td>\n",
       "    </tr>\n",
       "    <tr>\n",
       "      <th>77</th>\n",
       "      <td>209900</td>\n",
       "      <td>140000.000</td>\n",
       "      <td>0.667</td>\n",
       "      <td>Norwich</td>\n",
       "      <td>901156270</td>\n",
       "      <td>51758.000</td>\n",
       "    </tr>\n",
       "    <tr>\n",
       "      <th>87</th>\n",
       "      <td>214000</td>\n",
       "      <td>153500.000</td>\n",
       "      <td>0.717</td>\n",
       "      <td>Putnam</td>\n",
       "      <td>901562710</td>\n",
       "      <td>52224.000</td>\n",
       "    </tr>\n",
       "    <tr>\n",
       "      <th>30</th>\n",
       "      <td>268001</td>\n",
       "      <td>155000.000</td>\n",
       "      <td>0.578</td>\n",
       "      <td>Derby</td>\n",
       "      <td>900919550</td>\n",
       "      <td>55316.000</td>\n",
       "    </tr>\n",
       "    <tr>\n",
       "      <th>151</th>\n",
       "      <td>212500</td>\n",
       "      <td>160000.000</td>\n",
       "      <td>0.753</td>\n",
       "      <td>Meriden</td>\n",
       "      <td>900946520</td>\n",
       "      <td>55547.000</td>\n",
       "    </tr>\n",
       "    <tr>\n",
       "      <th>143</th>\n",
       "      <td>234250</td>\n",
       "      <td>154900.000</td>\n",
       "      <td>0.661</td>\n",
       "      <td>Griswold</td>\n",
       "      <td>901133900</td>\n",
       "      <td>57312.000</td>\n",
       "    </tr>\n",
       "    <tr>\n",
       "      <th>125</th>\n",
       "      <td>200000</td>\n",
       "      <td>159450.000</td>\n",
       "      <td>0.797</td>\n",
       "      <td>Winchester</td>\n",
       "      <td>900586440</td>\n",
       "      <td>57429.000</td>\n",
       "    </tr>\n",
       "    <tr>\n",
       "      <th>110</th>\n",
       "      <td>191000</td>\n",
       "      <td>132250.000</td>\n",
       "      <td>0.692</td>\n",
       "      <td>Torrington</td>\n",
       "      <td>900576570</td>\n",
       "      <td>58717.000</td>\n",
       "    </tr>\n",
       "    <tr>\n",
       "      <th>64</th>\n",
       "      <td>235000</td>\n",
       "      <td>165000.000</td>\n",
       "      <td>0.702</td>\n",
       "      <td>Naugatuck</td>\n",
       "      <td>900949950</td>\n",
       "      <td>59522.000</td>\n",
       "    </tr>\n",
       "    <tr>\n",
       "      <th>53</th>\n",
       "      <td>217500</td>\n",
       "      <td>160000.000</td>\n",
       "      <td>0.736</td>\n",
       "      <td>Killingly</td>\n",
       "      <td>901540500</td>\n",
       "      <td>60548.000</td>\n",
       "    </tr>\n",
       "    <tr>\n",
       "      <th>113</th>\n",
       "      <td>230000</td>\n",
       "      <td>178700.000</td>\n",
       "      <td>0.777</td>\n",
       "      <td>Vernon</td>\n",
       "      <td>901378250</td>\n",
       "      <td>61099.000</td>\n",
       "    </tr>\n",
       "  </tbody>\n",
       "</table>\n",
       "</div>"
      ],
      "text/plain": [
       "     PeakMedianSaleAmount  RecentMedianSaleAmount  RecoveryRatio  \\\n",
       "49                 167000              155000.000          0.928   \n",
       "69                 229900              150650.000          0.655   \n",
       "68                 230000              210000.000          0.913   \n",
       "169                166000              116000.000          0.699   \n",
       "167                180000              135000.000          0.750   \n",
       "65                 175000              145000.000          0.829   \n",
       "13                 254750              162000.000          0.636   \n",
       "1                  250000              199450.000          0.798   \n",
       "138                185700              162450.000          0.875   \n",
       "119                234000              180000.000          0.769   \n",
       "77                 209900              140000.000          0.667   \n",
       "87                 214000              153500.000          0.717   \n",
       "30                 268001              155000.000          0.578   \n",
       "151                212500              160000.000          0.753   \n",
       "143                234250              154900.000          0.661   \n",
       "125                200000              159450.000          0.797   \n",
       "110                191000              132250.000          0.692   \n",
       "64                 235000              165000.000          0.702   \n",
       "53                 217500              160000.000          0.736   \n",
       "113                230000              178700.000          0.777   \n",
       "\n",
       "              Town       FIPS  MedianHouseholdIncome  \n",
       "49        Hartford  900337070              32095.000  \n",
       "69      New London  901152350              35357.000  \n",
       "68       New Haven  900952070              38126.000  \n",
       "169      Waterbury  900980070              39681.000  \n",
       "167        Windham  901586790              40603.000  \n",
       "65     New Britain  900350440              41844.000  \n",
       "13      Bridgeport  900108070              43137.000  \n",
       "1          Ansonia  900901220              43386.000  \n",
       "138  East Hartford  900322630              50750.000  \n",
       "119     West Haven  900982870              50831.000  \n",
       "77         Norwich  901156270              51758.000  \n",
       "87          Putnam  901562710              52224.000  \n",
       "30           Derby  900919550              55316.000  \n",
       "151        Meriden  900946520              55547.000  \n",
       "143       Griswold  901133900              57312.000  \n",
       "125     Winchester  900586440              57429.000  \n",
       "110     Torrington  900576570              58717.000  \n",
       "64       Naugatuck  900949950              59522.000  \n",
       "53       Killingly  901540500              60548.000  \n",
       "113         Vernon  901378250              61099.000  "
      ]
     },
     "execution_count": 120,
     "metadata": {},
     "output_type": "execute_result"
    }
   ],
   "source": [
    "town_df.sort_values('MedianHouseholdIncome').head(20)"
   ]
  },
  {
   "cell_type": "code",
   "execution_count": 125,
   "metadata": {},
   "outputs": [
    {
     "data": {
      "text/plain": [
       "<matplotlib.collections.PathCollection at 0x1cc619c0748>"
      ]
     },
     "execution_count": 125,
     "metadata": {},
     "output_type": "execute_result"
    },
    {
     "data": {
      "image/png": "[encoded data removed]",
      "text/plain": [
       "<Figure size 432x288 with 1 Axes>"
      ]
     },
     "metadata": {},
     "output_type": "display_data"
    }
   ],
   "source": [
    "import matplotlib.pyplot as plt\n",
    "plt.scatter(town_df['MedianHouseholdIncome'], town_df['RecoveryRatio'])"
   ]
  },
  {
   "cell_type": "code",
   "execution_count": 126,
   "metadata": {},
   "outputs": [
    {
     "data": {
      "text/html": [
       "<div>\n",
       "<style scoped>\n",
       "    .dataframe tbody tr th:only-of-type {\n",
       "        vertical-align: middle;\n",
       "    }\n",
       "\n",
       "    .dataframe tbody tr th {\n",
       "        vertical-align: top;\n",
       "    }\n",
       "\n",
       "    .dataframe thead th {\n",
       "        text-align: right;\n",
       "    }\n",
       "</style>\n",
       "<table border=\"1\" class=\"dataframe\">\n",
       "  <thead>\n",
       "    <tr style=\"text-align: right;\">\n",
       "      <th></th>\n",
       "      <th>PeakMedianSaleAmount</th>\n",
       "      <th>RecentMedianSaleAmount</th>\n",
       "      <th>RecoveryRatio</th>\n",
       "      <th>Town</th>\n",
       "      <th>FIPS</th>\n",
       "      <th>MedianHouseholdIncome</th>\n",
       "      <th>Population</th>\n",
       "    </tr>\n",
       "  </thead>\n",
       "  <tbody>\n",
       "    <tr>\n",
       "      <th>0</th>\n",
       "      <td>250000</td>\n",
       "      <td>199450.000</td>\n",
       "      <td>0.798</td>\n",
       "      <td>Ansonia</td>\n",
       "      <td>900901220</td>\n",
       "      <td>43386.000</td>\n",
       "      <td>18732.000</td>\n",
       "    </tr>\n",
       "    <tr>\n",
       "      <th>1</th>\n",
       "      <td>270000</td>\n",
       "      <td>195500.000</td>\n",
       "      <td>0.724</td>\n",
       "      <td>Ashford</td>\n",
       "      <td>901501430</td>\n",
       "      <td>78313.000</td>\n",
       "      <td>4236.000</td>\n",
       "    </tr>\n",
       "    <tr>\n",
       "      <th>2</th>\n",
       "      <td>505000</td>\n",
       "      <td>362500.000</td>\n",
       "      <td>0.718</td>\n",
       "      <td>Avon</td>\n",
       "      <td>900302060</td>\n",
       "      <td>124608.000</td>\n",
       "      <td>18364.000</td>\n",
       "    </tr>\n",
       "    <tr>\n",
       "      <th>3</th>\n",
       "      <td>275000</td>\n",
       "      <td>257500.000</td>\n",
       "      <td>0.936</td>\n",
       "      <td>Barkhamsted</td>\n",
       "      <td>900502760</td>\n",
       "      <td>104899.000</td>\n",
       "      <td>3664.000</td>\n",
       "    </tr>\n",
       "    <tr>\n",
       "      <th>4</th>\n",
       "      <td>277000</td>\n",
       "      <td>260000.000</td>\n",
       "      <td>0.939</td>\n",
       "      <td>Berlin</td>\n",
       "      <td>900304300</td>\n",
       "      <td>93750.000</td>\n",
       "      <td>20499.000</td>\n",
       "    </tr>\n",
       "  </tbody>\n",
       "</table>\n",
       "</div>"
      ],
      "text/plain": [
       "   PeakMedianSaleAmount  RecentMedianSaleAmount  RecoveryRatio         Town  \\\n",
       "0                250000              199450.000          0.798      Ansonia   \n",
       "1                270000              195500.000          0.724      Ashford   \n",
       "2                505000              362500.000          0.718         Avon   \n",
       "3                275000              257500.000          0.936  Barkhamsted   \n",
       "4                277000              260000.000          0.939       Berlin   \n",
       "\n",
       "        FIPS  MedianHouseholdIncome  Population  \n",
       "0  900901220              43386.000   18732.000  \n",
       "1  901501430              78313.000    4236.000  \n",
       "2  900302060             124608.000   18364.000  \n",
       "3  900502760             104899.000    3664.000  \n",
       "4  900304300              93750.000   20499.000  "
      ]
     },
     "execution_count": 126,
     "metadata": {},
     "output_type": "execute_result"
    }
   ],
   "source": [
    "town_df = pd.merge(left=town_df, right=town_pop_df, on='Town')\n",
    "town_df.head()"
   ]
  },
  {
   "cell_type": "code",
   "execution_count": 127,
   "metadata": {},
   "outputs": [
    {
     "data": {
      "text/plain": [
       "<matplotlib.collections.PathCollection at 0x1cc61a25208>"
      ]
     },
     "execution_count": 127,
     "metadata": {},
     "output_type": "execute_result"
    },
    {
     "data": {
      "image/png": "[encoded data removed]",
      "text/plain": [
       "<Figure size 432x288 with 1 Axes>"
      ]
     },
     "metadata": {},
     "output_type": "display_data"
    }
   ],
   "source": [
    "plt.scatter(town_df['Population'], town_df['RecoveryRatio'])"
   ]
  },
  {
   "cell_type": "markdown",
   "metadata": {},
   "source": [
    "It would appear there isn't really a correlation between a town's median household income and its real estate recovery OR its population and real estate recovery. Kind of figures."
   ]
  },
  {
   "cell_type": "code",
   "execution_count": null,
   "metadata": {},
   "outputs": [],
   "source": []
  }
 ],
 "metadata": {
  "kernelspec": {
   "display_name": "Python 3",
   "language": "python",
   "name": "python3"
  },
  "language_info": {
   "codemirror_mode": {
    "name": "ipython",
    "version": 3
   },
   "file_extension": ".py",
   "mimetype": "text/x-python",
   "name": "python",
   "nbconvert_exporter": "python",
   "pygments_lexer": "ipython3",
   "version": "3.6.5"
  }
 },
 "nbformat": 4,
 "nbformat_minor": 2
}
