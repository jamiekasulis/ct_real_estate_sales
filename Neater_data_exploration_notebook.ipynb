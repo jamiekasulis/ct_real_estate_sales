{
 "cells": [
  {
   "cell_type": "markdown",
   "metadata": {},
   "source": [
    "This is a cleaned-up version of my data exploration notebook. Things were starting to get cluttered in the other one."
   ]
  },
  {
   "cell_type": "markdown",
   "metadata": {},
   "source": [
    "### Potential Inquiries\n",
    "* See where properties with multiple transactions gained and lost value --> (How many houses, how much value, by town, over different periods of time)\n",
    "* Foreclosures-- where and when have there been a lot?\n",
    "* Building of new developments? (Might be shown by selling many houses in a short period of time on a new road)\n",
    "* Signs of house flipping, i.e. a purchase and a sale for significantly more within a short period\n",
    "* Has recovery been different for different segments of the market (different price-range houses)?\n",
    "* Are there observable effects of the crumbling fundations in the northeastern part of CT?"
   ]
  },
  {
   "cell_type": "markdown",
   "metadata": {},
   "source": [
    "### Calculations\n",
    "* Adjust sales prices for inflation/season -- there is a Python package for seasonal adjustment\n",
    "* Take a close look at the assessment column\n",
    "* Each town's assessment rate, or look at a hosue's sale ratio relative to its town only\n",
    "* Distribution of house prices in given towns, or on given streets\n",
    "* Town-by-town medians, ranges"
   ]
  },
  {
   "cell_type": "code",
   "execution_count": 317,
   "metadata": {},
   "outputs": [],
   "source": [
    "import pandas as pd\n",
    "import matplotlib\n",
    "%matplotlib inline\n",
    "pd.set_option('display.float_format', lambda x: '%.3f' % x)"
   ]
  },
  {
   "cell_type": "markdown",
   "metadata": {},
   "source": [
    "#### Update MAX_YEAR when new data comes out."
   ]
  },
  {
   "cell_type": "code",
   "execution_count": 318,
   "metadata": {},
   "outputs": [],
   "source": [
    "MIN_YEAR = 2001\n",
    "MAX_YEAR = 2016 # update this when new data comes out"
   ]
  },
  {
   "cell_type": "markdown",
   "metadata": {},
   "source": [
    "#### Load in the clean data"
   ]
  },
  {
   "cell_type": "code",
   "execution_count": 319,
   "metadata": {},
   "outputs": [],
   "source": [
    "def pull_out_recorded_year_and_month(df):\n",
    "    \"\"\"\n",
    "    Returns a copy of df with columns Month and Year, which are extracted from DateRecorded.\n",
    "    \"\"\"\n",
    "    new_df = df.copy()\n",
    "    new_df['Year'] = new_df['DateRecorded'].str[6:10]\n",
    "    new_df['Month'] = new_df['DateRecorded'].str[0:2]\n",
    "    \n",
    "    #new_df['Year'] = new_df['Year'].astype(int)\n",
    "    \n",
    "    return new_df"
   ]
  },
  {
   "cell_type": "code",
   "execution_count": 320,
   "metadata": {},
   "outputs": [],
   "source": [
    "def combine_data_into_master_df():\n",
    "    \"\"\"\n",
    "    Returns a DataFrame which combines all of the clean CSVs for each year.\n",
    "    \"\"\"\n",
    "    # Combine the year-by-year clean csvs, which are located at 'data/clean_data_20xx_listings.csv'\n",
    "    df = pd.read_csv('data/clean_data_' + str(MIN_YEAR) + '_listings.csv')\n",
    "    for year in range(MIN_YEAR+1, MAX_YEAR+1):\n",
    "        df = df.append(pd.read_csv('data/clean_data_' + str(year) + '_listings.csv'))\n",
    "\n",
    "    # Now remove the index column\n",
    "    #df = df.drop('Unnamed: 0', 1)\n",
    "    return pull_out_recorded_year_and_month(df) # Pull out month, year of DateRecorded and return"
   ]
  },
  {
   "cell_type": "code",
   "execution_count": 377,
   "metadata": {},
   "outputs": [],
   "source": [
    "def split_up_daterecorded(df):\n",
    "    \"\"\"\n",
    "    Returns a copy of df with additional columns, 'Year', 'Month', and 'YearMonth' which are extracted from\n",
    "    DateRecorded. We will use these columns to distinguish between ListYear (the year in which a propety was LISTED)\n",
    "    and DateRecorded (the date and time when a sale occurred.\n",
    "    \"\"\"\n",
    "    new_df = df.copy()\n",
    "    \n",
    "    # Split up DateRecorded\n",
    "    new_df['Year'] = new_df['DateRecorded'].str[6:10]\n",
    "    new_df['Month'] = new_df['DateRecorded'].str[0:2]\n",
    "    new_df['YearMonth'] = new_df['Year'] + '-' + new_df['Month']\n",
    "    \n",
    "    return new_df"
   ]
  },
  {
   "cell_type": "code",
   "execution_count": 378,
   "metadata": {},
   "outputs": [],
   "source": [
    "df = split_up_daterecorded(combine_data_into_master_df())"
   ]
  },
  {
   "cell_type": "code",
   "execution_count": 379,
   "metadata": {},
   "outputs": [
    {
     "data": {
      "text/html": [
       "<div>\n",
       "<style scoped>\n",
       "    .dataframe tbody tr th:only-of-type {\n",
       "        vertical-align: middle;\n",
       "    }\n",
       "\n",
       "    .dataframe tbody tr th {\n",
       "        vertical-align: top;\n",
       "    }\n",
       "\n",
       "    .dataframe thead th {\n",
       "        text-align: right;\n",
       "    }\n",
       "</style>\n",
       "<table border=\"1\" class=\"dataframe\">\n",
       "  <thead>\n",
       "    <tr style=\"text-align: right;\">\n",
       "      <th></th>\n",
       "      <th>ID</th>\n",
       "      <th>SerialNumber</th>\n",
       "      <th>ListYear</th>\n",
       "      <th>DateRecorded</th>\n",
       "      <th>Town</th>\n",
       "      <th>Address</th>\n",
       "      <th>AssessedValue</th>\n",
       "      <th>SaleAmount</th>\n",
       "      <th>SalesRatio</th>\n",
       "      <th>PropertyType</th>\n",
       "      <th>ResidentialType</th>\n",
       "      <th>NonUseCode</th>\n",
       "      <th>Remarks</th>\n",
       "      <th>Year</th>\n",
       "      <th>Month</th>\n",
       "      <th>YearMonth</th>\n",
       "    </tr>\n",
       "  </thead>\n",
       "  <tbody>\n",
       "    <tr>\n",
       "      <th>0</th>\n",
       "      <td>684</td>\n",
       "      <td>10173</td>\n",
       "      <td>2001</td>\n",
       "      <td>04/17/2002 12:00:00 AM</td>\n",
       "      <td>Ansonia</td>\n",
       "      <td>1-3 EAGLE STREET</td>\n",
       "      <td>63630</td>\n",
       "      <td>116000.000</td>\n",
       "      <td>54.853</td>\n",
       "      <td>Residential</td>\n",
       "      <td>Two Family</td>\n",
       "      <td>0</td>\n",
       "      <td>NaN</td>\n",
       "      <td>2002</td>\n",
       "      <td>04</td>\n",
       "      <td>2002-04</td>\n",
       "    </tr>\n",
       "    <tr>\n",
       "      <th>1</th>\n",
       "      <td>694</td>\n",
       "      <td>10005</td>\n",
       "      <td>2001</td>\n",
       "      <td>10/04/2001 12:00:00 AM</td>\n",
       "      <td>Ansonia</td>\n",
       "      <td>1 CRESTWOOD ROAD</td>\n",
       "      <td>76370</td>\n",
       "      <td>160000.000</td>\n",
       "      <td>47.731</td>\n",
       "      <td>Residential</td>\n",
       "      <td>Single Family</td>\n",
       "      <td>0</td>\n",
       "      <td>NaN</td>\n",
       "      <td>2001</td>\n",
       "      <td>10</td>\n",
       "      <td>2001-10</td>\n",
       "    </tr>\n",
       "    <tr>\n",
       "      <th>2</th>\n",
       "      <td>697</td>\n",
       "      <td>10253</td>\n",
       "      <td>2001</td>\n",
       "      <td>06/18/2002 12:00:00 AM</td>\n",
       "      <td>Ansonia</td>\n",
       "      <td>1 DAVIES CT</td>\n",
       "      <td>97720</td>\n",
       "      <td>180000.000</td>\n",
       "      <td>54.289</td>\n",
       "      <td>Residential</td>\n",
       "      <td>Single Family</td>\n",
       "      <td>0</td>\n",
       "      <td>NaN</td>\n",
       "      <td>2002</td>\n",
       "      <td>06</td>\n",
       "      <td>2002-06</td>\n",
       "    </tr>\n",
       "    <tr>\n",
       "      <th>3</th>\n",
       "      <td>698</td>\n",
       "      <td>10094</td>\n",
       "      <td>2001</td>\n",
       "      <td>01/17/2002 12:00:00 AM</td>\n",
       "      <td>Ansonia</td>\n",
       "      <td>1 DOREL TERRACE</td>\n",
       "      <td>110600</td>\n",
       "      <td>259900.000</td>\n",
       "      <td>42.555</td>\n",
       "      <td>Residential</td>\n",
       "      <td>Single Family</td>\n",
       "      <td>0</td>\n",
       "      <td>NaN</td>\n",
       "      <td>2002</td>\n",
       "      <td>01</td>\n",
       "      <td>2002-01</td>\n",
       "    </tr>\n",
       "    <tr>\n",
       "      <th>4</th>\n",
       "      <td>710</td>\n",
       "      <td>10100</td>\n",
       "      <td>2001</td>\n",
       "      <td>01/30/2002 12:00:00 AM</td>\n",
       "      <td>Ansonia</td>\n",
       "      <td>1 JAMES STREET</td>\n",
       "      <td>63210</td>\n",
       "      <td>132000.000</td>\n",
       "      <td>47.886</td>\n",
       "      <td>Residential</td>\n",
       "      <td>Single Family</td>\n",
       "      <td>0</td>\n",
       "      <td>NaN</td>\n",
       "      <td>2002</td>\n",
       "      <td>01</td>\n",
       "      <td>2002-01</td>\n",
       "    </tr>\n",
       "  </tbody>\n",
       "</table>\n",
       "</div>"
      ],
      "text/plain": [
       "    ID  SerialNumber  ListYear            DateRecorded     Town  \\\n",
       "0  684         10173      2001  04/17/2002 12:00:00 AM  Ansonia   \n",
       "1  694         10005      2001  10/04/2001 12:00:00 AM  Ansonia   \n",
       "2  697         10253      2001  06/18/2002 12:00:00 AM  Ansonia   \n",
       "3  698         10094      2001  01/17/2002 12:00:00 AM  Ansonia   \n",
       "4  710         10100      2001  01/30/2002 12:00:00 AM  Ansonia   \n",
       "\n",
       "            Address  AssessedValue  SaleAmount  SalesRatio PropertyType  \\\n",
       "0  1-3 EAGLE STREET          63630  116000.000      54.853  Residential   \n",
       "1  1 CRESTWOOD ROAD          76370  160000.000      47.731  Residential   \n",
       "2       1 DAVIES CT          97720  180000.000      54.289  Residential   \n",
       "3   1 DOREL TERRACE         110600  259900.000      42.555  Residential   \n",
       "4    1 JAMES STREET          63210  132000.000      47.886  Residential   \n",
       "\n",
       "  ResidentialType  NonUseCode Remarks  Year Month YearMonth  \n",
       "0      Two Family           0     NaN  2002    04   2002-04  \n",
       "1   Single Family           0     NaN  2001    10   2001-10  \n",
       "2   Single Family           0     NaN  2002    06   2002-06  \n",
       "3   Single Family           0     NaN  2002    01   2002-01  \n",
       "4   Single Family           0     NaN  2002    01   2002-01  "
      ]
     },
     "execution_count": 379,
     "metadata": {},
     "output_type": "execute_result"
    }
   ],
   "source": [
    "df.head()"
   ]
  },
  {
   "cell_type": "markdown",
   "metadata": {},
   "source": [
    "### Notes on the data frames\n",
    "* Use DataFrame 'df' if you want to look at ALL of the clean data\n",
    "* Use 'use_df' if you want to just look at the rows that don't have NonUseCodes. You should use use_df if you are calculating any statistics.\n",
    "* Use 'res_df' if you want to look at RESIDENTIAL properties (but not condos or apartments) that don't have NonUseCodes. Best way to standardize."
   ]
  },
  {
   "cell_type": "code",
   "execution_count": 380,
   "metadata": {},
   "outputs": [],
   "source": [
    "def get_residential(df):\n",
    "    \"\"\"\n",
    "    Returns just the residential properties.\n",
    "    \"\"\"\n",
    "    return df[df['PropertyType'] == 'Residential']"
   ]
  },
  {
   "cell_type": "code",
   "execution_count": 381,
   "metadata": {},
   "outputs": [],
   "source": [
    "def get_single_family_residential(df):\n",
    "    \"\"\"\n",
    "    Returns just the single family residential properties.\n",
    "    \"\"\"\n",
    "    res = get_residential(df)\n",
    "    return res[res['ResidentialType'] == 'Single Family']"
   ]
  },
  {
   "cell_type": "code",
   "execution_count": 382,
   "metadata": {},
   "outputs": [],
   "source": [
    "def get_commercial(df):\n",
    "    \"\"\"\n",
    "    Returns just the commercial properties.\n",
    "    \"\"\"\n",
    "    return df[df['PropertyType'] == 'Commercial']"
   ]
  },
  {
   "cell_type": "code",
   "execution_count": 383,
   "metadata": {},
   "outputs": [],
   "source": [
    "use_df = df[df['NonUseCode'] < 1]\n",
    "res_df = get_single_family_residential(use_df)\n",
    "\n",
    "# Add the extra columns\n",
    "use_df = split_up_daterecorded(use_df)\n",
    "res_df = split_up_daterecorded(res_df)"
   ]
  },
  {
   "cell_type": "markdown",
   "metadata": {},
   "source": [
    "### Calculate town-by-town statistics"
   ]
  },
  {
   "cell_type": "markdown",
   "metadata": {},
   "source": [
    "#### Dataframes:\n",
    "* town_df for all residential properties without NonUseCodes in time range MINYEAR - MAXYEAR"
   ]
  },
  {
   "cell_type": "code",
   "execution_count": 347,
   "metadata": {},
   "outputs": [],
   "source": [
    "def get_all_town_names():\n",
    "    \"\"\" Returns a pandas Series of all town names, plus 'Connecticut' at the top. In alphabetical order otherwise. \"\"\"\n",
    "    all_towns = list(df['Town'].unique())\n",
    "    all_towns = ['Connecticut'] + all_towns\n",
    "    \n",
    "    return pd.Series(all_towns)"
   ]
  },
  {
   "cell_type": "code",
   "execution_count": 400,
   "metadata": {},
   "outputs": [],
   "source": [
    "def create_new_town_df():\n",
    "    \"\"\"\n",
    "    Returns a new dataframe where each row is a town. The column values are all NaN.\n",
    "    \"\"\"\n",
    "    columns = ['PeakSaleAmount']\n",
    "    return pd.DataFrame(columns=columns, index=get_all_town_names())"
   ]
  },
  {
   "cell_type": "code",
   "execution_count": 401,
   "metadata": {},
   "outputs": [],
   "source": [
    "town_df = create_new_town_df()"
   ]
  },
  {
   "cell_type": "code",
   "execution_count": 437,
   "metadata": {},
   "outputs": [],
   "source": [
    "def calculate_town_peak_saleamount_before_recession(town='Connecticut', source_df=res_df):\n",
    "    \"\"\"\n",
    "    Returns the peak SaleAmount for 'town' before the recession (which I mark at 2008).\n",
    "    Grabs all sales for 'town' from source_df.\n",
    "    \"\"\"\n",
    "    subset = source_df\n",
    "    \n",
    "    # Subset by town \n",
    "    if town != 'Connecticut':\n",
    "        subset = source_df[source_df['Town'] == town]\n",
    "\n",
    "    # Generate a list of medians\n",
    "    yearly_medians = []\n",
    "    for year in range(MIN_YEAR, 2008):\n",
    "        years_median = subset[subset['Year'] == str(year)]['SaleAmount'].median()\n",
    "        yearly_medians += [years_median]\n",
    "   \n",
    "    # Return peak MEDIAN sale amount\n",
    "    return max(yearly_medians)"
   ]
  },
  {
   "cell_type": "code",
   "execution_count": 438,
   "metadata": {},
   "outputs": [],
   "source": [
    "def fill_in_town_df(df, source_df=res_df):\n",
    "    \"\"\"\n",
    "    df should be a blank town dataframe. You can simply pass create_new_town_df() if you want.\n",
    "    Uses source_df's numbers to calculate values to fill in df.\n",
    "    \"\"\"\n",
    "    filled_df = df.copy()\n",
    "    \n",
    "    for town in filled_df.index:\n",
    "        filled_df.loc[town, 'PeakSaleAmount'] = calculate_town_peak_saleamount_before_recession(town, source_df)\n",
    "    \n",
    "    return filled_df"
   ]
  },
  {
   "cell_type": "code",
   "execution_count": 439,
   "metadata": {},
   "outputs": [],
   "source": [
    "town_df = fill_in_town_df(create_new_town_df())"
   ]
  },
  {
   "cell_type": "code",
   "execution_count": 443,
   "metadata": {},
   "outputs": [
    {
     "data": {
      "text/html": [
       "<div>\n",
       "<style scoped>\n",
       "    .dataframe tbody tr th:only-of-type {\n",
       "        vertical-align: middle;\n",
       "    }\n",
       "\n",
       "    .dataframe tbody tr th {\n",
       "        vertical-align: top;\n",
       "    }\n",
       "\n",
       "    .dataframe thead th {\n",
       "        text-align: right;\n",
       "    }\n",
       "</style>\n",
       "<table border=\"1\" class=\"dataframe\">\n",
       "  <thead>\n",
       "    <tr style=\"text-align: right;\">\n",
       "      <th></th>\n",
       "      <th>PeakSaleAmount</th>\n",
       "    </tr>\n",
       "  </thead>\n",
       "  <tbody>\n",
       "    <tr>\n",
       "      <th>Connecticut</th>\n",
       "      <td>315000.000</td>\n",
       "    </tr>\n",
       "    <tr>\n",
       "      <th>Ansonia</th>\n",
       "      <td>250000.000</td>\n",
       "    </tr>\n",
       "    <tr>\n",
       "      <th>Ashford</th>\n",
       "      <td>270000.000</td>\n",
       "    </tr>\n",
       "    <tr>\n",
       "      <th>Avon</th>\n",
       "      <td>505000.000</td>\n",
       "    </tr>\n",
       "    <tr>\n",
       "      <th>Barkhamsted</th>\n",
       "      <td>275000.000</td>\n",
       "    </tr>\n",
       "    <tr>\n",
       "      <th>Berlin</th>\n",
       "      <td>277000.000</td>\n",
       "    </tr>\n",
       "  </tbody>\n",
       "</table>\n",
       "</div>"
      ],
      "text/plain": [
       "            PeakSaleAmount\n",
       "Connecticut     315000.000\n",
       "Ansonia         250000.000\n",
       "Ashford         270000.000\n",
       "Avon            505000.000\n",
       "Barkhamsted     275000.000\n",
       "Berlin          277000.000"
      ]
     },
     "execution_count": 443,
     "metadata": {},
     "output_type": "execute_result"
    }
   ],
   "source": [
    "town_df.head(6)"
   ]
  },
  {
   "cell_type": "markdown",
   "metadata": {},
   "source": [
    "### Timeseries functionality\n",
    "Should be able to make timeseries for individual towns and all towns on:\n",
    "* Median of any column\n",
    "* Number sold in each year"
   ]
  },
  {
   "cell_type": "markdown",
   "metadata": {},
   "source": [
    "#### Median timeseries"
   ]
  },
  {
   "cell_type": "code",
   "execution_count": 415,
   "metadata": {},
   "outputs": [],
   "source": [
    "def get_years_median(column, year, town='Connecticut', source_df=res_df):\n",
    "    \"\"\"\n",
    "    Returns the median value of column for town from year, using data from source_df, as a list.\n",
    "    This is a HELPER FUNCTION for median_timeseries()\n",
    "    \"\"\"\n",
    "    subset = source_df[source_df['Year'] == str(year)]\n",
    "    \n",
    "    # Subset by a specific town\n",
    "    if town != 'Connecticut':\n",
    "        # Get the rows for this town in the given year\n",
    "        subset = subset[subset['Town'] == town]\n",
    "\n",
    "    # Calculate and return the median\n",
    "    median = subset[column].median()\n",
    "    if median == 'nan':\n",
    "        return -1\n",
    "    else:\n",
    "        return median"
   ]
  },
  {
   "cell_type": "code",
   "execution_count": 322,
   "metadata": {},
   "outputs": [],
   "source": [
    "def median_timeseries(column, town='Connecticut', startyear=MIN_YEAR, endyear=MAX_YEAR, source_df=res_df):\n",
    "    \"\"\"\n",
    "    Returns a time series for a particular town and column, from start year to endyear.\n",
    "    Values are the median of column.\n",
    "    Grabs the data from source_df.\n",
    "    \"\"\"\n",
    "    # Make the DataFrame's attributes\n",
    "    index = list(range(startyear, endyear+1))\n",
    "    columns = [town]\n",
    "    \n",
    "    # Generate a list of medians using helper function\n",
    "    list_of_medians = []\n",
    "    for year in index:\n",
    "        list_of_medians.append(get_years_median(column, year, town))\n",
    "        \n",
    "    return pd.DataFrame(data=list_of_medians, index=index, columns=columns)"
   ]
  },
  {
   "cell_type": "code",
   "execution_count": 323,
   "metadata": {},
   "outputs": [],
   "source": [
    "def median_timeseries_all_towns(column, startyear=MIN_YEAR, endyear=MAX_YEAR, source_df=res_df):\n",
    "    \"\"\"\n",
    "    Returns a time series of all towns in CT, as well as the CT average.\n",
    "    Each column is a year with values being the median of 'column' for that town in that year.\n",
    "    \"\"\"\n",
    "    # Make the DataFrame's attributes\n",
    "    columns = list(range(startyear, endyear+1))\n",
    "    time_series = pd.DataFrame(columns=columns, data = median_timeseries(column).transpose())\n",
    "    \n",
    "    # Add in the info for each town\n",
    "    for town in source_df['Town'].unique():\n",
    "        time_series = pd.concat([time_series, median_timeseries(column, town).transpose()])\n",
    "        \n",
    "    # Add in town name column\n",
    "    time_series['Town'] = time_series.index\n",
    "            \n",
    "    return time_series"
   ]
  },
  {
   "cell_type": "code",
   "execution_count": 325,
   "metadata": {},
   "outputs": [
    {
     "ename": "KeyboardInterrupt",
     "evalue": "",
     "output_type": "error",
     "traceback": [
      "\u001b[1;31m---------------------------------------------------------------------------\u001b[0m",
      "\u001b[1;31mKeyboardInterrupt\u001b[0m                         Traceback (most recent call last)",
      "\u001b[1;32m<ipython-input-325-2b1d34ce1b34>\u001b[0m in \u001b[0;36m<module>\u001b[1;34m()\u001b[0m\n\u001b[0;32m      1\u001b[0m \u001b[1;31m# Save the saleamount timeseries for all towns for use later.\u001b[0m\u001b[1;33m\u001b[0m\u001b[1;33m\u001b[0m\u001b[0m\n\u001b[1;32m----> 2\u001b[1;33m \u001b[0msaleamount_ts_all\u001b[0m \u001b[1;33m=\u001b[0m \u001b[0mmedian_timeseries_all_towns\u001b[0m\u001b[1;33m(\u001b[0m\u001b[1;34m'SaleAmount'\u001b[0m\u001b[1;33m)\u001b[0m\u001b[1;33m\u001b[0m\u001b[0m\n\u001b[0m",
      "\u001b[1;32m<ipython-input-323-81ee66f38064>\u001b[0m in \u001b[0;36mmedian_timeseries_all_towns\u001b[1;34m(column, startyear, endyear, source_df)\u001b[0m\n\u001b[0;32m     10\u001b[0m     \u001b[1;31m# Add in the info for each town\u001b[0m\u001b[1;33m\u001b[0m\u001b[1;33m\u001b[0m\u001b[0m\n\u001b[0;32m     11\u001b[0m     \u001b[1;32mfor\u001b[0m \u001b[0mtown\u001b[0m \u001b[1;32min\u001b[0m \u001b[0msource_df\u001b[0m\u001b[1;33m[\u001b[0m\u001b[1;34m'Town'\u001b[0m\u001b[1;33m]\u001b[0m\u001b[1;33m.\u001b[0m\u001b[0munique\u001b[0m\u001b[1;33m(\u001b[0m\u001b[1;33m)\u001b[0m\u001b[1;33m:\u001b[0m\u001b[1;33m\u001b[0m\u001b[0m\n\u001b[1;32m---> 12\u001b[1;33m         \u001b[0mtime_series\u001b[0m \u001b[1;33m=\u001b[0m \u001b[0mpd\u001b[0m\u001b[1;33m.\u001b[0m\u001b[0mconcat\u001b[0m\u001b[1;33m(\u001b[0m\u001b[1;33m[\u001b[0m\u001b[0mtime_series\u001b[0m\u001b[1;33m,\u001b[0m \u001b[0mmedian_timeseries\u001b[0m\u001b[1;33m(\u001b[0m\u001b[0mcolumn\u001b[0m\u001b[1;33m,\u001b[0m \u001b[0mtown\u001b[0m\u001b[1;33m)\u001b[0m\u001b[1;33m.\u001b[0m\u001b[0mtranspose\u001b[0m\u001b[1;33m(\u001b[0m\u001b[1;33m)\u001b[0m\u001b[1;33m]\u001b[0m\u001b[1;33m)\u001b[0m\u001b[1;33m\u001b[0m\u001b[0m\n\u001b[0m\u001b[0;32m     13\u001b[0m \u001b[1;33m\u001b[0m\u001b[0m\n\u001b[0;32m     14\u001b[0m     \u001b[1;31m# Add in town name column\u001b[0m\u001b[1;33m\u001b[0m\u001b[1;33m\u001b[0m\u001b[0m\n",
      "\u001b[1;32m<ipython-input-322-737b6104764d>\u001b[0m in \u001b[0;36mmedian_timeseries\u001b[1;34m(column, town, startyear, endyear, source_df)\u001b[0m\n\u001b[0;32m     12\u001b[0m     \u001b[0mlist_of_medians\u001b[0m \u001b[1;33m=\u001b[0m \u001b[1;33m[\u001b[0m\u001b[1;33m]\u001b[0m\u001b[1;33m\u001b[0m\u001b[0m\n\u001b[0;32m     13\u001b[0m     \u001b[1;32mfor\u001b[0m \u001b[0myear\u001b[0m \u001b[1;32min\u001b[0m \u001b[0mindex\u001b[0m\u001b[1;33m:\u001b[0m\u001b[1;33m\u001b[0m\u001b[0m\n\u001b[1;32m---> 14\u001b[1;33m         \u001b[0mlist_of_medians\u001b[0m\u001b[1;33m.\u001b[0m\u001b[0mappend\u001b[0m\u001b[1;33m(\u001b[0m\u001b[0mget_years_median\u001b[0m\u001b[1;33m(\u001b[0m\u001b[0mcolumn\u001b[0m\u001b[1;33m,\u001b[0m \u001b[0myear\u001b[0m\u001b[1;33m,\u001b[0m \u001b[0mtown\u001b[0m\u001b[1;33m)\u001b[0m\u001b[1;33m)\u001b[0m\u001b[1;33m\u001b[0m\u001b[0m\n\u001b[0m\u001b[0;32m     15\u001b[0m \u001b[1;33m\u001b[0m\u001b[0m\n\u001b[0;32m     16\u001b[0m     \u001b[1;32mreturn\u001b[0m \u001b[0mpd\u001b[0m\u001b[1;33m.\u001b[0m\u001b[0mDataFrame\u001b[0m\u001b[1;33m(\u001b[0m\u001b[0mdata\u001b[0m\u001b[1;33m=\u001b[0m\u001b[0mlist_of_medians\u001b[0m\u001b[1;33m,\u001b[0m \u001b[0mindex\u001b[0m\u001b[1;33m=\u001b[0m\u001b[0mindex\u001b[0m\u001b[1;33m,\u001b[0m \u001b[0mcolumns\u001b[0m\u001b[1;33m=\u001b[0m\u001b[0mcolumns\u001b[0m\u001b[1;33m)\u001b[0m\u001b[1;33m\u001b[0m\u001b[0m\n",
      "\u001b[1;32m<ipython-input-321-c6717dfea3e6>\u001b[0m in \u001b[0;36mget_years_median\u001b[1;34m(column, year, town, source_df)\u001b[0m\n\u001b[0;32m      4\u001b[0m     \u001b[0mThis\u001b[0m \u001b[1;32mis\u001b[0m \u001b[0ma\u001b[0m \u001b[0mHELPER\u001b[0m \u001b[0mFUNCTION\u001b[0m \u001b[1;32mfor\u001b[0m \u001b[0mmedian_timeseries\u001b[0m\u001b[1;33m(\u001b[0m\u001b[1;33m)\u001b[0m\u001b[1;33m\u001b[0m\u001b[0m\n\u001b[0;32m      5\u001b[0m     \"\"\"\n\u001b[1;32m----> 6\u001b[1;33m     \u001b[0msubset\u001b[0m \u001b[1;33m=\u001b[0m \u001b[0msource_df\u001b[0m\u001b[1;33m[\u001b[0m\u001b[0msource_df\u001b[0m\u001b[1;33m[\u001b[0m\u001b[1;34m'Year'\u001b[0m\u001b[1;33m]\u001b[0m \u001b[1;33m==\u001b[0m \u001b[0mstr\u001b[0m\u001b[1;33m(\u001b[0m\u001b[0myear\u001b[0m\u001b[1;33m)\u001b[0m\u001b[1;33m]\u001b[0m\u001b[1;33m\u001b[0m\u001b[0m\n\u001b[0m\u001b[0;32m      7\u001b[0m \u001b[1;33m\u001b[0m\u001b[0m\n\u001b[0;32m      8\u001b[0m     \u001b[1;31m# Subset by a specific town\u001b[0m\u001b[1;33m\u001b[0m\u001b[1;33m\u001b[0m\u001b[0m\n",
      "\u001b[1;32mc:\\python36\\lib\\site-packages\\pandas\\core\\ops.py\u001b[0m in \u001b[0;36mwrapper\u001b[1;34m(self, other, axis)\u001b[0m\n\u001b[0;32m   1251\u001b[0m \u001b[1;33m\u001b[0m\u001b[0m\n\u001b[0;32m   1252\u001b[0m             \u001b[1;32mwith\u001b[0m \u001b[0mnp\u001b[0m\u001b[1;33m.\u001b[0m\u001b[0merrstate\u001b[0m\u001b[1;33m(\u001b[0m\u001b[0mall\u001b[0m\u001b[1;33m=\u001b[0m\u001b[1;34m'ignore'\u001b[0m\u001b[1;33m)\u001b[0m\u001b[1;33m:\u001b[0m\u001b[1;33m\u001b[0m\u001b[0m\n\u001b[1;32m-> 1253\u001b[1;33m                 \u001b[0mres\u001b[0m \u001b[1;33m=\u001b[0m \u001b[0mna_op\u001b[0m\u001b[1;33m(\u001b[0m\u001b[0mvalues\u001b[0m\u001b[1;33m,\u001b[0m \u001b[0mother\u001b[0m\u001b[1;33m)\u001b[0m\u001b[1;33m\u001b[0m\u001b[0m\n\u001b[0m\u001b[0;32m   1254\u001b[0m             \u001b[1;32mif\u001b[0m \u001b[0mis_scalar\u001b[0m\u001b[1;33m(\u001b[0m\u001b[0mres\u001b[0m\u001b[1;33m)\u001b[0m\u001b[1;33m:\u001b[0m\u001b[1;33m\u001b[0m\u001b[0m\n\u001b[0;32m   1255\u001b[0m                 raise TypeError('Could not compare {typ} type with Series'\n",
      "\u001b[1;32mc:\\python36\\lib\\site-packages\\pandas\\core\\ops.py\u001b[0m in \u001b[0;36mna_op\u001b[1;34m(x, y)\u001b[0m\n\u001b[0;32m   1138\u001b[0m \u001b[1;33m\u001b[0m\u001b[0m\n\u001b[0;32m   1139\u001b[0m         \u001b[1;32melif\u001b[0m \u001b[0mis_object_dtype\u001b[0m\u001b[1;33m(\u001b[0m\u001b[0mx\u001b[0m\u001b[1;33m.\u001b[0m\u001b[0mdtype\u001b[0m\u001b[1;33m)\u001b[0m\u001b[1;33m:\u001b[0m\u001b[1;33m\u001b[0m\u001b[0m\n\u001b[1;32m-> 1140\u001b[1;33m             \u001b[0mresult\u001b[0m \u001b[1;33m=\u001b[0m \u001b[0m_comp_method_OBJECT_ARRAY\u001b[0m\u001b[1;33m(\u001b[0m\u001b[0mop\u001b[0m\u001b[1;33m,\u001b[0m \u001b[0mx\u001b[0m\u001b[1;33m,\u001b[0m \u001b[0my\u001b[0m\u001b[1;33m)\u001b[0m\u001b[1;33m\u001b[0m\u001b[0m\n\u001b[0m\u001b[0;32m   1141\u001b[0m \u001b[1;33m\u001b[0m\u001b[0m\n\u001b[0;32m   1142\u001b[0m         \u001b[1;32melif\u001b[0m \u001b[0mis_datetimelike_v_numeric\u001b[0m\u001b[1;33m(\u001b[0m\u001b[0mx\u001b[0m\u001b[1;33m,\u001b[0m \u001b[0my\u001b[0m\u001b[1;33m)\u001b[0m\u001b[1;33m:\u001b[0m\u001b[1;33m\u001b[0m\u001b[0m\n",
      "\u001b[1;31mKeyboardInterrupt\u001b[0m: "
     ]
    }
   ],
   "source": [
    "# Save the saleamount timeseries for all towns for use later.\n",
    "saleamount_ts_all = median_timeseries_all_towns('SaleAmount')"
   ]
  },
  {
   "cell_type": "code",
   "execution_count": null,
   "metadata": {},
   "outputs": [],
   "source": [
    "%save saleamount_ts_all"
   ]
  },
  {
   "cell_type": "code",
   "execution_count": null,
   "metadata": {},
   "outputs": [],
   "source": [
    "saleamount_ts_all.head()"
   ]
  },
  {
   "cell_type": "markdown",
   "metadata": {},
   "source": [
    "#### Number sold time series"
   ]
  },
  {
   "cell_type": "code",
   "execution_count": null,
   "metadata": {},
   "outputs": [],
   "source": [
    "def get_years_sale_count(year, town='Connecticut', source_df=res_df):\n",
    "    \"\"\"\n",
    "    Returns the nummber of sales in one town from year, using data from source_df, as a list.\n",
    "    This is a HELPER FUNCTION for sale_count_timeseries().\n",
    "    \"\"\"\n",
    "    # Subset by town and year\n",
    "    subset = source_df[source_df['Year'] == str(year)]\n",
    "    if town != 'Connecticut':\n",
    "        subset = subset[subset['Town'] == town]\n",
    "\n",
    "    # Calculate and return the length\n",
    "    count = len(subset)\n",
    "    if count == 'nan':\n",
    "        return -1\n",
    "    else:\n",
    "        return count"
   ]
  },
  {
   "cell_type": "code",
   "execution_count": null,
   "metadata": {},
   "outputs": [],
   "source": [
    "def sale_count_timeseries(town='Connecticut', startyear=MIN_YEAR, endyear=MAX_YEAR, source_df=res_df):\n",
    "    \"\"\"\n",
    "    Returns a time series for a particular town and column, from start year to endyear.\n",
    "    Values are the number of sales in that town in that year.\n",
    "    Grabs the data from source_df.\n",
    "    \"\"\"\n",
    "    # Make the DataFrame's attributes\n",
    "    index = list(range(startyear, endyear+1))\n",
    "    columns = [town]\n",
    "    \n",
    "    # Generate a list of medians using helper function\n",
    "    list_of_sale_counts = []\n",
    "    for year in index:\n",
    "        list_of_sale_counts.append(get_years_sale_count(year, town))\n",
    "        \n",
    "    return pd.DataFrame(data=list_of_sale_counts, index=index, columns=columns)"
   ]
  },
  {
   "cell_type": "code",
   "execution_count": null,
   "metadata": {},
   "outputs": [],
   "source": [
    "def sale_count_timeseries_all_towns(startyear=MIN_YEAR, endyear=MAX_YEAR, source_df=res_df):\n",
    "    \"\"\"\n",
    "    Returns a time series of all towns in CT, as well as the CT average.\n",
    "    Each column is a year with values being the number of homes sold in that town in that year.\n",
    "    \"\"\"\n",
    "    # Make the DataFrame's attributes\n",
    "    columns = list(range(startyear, endyear+1))\n",
    "    time_series = pd.DataFrame(columns=columns, data = sale_count_timeseries('Connecticut', startyear, endyear).transpose())\n",
    "    \n",
    "    for town in source_df['Town'].unique():\n",
    "        time_series = pd.concat([time_series, sale_count_timeseries(town, startyear, endyear).transpose()])\n",
    "            \n",
    "    return time_series"
   ]
  },
  {
   "cell_type": "code",
   "execution_count": null,
   "metadata": {},
   "outputs": [],
   "source": [
    "sale_count_ts_all_towns = sale_count_timeseries_all_towns()"
   ]
  },
  {
   "cell_type": "code",
   "execution_count": null,
   "metadata": {},
   "outputs": [],
   "source": [
    "%store sale_count_ts_all_towns"
   ]
  },
  {
   "cell_type": "markdown",
   "metadata": {},
   "source": [
    "### Fact check your SaleAmount medians and NumberSold"
   ]
  },
  {
   "cell_type": "markdown",
   "metadata": {},
   "source": [
    "#### Cross-check median sale amount with Warren Group:\n",
    "\"A total of 3,829 single-family homes were sold in Connecticut during the month of August, compared with 3,776 sold in August 2016... Meanwhile, the median price of a single-family home increased 1.9 percent in August to \\$265,000, compared with __\\$260,000__ a year ago.\" from https://thewarrengroup.com/2017/09/26/conn-single-family-edge-higher-in-august/"
   ]
  },
  {
   "cell_type": "code",
   "execution_count": 32,
   "metadata": {},
   "outputs": [
    {
     "name": "stdout",
     "output_type": "stream",
     "text": [
      "Number of single family homes sold in August 2016: 3408\n"
     ]
    }
   ],
   "source": [
    "aug_2016 = res_df[(res_df['Year'] == '2016') & (res_df['Month'] == '08')]\n",
    "print(\"Number of single family homes sold in August 2016: \" + str(get_years_sale_count(2016, 'Connecticut', source_df = aug_2016)))"
   ]
  },
  {
   "cell_type": "code",
   "execution_count": 33,
   "metadata": {},
   "outputs": [
    {
     "name": "stdout",
     "output_type": "stream",
     "text": [
      "August 2016 sale price median: 255000.0\n"
     ]
    }
   ],
   "source": [
    "print(\"August 2016 sale price median: \" + str(get_years_median('SaleAmount', 2016, 'Connecticut', source_df = aug_2016)))"
   ]
  },
  {
   "cell_type": "markdown",
   "metadata": {},
   "source": [
    "__Another Warren Group example:__\n",
    "\"A total of 2,139 single-family homes sold in Connecticut during the month \\[of March, 2016\\] compared with 1,768 sold in March 2015... The median price of a single-family home fell by 3 percent in March to \\$225,000 compared with \\$232,000 a year ago.\"\n",
    "from https://thewarrengroup.com/2016/05/10/connecticut-home-sales-continue-torrid-pace-in-march/"
   ]
  },
  {
   "cell_type": "code",
   "execution_count": 34,
   "metadata": {},
   "outputs": [
    {
     "name": "stdout",
     "output_type": "stream",
     "text": [
      "Number of homes sold in March 2015: 2929\n"
     ]
    }
   ],
   "source": [
    "mar_2015 = res_df[(res_df['Year'] == '2015') & (res_df['Month'] == '03')]\n",
    "print(\"Number of homes sold in March 2015: \" + str(get_years_sale_count(2015, 'Connecticut', source_df = mar_2015)))"
   ]
  },
  {
   "cell_type": "code",
   "execution_count": 35,
   "metadata": {},
   "outputs": [
    {
     "name": "stdout",
     "output_type": "stream",
     "text": [
      "Median price from March to March: 225000.0\n"
     ]
    }
   ],
   "source": [
    "# WG calculates median from March 2015 to March 2016\n",
    "mar_15_on = res_df[(res_df['Year'] == '2015') & (res_df['Month'].isin(['03', '04', '05', '06', '07', '08', '09',\n",
    "                                                                      '10', '11', '12']))]\n",
    "up_to_mar_16 = res_df[(res_df['Year'] == '2016') & (res_df['Month'].isin(['01', '02', '03']))]\n",
    "mar_15_to_mar_16 = pd.concat([mar_15_on, up_to_mar_16])\n",
    "\n",
    "print(\"Median price from March to March: \" + str(mar_15_to_mar_16['SaleAmount'].median()))"
   ]
  },
  {
   "cell_type": "markdown",
   "metadata": {},
   "source": [
    "#### Cross-check median sale price and  number sold with CTRealtors:\n",
    "\"Connecticut REALTORS® reports that the single-family residential home median sales price is \\$237,000 *which\n",
    "reflects a 3.1 percent increase* from \\$229,900 in that same time period last year. Median indicates that half the\n",
    "homes sold for more and half for less. Single-family residential home sales in Connecticut increased 5.1 percent\n",
    "comparing March 2017 to March 2016. The total units of homes sold were 2,527 in March 2017 and 2,404 in\n",
    "March 2016.\" from https://www.ctrealtors.com/Customer-Content/www/press-releases/PDFs/Stats-2017March.pdf"
   ]
  },
  {
   "cell_type": "code",
   "execution_count": 36,
   "metadata": {},
   "outputs": [
    {
     "name": "stdout",
     "output_type": "stream",
     "text": [
      "March 2016 sale price median: 233750.0\n"
     ]
    }
   ],
   "source": [
    "mar_2016 = res_df[(res_df['Year'] == '2016') & (res_df['Month'] == '03')]\n",
    "print(\"March 2016 sale price median: \" + str(get_years_median('SaleAmount', 2016, 'Connecticut', source_df = mar_2016)))"
   ]
  },
  {
   "cell_type": "code",
   "execution_count": 37,
   "metadata": {},
   "outputs": [
    {
     "name": "stdout",
     "output_type": "stream",
     "text": [
      "Single family homes: 1838\n",
      "All residential homes: 1852\n"
     ]
    }
   ],
   "source": [
    "mar_2016_single_family_homes = res_df[(res_df['Year'] == '2016') & (res_df['Month'] == '03')]\n",
    "print(\"Single family homes: \" + str(len(mar_2016_single_family_homes)))\n",
    "mar_2016_all_residential = get_residential(use_df)\n",
    "mar_2016_all_residential = mar_2016_all_residential[(mar_2016_all_residential['Year'] == '2016')\n",
    "                                                   & (mar_2016_all_residential['Month'] == '03')]\n",
    "print(\"All residential homes: \" + str(len(mar_2016_all_residential)))"
   ]
  },
  {
   "cell_type": "markdown",
   "metadata": {},
   "source": [
    "#### Cross-check numer sold with CTRealtors:\n",
    "\"The total units of homes sold were 2,307 in January 2017 and 2,020 in January 2016.\" (From https://ctrealtors.com/Customer-Content/www/press-releases/PDFs/Stats-2017January.pdf)\n",
    "\n",
    "(*Note:* I am unable to find info on the *total* number of sales in 2016, but WG and CTRealtors do mention monthly sale numbers in their reports.)"
   ]
  },
  {
   "cell_type": "code",
   "execution_count": 38,
   "metadata": {},
   "outputs": [
    {
     "name": "stdout",
     "output_type": "stream",
     "text": [
      "1457\n",
      "Again, sale count is way low.\n"
     ]
    }
   ],
   "source": [
    "jan_2016 = res_df[(res_df['Year'] == '2016') & (res_df['Month'] == '01')]\n",
    "print(get_years_sale_count(2016, 'Connecticut', source_df=jan_2016)) # Should be close to 2,020\n",
    "print(\"Again, sale count is way low.\")"
   ]
  },
  {
   "cell_type": "markdown",
   "metadata": {},
   "source": [
    "#### Try with WG August report\n",
    "\"A total of 3,829 single-family homes were sold in Connecticut during the month of August, compared with 3,776 sold in August 2016.\" from https://thewarrengroup.com/2017/09/26/conn-single-family-edge-higher-in-august/"
   ]
  },
  {
   "cell_type": "code",
   "execution_count": 39,
   "metadata": {},
   "outputs": [
    {
     "name": "stdout",
     "output_type": "stream",
     "text": [
      "2632\n"
     ]
    }
   ],
   "source": [
    "aug_2016 = res_df[(res_df['Year'] == '2016') & (res_df['Month'] == '09')]\n",
    "print(len(aug_2016)) # Should be close to 3,776"
   ]
  },
  {
   "cell_type": "markdown",
   "metadata": {},
   "source": [
    "#### Will come back to this."
   ]
  },
  {
   "cell_type": "markdown",
   "metadata": {},
   "source": [
    "### Calculate recovery of median sale amount for each town\n",
    "Use town_df to grab the peak sale amount"
   ]
  },
  {
   "cell_type": "markdown",
   "metadata": {},
   "source": []
  },
  {
   "cell_type": "markdown",
   "metadata": {},
   "source": [
    "### Load in population and median income data for each town to help with town subsetting.\n",
    "* Town-by-town population estimates come from CT DPH: https://portal.ct.gov/DPH/Health-Information-Systems--Reporting/Population/Annual-Town-and-County-Population-for-Connecticut\n",
    "* Median income data from Census Bureau via CT Data Collaborative http://data.ctdata.org/dataset/median-household-income-by-town"
   ]
  },
  {
   "cell_type": "markdown",
   "metadata": {},
   "source": [
    "#### Population data"
   ]
  },
  {
   "cell_type": "code",
   "execution_count": 40,
   "metadata": {},
   "outputs": [],
   "source": [
    "# Clean town population data by separating the pairs of columns and concatenate them into one datafame\n",
    "def clean_town_population_df(raw_df):\n",
    "    \"\"\"\n",
    "    Returns a clean version of the raw town population df.\n",
    "    \"\"\"\n",
    "    clean_df = raw_df.copy()\n",
    "    \n",
    "    # Split up column pairs\n",
    "    town_pop_section_1 = clean_df[['Town', 'Est. Pop.']]\n",
    "    town_pop_section_2 = clean_df[['Town.1', 'Est. Pop..1']]\n",
    "    town_pop_section_3 = clean_df[['Town.2', 'Est. Pop..2']]\n",
    "    town_pop_section_4 = clean_df[['Town.3', 'Est. Pop..3']]\n",
    "    \n",
    "    # Trim off the NaN rows at the end of each section\n",
    "    town_pop_section_1 = town_pop_section_1[0:-9]\n",
    "    town_pop_section_2 = town_pop_section_2[0:-9]\n",
    "    town_pop_section_3 = town_pop_section_3[0:-9]\n",
    "    town_pop_section_4 = town_pop_section_4[0:-8]\n",
    "    \n",
    "    # Fix column names in order to concatenate properly\n",
    "    columns = ['Town', 'Population']\n",
    "    town_pop_section_1.columns = columns\n",
    "    town_pop_section_2.columns = columns\n",
    "    town_pop_section_3.columns = columns\n",
    "    town_pop_section_4.columns = columns\n",
    "    \n",
    "    clean_df = pd.concat([town_pop_section_1, town_pop_section_2, town_pop_section_3, town_pop_section_4]).reset_index(drop=True)\n",
    "\n",
    "\n",
    "    for index in clean_df.index:\n",
    "        # remove commas\n",
    "        clean_df.loc[index, 'Population'] = str(clean_df.iloc[index]['Population']).replace(',','')\n",
    "    \n",
    "    clean_df['Population'] = clean_df['Population'].astype(float)\n",
    "    \n",
    "    return clean_df"
   ]
  },
  {
   "cell_type": "code",
   "execution_count": 41,
   "metadata": {},
   "outputs": [],
   "source": [
    "town_pop_df = clean_town_population_df(\n",
    "pd.read_excel(\"https://portal.ct.gov/-/media/Departments-and-Agencies/DPH/Population/Town-Pop/pop_towns2016xlsx.xlsx?la=en\",\n",
    "                             skiprows=10))"
   ]
  },
  {
   "cell_type": "code",
   "execution_count": 42,
   "metadata": {},
   "outputs": [],
   "source": [
    "def clean_town_income_df(raw_df):\n",
    "    \"\"\"\n",
    "    Returns a clean version of raw town income data.\n",
    "    Grabs info for each town where Race/Ethnicity = All, Measure Type = Number, Variable = Median Household Income,\n",
    "    and Year = 2012-2016.\n",
    "    \"\"\"\n",
    "    clean_df = raw_df.copy()\n",
    "    \n",
    "    # Grab only select info\n",
    "    clean_df = clean_df[(clean_df['Race/Ethnicity'] == 'All') & (clean_df['Year'] == '2012-2016')\n",
    "                       & (clean_df['Measure Type'] == 'Number') & (clean_df['Variable'] == 'Median Household Income')]\n",
    "    \n",
    "    # Put Connecticut at the top of the dataframe while maintaining alphabetical order otherwise\n",
    "    ct_row = clean_df[clean_df['Town'] == 'Connecticut'] # Grab CT row\n",
    "    clean_df = clean_df[clean_df['Town'] != 'Connecticut'] # Remove it from middle of df\n",
    "    clean_df = pd.concat([ct_row, clean_df]) # Add CT back to top\n",
    "    \n",
    "    # Drop unwanted columns\n",
    "    clean_df = clean_df[['Town', 'FIPS', 'Value']]\n",
    "    \n",
    "    # Rename columns\n",
    "    clean_df.columns = ['Town', 'FIPS', 'MedianHouseholdIncome']\n",
    "    \n",
    "    return clean_df.reset_index(drop=True)"
   ]
  },
  {
   "cell_type": "code",
   "execution_count": 43,
   "metadata": {},
   "outputs": [],
   "source": [
    "town_income_df = clean_town_income_df(pd.read_csv(\"http://data.ctdata.org/dataset/68296d39-d0f7-4e2d-ba0e-98a3463ab58f/resource/1a962569-c6b3-4031-b7b1-f051e9c12379/download/median-household-income-town-2016.csv\"))"
   ]
  },
  {
   "cell_type": "markdown",
   "metadata": {},
   "source": [
    "#### Now merge this new info into town_df_copy"
   ]
  },
  {
   "cell_type": "code",
   "execution_count": 44,
   "metadata": {},
   "outputs": [],
   "source": [
    "def add_population_and_income_data(df, town_pop, town_income):\n",
    "    \"\"\"\n",
    "    Assuming df has Town names, will join data from town_income_df and town_population_df by town.\n",
    "    Specifically, grabs 'Population' from town_pop and 'MedianHouseholdIncome', as well as 'FIPS', from town_income.\n",
    "    \"\"\"\n",
    "    new_df = df.copy()\n",
    "    new_df = df.merge(right = town_pop[['Town','Population']], on='Town')\n",
    "    new_df = new_df.merge(right = town_income[['Town','MedianHouseholdIncome','FIPS']], on = 'Town')\n",
    "    return new_df"
   ]
  },
  {
   "cell_type": "code",
   "execution_count": 45,
   "metadata": {},
   "outputs": [],
   "source": [
    "town_df_copy = add_population_and_income_data(town_df, town_pop_df, town_income_df)"
   ]
  },
  {
   "cell_type": "code",
   "execution_count": 46,
   "metadata": {},
   "outputs": [
    {
     "data": {
      "text/html": [
       "<div>\n",
       "<style scoped>\n",
       "    .dataframe tbody tr th:only-of-type {\n",
       "        vertical-align: middle;\n",
       "    }\n",
       "\n",
       "    .dataframe tbody tr th {\n",
       "        vertical-align: top;\n",
       "    }\n",
       "\n",
       "    .dataframe thead th {\n",
       "        text-align: right;\n",
       "    }\n",
       "</style>\n",
       "<table border=\"1\" class=\"dataframe\">\n",
       "  <thead>\n",
       "    <tr style=\"text-align: right;\">\n",
       "      <th></th>\n",
       "      <th>Town</th>\n",
       "      <th>MedianAssessedValue</th>\n",
       "      <th>MedianSaleAmount</th>\n",
       "      <th>MedianSalesRatio</th>\n",
       "      <th>MinAssessedValue</th>\n",
       "      <th>MaxAssessedValue</th>\n",
       "      <th>MinSaleAmount</th>\n",
       "      <th>MaxSaleAmount</th>\n",
       "      <th>MinSalesRatio</th>\n",
       "      <th>MaxSalesRatio</th>\n",
       "      <th>Population</th>\n",
       "      <th>MedianHouseholdIncome</th>\n",
       "      <th>FIPS</th>\n",
       "    </tr>\n",
       "  </thead>\n",
       "  <tbody>\n",
       "    <tr>\n",
       "      <th>0</th>\n",
       "      <td>Ansonia</td>\n",
       "      <td>122750.000</td>\n",
       "      <td>199450.000</td>\n",
       "      <td>0.642</td>\n",
       "      <td>61600</td>\n",
       "      <td>234800</td>\n",
       "      <td>64900.000</td>\n",
       "      <td>307000.000</td>\n",
       "      <td>0.425</td>\n",
       "      <td>1.132</td>\n",
       "      <td>18732.000</td>\n",
       "      <td>43386.000</td>\n",
       "      <td>900901220</td>\n",
       "    </tr>\n",
       "    <tr>\n",
       "      <th>1</th>\n",
       "      <td>Ashford</td>\n",
       "      <td>136050.000</td>\n",
       "      <td>195500.000</td>\n",
       "      <td>0.681</td>\n",
       "      <td>66900</td>\n",
       "      <td>263600</td>\n",
       "      <td>84900.000</td>\n",
       "      <td>325000.000</td>\n",
       "      <td>0.473</td>\n",
       "      <td>0.992</td>\n",
       "      <td>4236.000</td>\n",
       "      <td>78313.000</td>\n",
       "      <td>901501430</td>\n",
       "    </tr>\n",
       "    <tr>\n",
       "      <th>2</th>\n",
       "      <td>Avon</td>\n",
       "      <td>250155.000</td>\n",
       "      <td>362500.000</td>\n",
       "      <td>0.713</td>\n",
       "      <td>62220</td>\n",
       "      <td>1908500</td>\n",
       "      <td>72000.000</td>\n",
       "      <td>2500000.000</td>\n",
       "      <td>0.500</td>\n",
       "      <td>1.032</td>\n",
       "      <td>18364.000</td>\n",
       "      <td>124608.000</td>\n",
       "      <td>900302060</td>\n",
       "    </tr>\n",
       "    <tr>\n",
       "      <th>3</th>\n",
       "      <td>Barkhamsted</td>\n",
       "      <td>167950.000</td>\n",
       "      <td>257500.000</td>\n",
       "      <td>0.671</td>\n",
       "      <td>119300</td>\n",
       "      <td>386460</td>\n",
       "      <td>168000.000</td>\n",
       "      <td>560000.000</td>\n",
       "      <td>0.567</td>\n",
       "      <td>0.834</td>\n",
       "      <td>3664.000</td>\n",
       "      <td>104899.000</td>\n",
       "      <td>900502760</td>\n",
       "    </tr>\n",
       "    <tr>\n",
       "      <th>4</th>\n",
       "      <td>Berlin</td>\n",
       "      <td>166300.000</td>\n",
       "      <td>260000.000</td>\n",
       "      <td>0.662</td>\n",
       "      <td>65000</td>\n",
       "      <td>415900</td>\n",
       "      <td>88000.000</td>\n",
       "      <td>592000.000</td>\n",
       "      <td>0.467</td>\n",
       "      <td>0.972</td>\n",
       "      <td>20499.000</td>\n",
       "      <td>93750.000</td>\n",
       "      <td>900304300</td>\n",
       "    </tr>\n",
       "  </tbody>\n",
       "</table>\n",
       "</div>"
      ],
      "text/plain": [
       "          Town MedianAssessedValue MedianSaleAmount MedianSalesRatio  \\\n",
       "0      Ansonia          122750.000       199450.000            0.642   \n",
       "1      Ashford          136050.000       195500.000            0.681   \n",
       "2         Avon          250155.000       362500.000            0.713   \n",
       "3  Barkhamsted          167950.000       257500.000            0.671   \n",
       "4       Berlin          166300.000       260000.000            0.662   \n",
       "\n",
       "  MinAssessedValue MaxAssessedValue MinSaleAmount MaxSaleAmount MinSalesRatio  \\\n",
       "0            61600           234800     64900.000    307000.000         0.425   \n",
       "1            66900           263600     84900.000    325000.000         0.473   \n",
       "2            62220          1908500     72000.000   2500000.000         0.500   \n",
       "3           119300           386460    168000.000    560000.000         0.567   \n",
       "4            65000           415900     88000.000    592000.000         0.467   \n",
       "\n",
       "  MaxSalesRatio  Population  MedianHouseholdIncome       FIPS  \n",
       "0         1.132   18732.000              43386.000  900901220  \n",
       "1         0.992    4236.000              78313.000  901501430  \n",
       "2         1.032   18364.000             124608.000  900302060  \n",
       "3         0.834    3664.000             104899.000  900502760  \n",
       "4         0.972   20499.000              93750.000  900304300  "
      ]
     },
     "execution_count": 46,
     "metadata": {},
     "output_type": "execute_result"
    }
   ],
   "source": [
    "town_df_copy.head()"
   ]
  },
  {
   "cell_type": "markdown",
   "metadata": {},
   "source": [
    "#### Reorder columns for better readability"
   ]
  },
  {
   "cell_type": "code",
   "execution_count": 47,
   "metadata": {},
   "outputs": [],
   "source": [
    "town_df_copy = town_df_copy[['Town', 'FIPS', 'Population', \n",
    "                   'MedianHouseholdIncome', 'MedianSaleAmount', 'MaxSaleAmount', 'MinSaleAmount',\n",
    "                   'MedianAssessedValue', 'MaxAssessedValue', 'MinAssessedValue', 'MaxSalesRatio', 'MinSalesRatio']]"
   ]
  },
  {
   "cell_type": "code",
   "execution_count": 48,
   "metadata": {},
   "outputs": [
    {
     "name": "stdout",
     "output_type": "stream",
     "text": [
      "Stored 'town_df_copy' (DataFrame)\n"
     ]
    }
   ],
   "source": [
    "%store town_df_copy"
   ]
  },
  {
   "cell_type": "code",
   "execution_count": 49,
   "metadata": {},
   "outputs": [],
   "source": [
    "town_df = town_df_copy"
   ]
  },
  {
   "cell_type": "markdown",
   "metadata": {},
   "source": [
    "### Calculate SaleAmount recovery\n",
    "Look at the peak median SaleAmount before the Recession and compare it to median SaleAmount in 2016."
   ]
  },
  {
   "cell_type": "markdown",
   "metadata": {},
   "source": [
    "### Seasonally adjust SaleAmount"
   ]
  },
  {
   "cell_type": "code",
   "execution_count": 50,
   "metadata": {},
   "outputs": [],
   "source": [
    "from statsmodels.tsa.seasonal import seasonal_decompose\n",
    "import matplotlib.pyplot as plt"
   ]
  },
  {
   "cell_type": "code",
   "execution_count": 51,
   "metadata": {},
   "outputs": [
    {
     "data": {
      "text/plain": [
       "<matplotlib.axes._subplots.AxesSubplot at 0x25150d66630>"
      ]
     },
     "execution_count": 51,
     "metadata": {},
     "output_type": "execute_result"
    },
    {
     "data": {
      "image/png": "[encoded data removed]",
      "text/plain": [
       "<Figure size 432x288 with 1 Axes>"
      ]
     },
     "metadata": {},
     "output_type": "display_data"
    }
   ],
   "source": [
    "# Seasonally unadjusted median sale amount for Berlin\n",
    "median_timeseries(\"SaleAmount\", \"Berlin\").plot()"
   ]
  },
  {
   "cell_type": "code",
   "execution_count": 52,
   "metadata": {},
   "outputs": [],
   "source": [
    "berlin_saleamount_ts = median_timeseries(\"SaleAmount\", \"Berlin\")"
   ]
  },
  {
   "cell_type": "markdown",
   "metadata": {},
   "source": [
    "### Identify surge in 2014 sales of homes, properties <\\$100,000"
   ]
  },
  {
   "cell_type": "code",
   "execution_count": 53,
   "metadata": {},
   "outputs": [],
   "source": [
    "sales_under_100k_ts = sale_count_timeseries_all_towns(source_df = df[df['SaleAmount'] < 100000])"
   ]
  },
  {
   "cell_type": "code",
   "execution_count": 54,
   "metadata": {},
   "outputs": [],
   "source": [
    "homes_under_100k_useable = use_df[use_df['SaleAmount'] < 100000]"
   ]
  },
  {
   "cell_type": "code",
   "execution_count": 55,
   "metadata": {},
   "outputs": [
    {
     "name": "stdout",
     "output_type": "stream",
     "text": [
      "2001: 2040\n",
      "2002: 7067\n",
      "2003: 5266\n",
      "2004: 5473\n",
      "2005: 4304\n",
      "2006: 2424\n",
      "2007: 1393\n",
      "2008: 1019\n",
      "2009: 1172\n",
      "2010: 1286\n",
      "2011: 1225\n",
      "2012: 1371\n",
      "2013: 1566\n",
      "2014: 3733\n",
      "2015: 7229\n",
      "2016: 2158\n"
     ]
    }
   ],
   "source": [
    "# Only transactions without NonUseCodes\n",
    "num_sales = []\n",
    "for year in range(2001, 2017):\n",
    "    print(str(year) + \": \" + str(len(homes_under_100k_useable[homes_under_100k_useable['Year'] == str(year)])))\n",
    "    num_sales += [len(homes_under_100k_useable[homes_under_100k_useable['Year'] == str(year)])]"
   ]
  },
  {
   "cell_type": "code",
   "execution_count": 56,
   "metadata": {},
   "outputs": [],
   "source": [
    "homes_under_100k_all = df[df['SaleAmount'] < 100000]"
   ]
  },
  {
   "cell_type": "code",
   "execution_count": 57,
   "metadata": {},
   "outputs": [
    {
     "name": "stdout",
     "output_type": "stream",
     "text": [
      "2001: 3685\n",
      "2002: 13360\n",
      "2003: 10170\n",
      "2004: 10934\n",
      "2005: 9353\n",
      "2006: 5457\n",
      "2007: 4145\n",
      "2008: 3905\n",
      "2009: 5377\n",
      "2010: 6280\n",
      "2011: 4967\n",
      "2012: 5909\n",
      "2013: 6327\n",
      "2014: 8005\n",
      "2015: 9086\n",
      "2016: 8192\n"
     ]
    }
   ],
   "source": [
    "# ALL transactions-- whether or not they have NonUseCodes\n",
    "num_sales = []\n",
    "for year in range(2001, 2017):\n",
    "    print(str(year) + \": \" + str(len(homes_under_100k_all[homes_under_100k_all['Year'] == str(year)])))\n",
    "    num_sales += [len(homes_under_100k_all[homes_under_100k_all['Year'] == str(year)])]"
   ]
  },
  {
   "cell_type": "markdown",
   "metadata": {},
   "source": [
    "### Create a timeseries of monthly medians for the state, and seasonally adjust these values"
   ]
  },
  {
   "cell_type": "code",
   "execution_count": 24,
   "metadata": {},
   "outputs": [],
   "source": [
    "import statsmodels.api as sm"
   ]
  },
  {
   "cell_type": "code",
   "execution_count": 182,
   "metadata": {},
   "outputs": [],
   "source": [
    "def return_valid_months(df, minyear=MIN_YEAR, maxyear=MAX_YEAR):\n",
    "    \"\"\"\n",
    "    Given a df of sales transactions, this will return a list of unique YearMonths (df['YearMonth']) and ensure that these\n",
    "    are all formatted properly and make sense (i.e. no year less than MIN_YEAR or greater than MAX_YEAR)\n",
    "    \"\"\"\n",
    "    months = list(df['YearMonth'].unique())\n",
    "    \n",
    "    # Remove wonky YearMonths\n",
    "    for month in months:\n",
    "        # Should have the format YYYY-MM at this point\n",
    "        if len(str(month)) != 7:\n",
    "            months.remove(month)\n",
    "    \n",
    "    # Sort chronologically and reconvert to datetime\n",
    "    months = sorted(months)\n",
    "    map(lambda x: pd.to_datetime(x), months)\n",
    "    \n",
    "    return months"
   ]
  },
  {
   "cell_type": "code",
   "execution_count": 286,
   "metadata": {},
   "outputs": [],
   "source": [
    "def calculate_seasonal_adjustments(timeseries_df):\n",
    "    \"\"\"\n",
    "    Given a timeseries, this will return a dataframe of its seasonally adjusted values.\n",
    "    A HELPER FUNCTION for monthly_median_timeseries()\n",
    "    \"\"\"\n",
    "    import statsmodels.api as sm\n",
    "    sa = sm.tsa.seasonal_decompose(x=timeseries_df, model='additive', freq=12)\n",
    "    return sa.trend"
   ]
  },
  {
   "cell_type": "code",
   "execution_count": 292,
   "metadata": {},
   "outputs": [],
   "source": [
    "def calculate_monthly_medians(df, list_of_months, column):\n",
    "    \"\"\"\n",
    "    Calculates a median of 'column' for each month in 'list_of_months' and returns this as a dataframe.\n",
    "    \"\"\"\n",
    "    monthly_medians = {}\n",
    "    for month in list_of_months:\n",
    "        \n",
    "        # Grab all the sales with this month\n",
    "        month_sales = df[df['YearMonth'] == month]\n",
    "        \n",
    "        # Calculate the median and store in the dictionary\n",
    "        median = month_sales[column].median()\n",
    "        monthly_medians[month] = median\n",
    "    \n",
    "    # Now make this into a dataframe to return\n",
    "    ts = pd.DataFrame(columns = [str(column)], index=monthly_medians.keys())\n",
    "    for index in ts.index:\n",
    "        ts.loc[index, str(column)] = monthly_medians[index]\n",
    "\n",
    "    # Convert type to int\n",
    "    ts[column] = ts[column].astype(dtype=int, errors='ignore')\n",
    "    \n",
    "    return ts"
   ]
  },
  {
   "cell_type": "code",
   "execution_count": 289,
   "metadata": {},
   "outputs": [],
   "source": [
    "def monthly_median_timeseries(column, town='Connecticut', minyear=MIN_YEAR, maxyear=MAX_YEAR, source_df=res_df):\n",
    "    \"\"\"\n",
    "    Returns a monthly time series with 3 columns: one for the month (in YYYY-MM format), one for the median of 'column'\n",
    "    in source_df, and one for the seasonall adjusted value of each median.\n",
    "    \"\"\"\n",
    "    # Grab just the 'town' you are interested in\n",
    "    if town != 'Connecticut':\n",
    "        subset = source_df[source_df['Town'] == town]\n",
    "    else:\n",
    "        subset = source_df\n",
    "    \n",
    "    # Grab just the 'YearMonth' and 'column' columns for this subset\n",
    "    subset = subset[['YearMonth', column]].sort_values('YearMonth', ascending=True)\n",
    "    \n",
    "    # Get an ordered, valid list of months. Catches any errors such as NaN months or months of the wrong format\n",
    "    months = return_valid_months(subset, minyear, maxyear)\n",
    "    \n",
    "    # Calculate monthly medians and create a timeseries for them\n",
    "    ts = calculate_monthly_medians(subset, months, column)\n",
    "    \n",
    "    # Calculate seasonal adjustments\n",
    "    sa = calculate_seasonal_adjustments(ts)\n",
    "    \n",
    "    # Merge and fix columns\n",
    "    ts = pd.merge(left=ts, right=sa, on = ts.index)\n",
    "    ts.columns = ['Month', column, 'SeasonallyAdjusted']\n",
    "    \n",
    "    ts.index = pd.to_datetime(ts.index, yearfirst=True) # Convert index back to DateTime\n",
    "    return ts"
   ]
  },
  {
   "cell_type": "code",
   "execution_count": 290,
   "metadata": {},
   "outputs": [],
   "source": [
    "ct_monthly_ts = monthly_median_timeseries('SaleAmount', 'Connecticut')"
   ]
  },
  {
   "cell_type": "code",
   "execution_count": 291,
   "metadata": {},
   "outputs": [
    {
     "data": {
      "text/plain": [
       "<matplotlib.axes._subplots.AxesSubplot at 0x1f709a5f9e8>"
      ]
     },
     "execution_count": 291,
     "metadata": {},
     "output_type": "execute_result"
    },
    {
     "data": {
      "image/png": "[encoded data removed]",
      "text/plain": [
       "<Figure size 432x288 with 1 Axes>"
      ]
     },
     "metadata": {},
     "output_type": "display_data"
    }
   ],
   "source": [
    "ct_monthly_ts.plot(x='Month', y=['SaleAmount', 'SeasonallyAdjusted'])"
   ]
  },
  {
   "cell_type": "code",
   "execution_count": null,
   "metadata": {},
   "outputs": [],
   "source": []
  }
 ],
 "metadata": {
  "kernelspec": {
   "display_name": "Python 3",
   "language": "python",
   "name": "python3"
  },
  "language_info": {
   "codemirror_mode": {
    "name": "ipython",
    "version": 3
   },
   "file_extension": ".py",
   "mimetype": "text/x-python",
   "name": "python",
   "nbconvert_exporter": "python",
   "pygments_lexer": "ipython3",
   "version": "3.6.5"
  }
 },
 "nbformat": 4,
 "nbformat_minor": 2
}
